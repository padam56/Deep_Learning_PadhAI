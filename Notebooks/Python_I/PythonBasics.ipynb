{
  "nbformat": 4,
  "nbformat_minor": 0,
  "metadata": {
    "colab": {
      "name": "PythonBasics.ipynb",
      "provenance": []
    },
    "kernelspec": {
      "name": "python3",
      "display_name": "Python 3"
    }
  },
  "cells": [
    {
      "cell_type": "markdown",
      "source": [
        "# Section 1\n",
        "Simple Linux commands\n"
      ],
      "metadata": {
        "id": "Lr4jdIJK8Efg"
      }
    },
    {
      "cell_type": "code",
      "source": [
        "!ls"
      ],
      "metadata": {
        "colab": {
          "base_uri": "https://localhost:8080/"
        },
        "id": "cKRIoS1M7_Jf",
        "outputId": "099daf3b-6d2f-44ee-be42-dd9254e91138"
      },
      "execution_count": 1,
      "outputs": [
        {
          "output_type": "stream",
          "name": "stdout",
          "text": [
            "sample_data\n"
          ]
        }
      ]
    },
    {
      "cell_type": "code",
      "source": [
        "!cat /proc/cpuinfo"
      ],
      "metadata": {
        "id": "ZgOFtwez7_GA"
      },
      "execution_count": null,
      "outputs": []
    },
    {
      "cell_type": "code",
      "source": [
        "!cat /proc/meminfo"
      ],
      "metadata": {
        "id": "VjKF7KJQ7-5W"
      },
      "execution_count": null,
      "outputs": []
    },
    {
      "cell_type": "markdown",
      "source": [
        "This is a text cell, where I can write in **bold** \n",
        "I can also write in $\\LaTeX$ "
      ],
      "metadata": {
        "id": "ebm4CD6p8y6Q"
      }
    },
    {
      "metadata": {
        "id": "XYXQX6MHZOCT"
      },
      "cell_type": "markdown",
      "source": [
        "# Simple data types and operators"
      ]
    },
    {
      "metadata": {
        "id": "4nrTtKWTUfj-"
      },
      "cell_type": "code",
      "source": [
        "name = 'iPhone 5s'"
      ],
      "execution_count": 4,
      "outputs": []
    },
    {
      "metadata": {
        "id": "FPNzkLdmUm_K",
        "outputId": "6b12ff81-a6e1-4071-8fe1-58a9bcdf1133",
        "colab": {
          "base_uri": "https://localhost:8080/"
        }
      },
      "cell_type": "code",
      "source": [
        "type(name)"
      ],
      "execution_count": 5,
      "outputs": [
        {
          "output_type": "execute_result",
          "data": {
            "text/plain": [
              "str"
            ]
          },
          "metadata": {},
          "execution_count": 5
        }
      ]
    },
    {
      "metadata": {
        "id": "mPBSQQTmUt-g",
        "outputId": "a6e8dbac-a807-4971-fd25-cfc5a1c5630d",
        "colab": {
          "base_uri": "https://localhost:8080/"
        }
      },
      "cell_type": "code",
      "source": [
        "print(name)"
      ],
      "execution_count": 6,
      "outputs": [
        {
          "output_type": "stream",
          "name": "stdout",
          "text": [
            "iPhone 5s\n"
          ]
        }
      ]
    },
    {
      "metadata": {
        "id": "TM72O_cVUyWX",
        "outputId": "4a907589-2e27-4259-8612-b5bab0b5620a",
        "colab": {
          "base_uri": "https://localhost:8080/"
        }
      },
      "cell_type": "code",
      "source": [
        "screen_size = 4.3\n",
        "type(screen_size)"
      ],
      "execution_count": 7,
      "outputs": [
        {
          "output_type": "execute_result",
          "data": {
            "text/plain": [
              "float"
            ]
          },
          "metadata": {},
          "execution_count": 7
        }
      ]
    },
    {
      "metadata": {
        "id": "IVhG8yejU20h"
      },
      "cell_type": "code",
      "source": [
        "num_of_speakers = 1"
      ],
      "execution_count": 8,
      "outputs": []
    },
    {
      "metadata": {
        "id": "Pdl_938QU9m6",
        "outputId": "36b14d76-220d-4570-fc62-bf3b0b3c5735",
        "colab": {
          "base_uri": "https://localhost:8080/"
        }
      },
      "cell_type": "code",
      "source": [
        "type(num_of_speakers)"
      ],
      "execution_count": 9,
      "outputs": [
        {
          "output_type": "execute_result",
          "data": {
            "text/plain": [
              "int"
            ]
          },
          "metadata": {},
          "execution_count": 9
        }
      ]
    },
    {
      "metadata": {
        "id": "46zyohNZU_7z",
        "outputId": "a5f11122-cbed-4d86-a543-830ed037e68f",
        "colab": {
          "base_uri": "https://localhost:8080/"
        }
      },
      "cell_type": "code",
      "source": [
        "print('I just bought an ' + name)"
      ],
      "execution_count": 10,
      "outputs": [
        {
          "output_type": "stream",
          "name": "stdout",
          "text": [
            "I just bought an iPhone 5s\n"
          ]
        }
      ]
    },
    {
      "metadata": {
        "id": "nW9PGsCFVGAB",
        "outputId": "c60458e2-e6a1-4452-9620-55705d3588ca",
        "colab": {
          "base_uri": "https://localhost:8080/"
        }
      },
      "cell_type": "code",
      "source": [
        "a = 3\n",
        "b = 2\n",
        "print( a * b, a / b, a + b, a - b, a ** b, a // b)"
      ],
      "execution_count": 11,
      "outputs": [
        {
          "output_type": "stream",
          "name": "stdout",
          "text": [
            "6 1.5 5 1 9 1\n"
          ]
        }
      ]
    },
    {
      "metadata": {
        "id": "O8n1BxEUVKlJ",
        "outputId": "c2b6c7de-7b05-4216-a074-b63d6edc7a76",
        "colab": {
          "base_uri": "https://localhost:8080/"
        }
      },
      "cell_type": "code",
      "source": [
        "is_android = False\n",
        "type(is_android)"
      ],
      "execution_count": 12,
      "outputs": [
        {
          "output_type": "execute_result",
          "data": {
            "text/plain": [
              "bool"
            ]
          },
          "metadata": {},
          "execution_count": 12
        }
      ]
    },
    {
      "metadata": {
        "id": "SwPmpf3OVVeJ",
        "outputId": "133ef7fe-9270-4b86-ff34-a4c6804453b3",
        "colab": {
          "base_uri": "https://localhost:8080/"
        }
      },
      "cell_type": "code",
      "source": [
        "print (is_android == True)"
      ],
      "execution_count": 13,
      "outputs": [
        {
          "output_type": "stream",
          "name": "stdout",
          "text": [
            "False\n"
          ]
        }
      ]
    },
    {
      "metadata": {
        "id": "LJGzx6_oVZCg",
        "outputId": "fb74ae1b-1938-4dcb-e75f-1267de76fac7",
        "colab": {
          "base_uri": "https://localhost:8080/"
        }
      },
      "cell_type": "code",
      "source": [
        "print (is_android == False and num_of_speakers > 1)"
      ],
      "execution_count": 14,
      "outputs": [
        {
          "output_type": "stream",
          "name": "stdout",
          "text": [
            "False\n"
          ]
        }
      ]
    },
    {
      "metadata": {
        "id": "ufHD4qX3ZVyn"
      },
      "cell_type": "markdown",
      "source": [
        "# Code blocks - If, For, While"
      ]
    },
    {
      "metadata": {
        "id": "sM4hQO8XVeFv",
        "outputId": "1a55fd1d-73ee-4af3-e8a0-f2ec62b8b5fd",
        "colab": {
          "base_uri": "https://localhost:8080/"
        }
      },
      "cell_type": "code",
      "source": [
        "if is_android == True:\n",
        "  print(name + ' supports Android')\n",
        "  print('Continuing to print inside the if block')\n",
        "print('Printing this outside the block')"
      ],
      "execution_count": 15,
      "outputs": [
        {
          "output_type": "stream",
          "name": "stdout",
          "text": [
            "Printing this outside the block\n"
          ]
        }
      ]
    },
    {
      "metadata": {
        "id": "CKZaAZ0iVvT8",
        "outputId": "443c28aa-7dd7-4abb-c756-91dc5ec6123f",
        "colab": {
          "base_uri": "https://localhost:8080/"
        }
      },
      "cell_type": "code",
      "source": [
        "for i in range(5):\n",
        "  print(i, i**2)"
      ],
      "execution_count": 16,
      "outputs": [
        {
          "output_type": "stream",
          "name": "stdout",
          "text": [
            "0 0\n",
            "1 1\n",
            "2 4\n",
            "3 9\n",
            "4 16\n"
          ]
        }
      ]
    },
    {
      "metadata": {
        "id": "LLeT548bV9YT"
      },
      "cell_type": "code",
      "source": [
        "range?"
      ],
      "execution_count": 17,
      "outputs": []
    },
    {
      "metadata": {
        "id": "ZPFWIgcsWA82",
        "outputId": "50f377a4-9fbf-48b6-dc94-f79f71efe608",
        "colab": {
          "base_uri": "https://localhost:8080/"
        }
      },
      "cell_type": "code",
      "source": [
        "i = 0\n",
        "while i < 5:\n",
        "  print(i, i**2)\n",
        "  i += 1 # equivalent to i = i + 1"
      ],
      "execution_count": 18,
      "outputs": [
        {
          "output_type": "stream",
          "name": "stdout",
          "text": [
            "0 0\n",
            "1 1\n",
            "2 4\n",
            "3 9\n",
            "4 16\n"
          ]
        }
      ]
    },
    {
      "metadata": {
        "id": "h7CFofgtZcz-"
      },
      "cell_type": "markdown",
      "source": [
        "# Functions"
      ]
    },
    {
      "metadata": {
        "id": "IgaKXk0eWO-N"
      },
      "cell_type": "code",
      "source": [
        "def print_squares(stop_val):\n",
        "  for i in range(stop_val):\n",
        "    print (i , i**2)"
      ],
      "execution_count": 19,
      "outputs": []
    },
    {
      "metadata": {
        "id": "OOqb6EWZWdcy",
        "outputId": "055a1ec1-55a8-4236-a3f6-e9d4cee1c0db",
        "colab": {
          "base_uri": "https://localhost:8080/"
        }
      },
      "cell_type": "code",
      "source": [
        "print_squares(5)"
      ],
      "execution_count": 20,
      "outputs": [
        {
          "output_type": "stream",
          "name": "stdout",
          "text": [
            "0 0\n",
            "1 1\n",
            "2 4\n",
            "3 9\n",
            "4 16\n"
          ]
        }
      ]
    },
    {
      "metadata": {
        "id": "dRyGB-cVWgVi",
        "outputId": "316167d0-b15f-43da-f7c4-c8c944e36716",
        "colab": {
          "base_uri": "https://localhost:8080/"
        }
      },
      "cell_type": "code",
      "source": [
        "print_squares(3)"
      ],
      "execution_count": 21,
      "outputs": [
        {
          "output_type": "stream",
          "name": "stdout",
          "text": [
            "0 0\n",
            "1 1\n",
            "2 4\n"
          ]
        }
      ]
    },
    {
      "metadata": {
        "id": "mOR_I24OWiIf"
      },
      "cell_type": "code",
      "source": [
        "def sum_of_squares(stop_val):\n",
        "  sum_ = 0\n",
        "  for i in range(stop_val):\n",
        "    sum_ += i ** 2\n",
        "  return sum_"
      ],
      "execution_count": 22,
      "outputs": []
    },
    {
      "metadata": {
        "id": "r1XbKgBcWtKF",
        "outputId": "fc68477e-cb36-4107-c802-f7e341316875",
        "colab": {
          "base_uri": "https://localhost:8080/"
        }
      },
      "cell_type": "code",
      "source": [
        "sum_of_squares(5)"
      ],
      "execution_count": 23,
      "outputs": [
        {
          "output_type": "execute_result",
          "data": {
            "text/plain": [
              "30"
            ]
          },
          "metadata": {},
          "execution_count": 23
        }
      ]
    },
    {
      "metadata": {
        "id": "fGP1QkdrWxKu"
      },
      "cell_type": "code",
      "source": [
        "sum_5 = sum_of_squares(5)"
      ],
      "execution_count": 24,
      "outputs": []
    },
    {
      "metadata": {
        "id": "KshU4IgCW1K4"
      },
      "cell_type": "code",
      "source": [
        "def print_squares_with_startval(stop_val, start_val = 0):\n",
        "  \"\"\"Prints the squares of numbers starting from start_val (inclusive) and ending with stop_val (exclusive)\"\"\"\n",
        "  for i in range(start_val, stop_val):\n",
        "    print (i , i**2)"
      ],
      "execution_count": 25,
      "outputs": []
    },
    {
      "metadata": {
        "id": "0VBEHuSEXHE1",
        "outputId": "ca381a76-7f72-4d4f-f507-636a86eae2e3",
        "colab": {
          "base_uri": "https://localhost:8080/"
        }
      },
      "cell_type": "code",
      "source": [
        "print_squares_with_startval(5, 2)"
      ],
      "execution_count": 26,
      "outputs": [
        {
          "output_type": "stream",
          "name": "stdout",
          "text": [
            "2 4\n",
            "3 9\n",
            "4 16\n"
          ]
        }
      ]
    },
    {
      "metadata": {
        "id": "xtjv8eBSXJcU"
      },
      "cell_type": "code",
      "source": [
        "print_squares_with_startval?"
      ],
      "execution_count": 27,
      "outputs": []
    },
    {
      "metadata": {
        "id": "NEUT8F6QamzU"
      },
      "cell_type": "markdown",
      "source": [
        "# Lists"
      ]
    },
    {
      "metadata": {
        "id": "w0YdzytNany6"
      },
      "cell_type": "code",
      "source": [
        "my_phone = [name, is_android, screen_size]"
      ],
      "execution_count": 28,
      "outputs": []
    },
    {
      "metadata": {
        "id": "znFZcOHwavn5",
        "outputId": "795ea810-451f-4f67-ff28-6988989082f7",
        "colab": {
          "base_uri": "https://localhost:8080/"
        }
      },
      "cell_type": "code",
      "source": [
        "type(my_phone)"
      ],
      "execution_count": 29,
      "outputs": [
        {
          "output_type": "execute_result",
          "data": {
            "text/plain": [
              "list"
            ]
          },
          "metadata": {},
          "execution_count": 29
        }
      ]
    },
    {
      "metadata": {
        "id": "s3hC7aNoax5a",
        "outputId": "67f6d1c9-0b5c-4bcf-bcfc-d7efc9eb88f9",
        "colab": {
          "base_uri": "https://localhost:8080/"
        }
      },
      "cell_type": "code",
      "source": [
        "print(my_phone)"
      ],
      "execution_count": 30,
      "outputs": [
        {
          "output_type": "stream",
          "name": "stdout",
          "text": [
            "['iPhone 5s', False, 4.3]\n"
          ]
        }
      ]
    },
    {
      "metadata": {
        "id": "0DEZsBFPazSA",
        "outputId": "c3c3ff37-8919-46cf-fe70-6f84c6c31d50",
        "colab": {
          "base_uri": "https://localhost:8080/"
        }
      },
      "cell_type": "code",
      "source": [
        "my_phone[2]"
      ],
      "execution_count": 31,
      "outputs": [
        {
          "output_type": "execute_result",
          "data": {
            "text/plain": [
              "4.3"
            ]
          },
          "metadata": {},
          "execution_count": 31
        }
      ]
    },
    {
      "metadata": {
        "id": "eBK65TAoa4fK",
        "outputId": "2286c12e-86b1-4745-cb2b-25d6d534ee22",
        "colab": {
          "base_uri": "https://localhost:8080/"
        }
      },
      "cell_type": "code",
      "source": [
        "type(my_phone[0])"
      ],
      "execution_count": 32,
      "outputs": [
        {
          "output_type": "execute_result",
          "data": {
            "text/plain": [
              "str"
            ]
          },
          "metadata": {},
          "execution_count": 32
        }
      ]
    },
    {
      "metadata": {
        "id": "R5MUjfqLa6jq",
        "outputId": "e841a5b3-6fd2-44bf-fbab-b9703df55fe8",
        "colab": {
          "base_uri": "https://localhost:8080/"
        }
      },
      "cell_type": "code",
      "source": [
        "my_phone[1:3]"
      ],
      "execution_count": 33,
      "outputs": [
        {
          "output_type": "execute_result",
          "data": {
            "text/plain": [
              "[False, 4.3]"
            ]
          },
          "metadata": {},
          "execution_count": 33
        }
      ]
    },
    {
      "metadata": {
        "id": "DJxUga5Ka-WG",
        "outputId": "c882bde3-3475-48a0-be84-56c7903fbdda",
        "colab": {
          "base_uri": "https://localhost:8080/"
        }
      },
      "cell_type": "code",
      "source": [
        "my_dads_phone = my_phone\n",
        "print(my_dads_phone)"
      ],
      "execution_count": 34,
      "outputs": [
        {
          "output_type": "stream",
          "name": "stdout",
          "text": [
            "['iPhone 5s', False, 4.3]\n"
          ]
        }
      ]
    },
    {
      "metadata": {
        "id": "2MG34sObbIQU"
      },
      "cell_type": "code",
      "source": [
        "my_phone[2] = 4"
      ],
      "execution_count": 35,
      "outputs": []
    },
    {
      "metadata": {
        "id": "Z3YndaQWbNyh",
        "outputId": "b26eff9c-42df-48cd-a168-ac496541304c",
        "colab": {
          "base_uri": "https://localhost:8080/"
        }
      },
      "cell_type": "code",
      "source": [
        "print(my_phone)"
      ],
      "execution_count": 36,
      "outputs": [
        {
          "output_type": "stream",
          "name": "stdout",
          "text": [
            "['iPhone 5s', False, 4]\n"
          ]
        }
      ]
    },
    {
      "metadata": {
        "id": "Ro-yczbAbPLx",
        "outputId": "1fce0eec-9a53-4847-c761-3a3d519a6647",
        "colab": {
          "base_uri": "https://localhost:8080/"
        }
      },
      "cell_type": "code",
      "source": [
        "print(my_dads_phone)"
      ],
      "execution_count": 37,
      "outputs": [
        {
          "output_type": "stream",
          "name": "stdout",
          "text": [
            "['iPhone 5s', False, 4]\n"
          ]
        }
      ]
    },
    {
      "metadata": {
        "id": "jZX5xgGQbRxl"
      },
      "cell_type": "code",
      "source": [
        "my_dads_phone = list(my_phone)\n",
        "# my_dads_phone = my_phone[:]"
      ],
      "execution_count": 38,
      "outputs": []
    },
    {
      "metadata": {
        "id": "hLeiUELGbfnR"
      },
      "cell_type": "code",
      "source": [
        "my_phone[2] = 4.3"
      ],
      "execution_count": 39,
      "outputs": []
    },
    {
      "metadata": {
        "id": "NcnLRx74bhvn",
        "outputId": "fad85870-9deb-4706-ff51-d9bc38bf1a55",
        "colab": {
          "base_uri": "https://localhost:8080/"
        }
      },
      "cell_type": "code",
      "source": [
        "print(my_phone)\n",
        "print(my_dads_phone)"
      ],
      "execution_count": 40,
      "outputs": [
        {
          "output_type": "stream",
          "name": "stdout",
          "text": [
            "['iPhone 5s', False, 4.3]\n",
            "['iPhone 5s', False, 4]\n"
          ]
        }
      ]
    },
    {
      "metadata": {
        "id": "K1yoXlp-bkLK",
        "outputId": "22dbbcad-03e5-4413-c51e-ad215b0180ba",
        "colab": {
          "base_uri": "https://localhost:8080/"
        }
      },
      "cell_type": "code",
      "source": [
        "len(my_phone)"
      ],
      "execution_count": 41,
      "outputs": [
        {
          "output_type": "execute_result",
          "data": {
            "text/plain": [
              "3"
            ]
          },
          "metadata": {},
          "execution_count": 41
        }
      ]
    },
    {
      "metadata": {
        "id": "V3NvYANKbnh_"
      },
      "cell_type": "code",
      "source": [
        "len?"
      ],
      "execution_count": 42,
      "outputs": []
    },
    {
      "metadata": {
        "id": "GqBPaAS5bpw6"
      },
      "cell_type": "code",
      "source": [
        "my_phone.append('3G')"
      ],
      "execution_count": 43,
      "outputs": []
    },
    {
      "metadata": {
        "id": "0LY0vJlFbv61",
        "outputId": "f9ffffd7-3057-4138-f75e-8df14966b249",
        "colab": {
          "base_uri": "https://localhost:8080/"
        }
      },
      "cell_type": "code",
      "source": [
        "print(my_phone)"
      ],
      "execution_count": 44,
      "outputs": [
        {
          "output_type": "stream",
          "name": "stdout",
          "text": [
            "['iPhone 5s', False, 4.3, '3G']\n"
          ]
        }
      ]
    },
    {
      "metadata": {
        "id": "ELv3B2lcbw4K",
        "outputId": "9c9262d9-25d3-45ad-892e-31676b94a7fd",
        "colab": {
          "base_uri": "https://localhost:8080/"
        }
      },
      "cell_type": "code",
      "source": [
        "len(my_phone)"
      ],
      "execution_count": 45,
      "outputs": [
        {
          "output_type": "execute_result",
          "data": {
            "text/plain": [
              "4"
            ]
          },
          "metadata": {},
          "execution_count": 45
        }
      ]
    },
    {
      "metadata": {
        "id": "QZlmh30mbyqn"
      },
      "cell_type": "code",
      "source": [
        "iphone5s_some_prefs = ['single_sim', 35000]"
      ],
      "execution_count": 46,
      "outputs": []
    },
    {
      "metadata": {
        "id": "kKuLGThFb6I8"
      },
      "cell_type": "code",
      "source": [
        "my_phone = my_phone + iphone5s_some_prefs"
      ],
      "execution_count": 47,
      "outputs": []
    },
    {
      "metadata": {
        "id": "0Lx0f606b_FY",
        "outputId": "8c3dbb1c-f71f-48b8-a8c3-fe98f18cb0be",
        "colab": {
          "base_uri": "https://localhost:8080/"
        }
      },
      "cell_type": "code",
      "source": [
        "print(my_phone)"
      ],
      "execution_count": 48,
      "outputs": [
        {
          "output_type": "stream",
          "name": "stdout",
          "text": [
            "['iPhone 5s', False, 4.3, '3G', 'single_sim', 35000]\n"
          ]
        }
      ]
    },
    {
      "metadata": {
        "id": "6zNovNkZcAhG",
        "outputId": "3e9de984-00bc-4802-a288-288883c902d9",
        "colab": {
          "base_uri": "https://localhost:8080/"
        }
      },
      "cell_type": "code",
      "source": [
        "for data in my_phone:\n",
        "  print(data)"
      ],
      "execution_count": 49,
      "outputs": [
        {
          "output_type": "stream",
          "name": "stdout",
          "text": [
            "iPhone 5s\n",
            "False\n",
            "4.3\n",
            "3G\n",
            "single_sim\n",
            "35000\n"
          ]
        }
      ]
    },
    {
      "metadata": {
        "id": "gJ2vgUV3cKaH",
        "outputId": "57d71353-52c4-4c16-86bc-433301e065b8",
        "colab": {
          "base_uri": "https://localhost:8080/"
        }
      },
      "cell_type": "code",
      "source": [
        "range(5)"
      ],
      "execution_count": 50,
      "outputs": [
        {
          "output_type": "execute_result",
          "data": {
            "text/plain": [
              "range(0, 5)"
            ]
          },
          "metadata": {},
          "execution_count": 50
        }
      ]
    },
    {
      "metadata": {
        "id": "HD8Dv1vWcNty",
        "outputId": "6a9b584d-8876-44eb-ede0-d61223ae5e03",
        "colab": {
          "base_uri": "https://localhost:8080/"
        }
      },
      "cell_type": "code",
      "source": [
        "print(list(range(5)))"
      ],
      "execution_count": 51,
      "outputs": [
        {
          "output_type": "stream",
          "name": "stdout",
          "text": [
            "[0, 1, 2, 3, 4]\n"
          ]
        }
      ]
    },
    {
      "metadata": {
        "id": "9mX05ylFcQxE",
        "outputId": "3adaa604-49c4-45f7-e3e2-5a7e0ac8b663",
        "colab": {
          "base_uri": "https://localhost:8080/"
        }
      },
      "cell_type": "code",
      "source": [
        "a = list(range(5))\n",
        "print(a)"
      ],
      "execution_count": 52,
      "outputs": [
        {
          "output_type": "stream",
          "name": "stdout",
          "text": [
            "[0, 1, 2, 3, 4]\n"
          ]
        }
      ]
    },
    {
      "metadata": {
        "id": "uqKrTubAcYxd"
      },
      "cell_type": "code",
      "source": [
        "b = list(map(lambda x: x**2, a))"
      ],
      "execution_count": 53,
      "outputs": []
    },
    {
      "metadata": {
        "id": "ApS_bIJGck9c",
        "outputId": "f7b6309e-654f-477c-ceee-7c6b98e416e2",
        "colab": {
          "base_uri": "https://localhost:8080/"
        }
      },
      "cell_type": "code",
      "source": [
        "print(b)"
      ],
      "execution_count": 54,
      "outputs": [
        {
          "output_type": "stream",
          "name": "stdout",
          "text": [
            "[0, 1, 4, 9, 16]\n"
          ]
        }
      ]
    },
    {
      "metadata": {
        "id": "553AMMo9cl8L",
        "outputId": "edbecf3d-48cf-46c5-de03-088f1551cdc1",
        "colab": {
          "base_uri": "https://localhost:8080/"
        }
      },
      "cell_type": "code",
      "source": [
        "c = list(filter(lambda x: x % 2 == 0, b))\n",
        "print(c)"
      ],
      "execution_count": 55,
      "outputs": [
        {
          "output_type": "stream",
          "name": "stdout",
          "text": [
            "[0, 4, 16]\n"
          ]
        }
      ]
    },
    {
      "metadata": {
        "id": "yNMVIPhGcz54",
        "outputId": "0ac5a1a0-9be4-49dd-9548-07f45c52a552",
        "colab": {
          "base_uri": "https://localhost:8080/"
        }
      },
      "cell_type": "code",
      "source": [
        "print(my_phone)\n",
        "type(my_phone)"
      ],
      "execution_count": 56,
      "outputs": [
        {
          "output_type": "stream",
          "name": "stdout",
          "text": [
            "['iPhone 5s', False, 4.3, '3G', 'single_sim', 35000]\n"
          ]
        },
        {
          "output_type": "execute_result",
          "data": {
            "text/plain": [
              "list"
            ]
          },
          "metadata": {},
          "execution_count": 56
        }
      ]
    },
    {
      "metadata": {
        "id": "iXIryw_wkSep"
      },
      "cell_type": "markdown",
      "source": [
        "# Tuples, Sets, and Dicts"
      ]
    },
    {
      "metadata": {
        "id": "zTEUhr5ii07E",
        "outputId": "6d1d19af-daf5-4f4c-8c4d-b18f77f12213",
        "colab": {
          "base_uri": "https://localhost:8080/"
        }
      },
      "cell_type": "code",
      "source": [
        "my_phone_tuple = ('iPhone 5s', False, 4.3)\n",
        "print(my_phone_tuple)\n",
        "type(my_phone_tuple)"
      ],
      "execution_count": 57,
      "outputs": [
        {
          "output_type": "stream",
          "name": "stdout",
          "text": [
            "('iPhone 5s', False, 4.3)\n"
          ]
        },
        {
          "output_type": "execute_result",
          "data": {
            "text/plain": [
              "tuple"
            ]
          },
          "metadata": {},
          "execution_count": 57
        }
      ]
    },
    {
      "metadata": {
        "id": "DiFafO6Ti9uB",
        "outputId": "6b63b242-994a-42fd-9d52-32ce0005e7fc",
        "colab": {
          "base_uri": "https://localhost:8080/"
        }
      },
      "cell_type": "code",
      "source": [
        "my_phone_tuple[0:2]"
      ],
      "execution_count": 58,
      "outputs": [
        {
          "output_type": "execute_result",
          "data": {
            "text/plain": [
              "('iPhone 5s', False)"
            ]
          },
          "metadata": {},
          "execution_count": 58
        }
      ]
    },
    {
      "metadata": {
        "id": "Cv0N8__3jCGl",
        "outputId": "0e4a177e-f6ba-42ed-d68e-1d71b65a303f",
        "colab": {
          "base_uri": "https://localhost:8080/"
        }
      },
      "cell_type": "code",
      "source": [
        "for data in my_phone_tuple:\n",
        "  print(data)"
      ],
      "execution_count": 59,
      "outputs": [
        {
          "output_type": "stream",
          "name": "stdout",
          "text": [
            "iPhone 5s\n",
            "False\n",
            "4.3\n"
          ]
        }
      ]
    },
    {
      "metadata": {
        "id": "3ReasIC9jFps",
        "outputId": "12b026f0-4c32-4a5d-86b9-bd19e497ce6b",
        "colab": {
          "base_uri": "https://localhost:8080/",
          "height": 165
        }
      },
      "cell_type": "code",
      "source": [
        "my_phone_tuple[2] = 4"
      ],
      "execution_count": 216,
      "outputs": [
        {
          "output_type": "error",
          "ename": "TypeError",
          "evalue": "ignored",
          "traceback": [
            "\u001b[0;31m---------------------------------------------------------------------------\u001b[0m",
            "\u001b[0;31mTypeError\u001b[0m                                 Traceback (most recent call last)",
            "\u001b[0;32m<ipython-input-216-01379ee61114>\u001b[0m in \u001b[0;36m<module>\u001b[0;34m()\u001b[0m\n\u001b[0;32m----> 1\u001b[0;31m \u001b[0mmy_phone_tuple\u001b[0m\u001b[0;34m[\u001b[0m\u001b[0;36m2\u001b[0m\u001b[0;34m]\u001b[0m \u001b[0;34m=\u001b[0m \u001b[0;36m4\u001b[0m\u001b[0;34m\u001b[0m\u001b[0;34m\u001b[0m\u001b[0m\n\u001b[0m",
            "\u001b[0;31mTypeError\u001b[0m: 'tuple' object does not support item assignment"
          ]
        }
      ]
    },
    {
      "metadata": {
        "id": "Mrmaol0YjINt"
      },
      "cell_type": "code",
      "source": [
        "import time"
      ],
      "execution_count": 71,
      "outputs": []
    },
    {
      "metadata": {
        "id": "qnnhdMQFjZz9",
        "outputId": "6f359143-a8b5-41c8-cb57-3e683d76790c",
        "colab": {
          "base_uri": "https://localhost:8080/"
        }
      },
      "cell_type": "code",
      "source": [
        "tic = time.time()\n",
        "print(tic)"
      ],
      "execution_count": 72,
      "outputs": [
        {
          "output_type": "stream",
          "name": "stdout",
          "text": [
            "1643193807.0482724\n"
          ]
        }
      ]
    },
    {
      "metadata": {
        "id": "caZRUKqcjeeR"
      },
      "cell_type": "code",
      "source": [
        "time.time?"
      ],
      "execution_count": 73,
      "outputs": []
    },
    {
      "metadata": {
        "id": "evmSlFJPjf2N",
        "outputId": "4f2f4105-e8f1-4a91-bc02-6b6bf9c362d1",
        "colab": {
          "base_uri": "https://localhost:8080/"
        }
      },
      "cell_type": "code",
      "source": [
        "tic = time.time()\n",
        "# do something that takes some time that is to be measured\n",
        "toc = time.time()\n",
        "print('Elapsed time in seconds', toc - tic)"
      ],
      "execution_count": 74,
      "outputs": [
        {
          "output_type": "stream",
          "name": "stdout",
          "text": [
            "Elapsed time in seconds 2.6941299438476562e-05\n"
          ]
        }
      ]
    },
    {
      "metadata": {
        "id": "j-4qqt9ejqIq",
        "outputId": "94a6a931-6b38-45d0-e7b7-45c88a71a26a",
        "colab": {
          "base_uri": "https://localhost:8080/"
        }
      },
      "cell_type": "code",
      "source": [
        "my_list = list(range(1000000))\n",
        "tic = time.time()\n",
        "my_list_squared = map(lambda i: i**2, my_list)\n",
        "toc = time.time()\n",
        "print('Elapsed time in seconds', toc - tic)"
      ],
      "execution_count": 75,
      "outputs": [
        {
          "output_type": "stream",
          "name": "stdout",
          "text": [
            "Elapsed time in seconds 8.463859558105469e-05\n"
          ]
        }
      ]
    },
    {
      "metadata": {
        "id": "6pu03oqbj5z4",
        "outputId": "03454390-fcbc-47a8-eb0f-8bdb0a53c84a",
        "colab": {
          "base_uri": "https://localhost:8080/"
        }
      },
      "cell_type": "code",
      "source": [
        "my_tuple = tuple(range(1000000))\n",
        "tic = time.time()\n",
        "my_tuple_squared = map(lambda i: i**2, my_tuple)\n",
        "toc = time.time()\n",
        "print('Elapsed time in seconds', toc - tic)"
      ],
      "execution_count": 76,
      "outputs": [
        {
          "output_type": "stream",
          "name": "stdout",
          "text": [
            "Elapsed time in seconds 5.841255187988281e-05\n"
          ]
        }
      ]
    },
    {
      "metadata": {
        "id": "RO5cewUtkDk0"
      },
      "cell_type": "code",
      "source": [
        "my_set = set(my_phone)"
      ],
      "execution_count": 77,
      "outputs": []
    },
    {
      "metadata": {
        "id": "tHmF19zjka0p",
        "outputId": "08b5c5bd-f124-4fd3-a148-1e2c5b26234b",
        "colab": {
          "base_uri": "https://localhost:8080/"
        }
      },
      "cell_type": "code",
      "source": [
        "print(my_set)"
      ],
      "execution_count": 78,
      "outputs": [
        {
          "output_type": "stream",
          "name": "stdout",
          "text": [
            "{False, 'iPhone 5s', 4.3, 'single_sim', '3G', 35000}\n"
          ]
        }
      ]
    },
    {
      "metadata": {
        "id": "zj0fCKqDkcQC"
      },
      "cell_type": "code",
      "source": [
        "my_phone.append(4.3)"
      ],
      "execution_count": 79,
      "outputs": []
    },
    {
      "metadata": {
        "id": "tTFDektFkhhj",
        "outputId": "50ae2e6c-14ab-4e7c-82d3-d7bcf5ec60cd",
        "colab": {
          "base_uri": "https://localhost:8080/"
        }
      },
      "cell_type": "code",
      "source": [
        "print(my_phone)"
      ],
      "execution_count": 80,
      "outputs": [
        {
          "output_type": "stream",
          "name": "stdout",
          "text": [
            "['iPhone 5s', False, 4.3, '3G', 'single_sim', 35000, 4.3]\n"
          ]
        }
      ]
    },
    {
      "metadata": {
        "id": "zu54Dw4skifm"
      },
      "cell_type": "code",
      "source": [
        "my_set = set(my_phone)"
      ],
      "execution_count": 81,
      "outputs": []
    },
    {
      "metadata": {
        "id": "dScJWQKhklqS",
        "outputId": "2a1bc0a2-32a3-45c7-a854-8eb6dabf6e0d",
        "colab": {
          "base_uri": "https://localhost:8080/"
        }
      },
      "cell_type": "code",
      "source": [
        "print(my_set)"
      ],
      "execution_count": 82,
      "outputs": [
        {
          "output_type": "stream",
          "name": "stdout",
          "text": [
            "{False, 'iPhone 5s', 4.3, 'single_sim', '3G', 35000}\n"
          ]
        }
      ]
    },
    {
      "metadata": {
        "id": "HPag6Cr3kr_I",
        "outputId": "03ac36bb-b902-4bb4-990f-709f38c70065",
        "colab": {
          "base_uri": "https://localhost:8080/"
        }
      },
      "cell_type": "code",
      "source": [
        "my_list = list(range(1000000))\n",
        "tic = time.time()\n",
        "print(98731 in my_list)\n",
        "print(131591 in my_list)\n",
        "print(1111111111 in my_list)\n",
        "toc = time.time()\n",
        "print('Elapsed time', toc - tic)"
      ],
      "execution_count": 83,
      "outputs": [
        {
          "output_type": "stream",
          "name": "stdout",
          "text": [
            "True\n",
            "True\n",
            "False\n",
            "Elapsed time 0.013025283813476562\n"
          ]
        }
      ]
    },
    {
      "metadata": {
        "id": "oGPTjV3xlFam",
        "outputId": "e0978748-3dd6-4e95-e882-5f4d717bf4c9",
        "colab": {
          "base_uri": "https://localhost:8080/"
        }
      },
      "cell_type": "code",
      "source": [
        "my_set = set(range(1000000))\n",
        "tic = time.time()\n",
        "print(98731 in my_set)\n",
        "print(131591 in my_set)\n",
        "print(1111111111 in my_set)\n",
        "toc = time.time()\n",
        "print('Elapsed time', toc - tic)"
      ],
      "execution_count": 84,
      "outputs": [
        {
          "output_type": "stream",
          "name": "stdout",
          "text": [
            "True\n",
            "True\n",
            "False\n",
            "Elapsed time 0.00031566619873046875\n"
          ]
        }
      ]
    },
    {
      "metadata": {
        "id": "f4gFVlIPlKqY"
      },
      "cell_type": "code",
      "source": [
        "my_phone_dict = {}"
      ],
      "execution_count": 85,
      "outputs": []
    },
    {
      "metadata": {
        "id": "rR7Wuj-plUUj",
        "outputId": "9b112908-8de6-4ff0-8c5b-1f8d7124e816",
        "colab": {
          "base_uri": "https://localhost:8080/"
        }
      },
      "cell_type": "code",
      "source": [
        "type(my_phone_dict)"
      ],
      "execution_count": 86,
      "outputs": [
        {
          "output_type": "execute_result",
          "data": {
            "text/plain": [
              "dict"
            ]
          },
          "metadata": {},
          "execution_count": 86
        }
      ]
    },
    {
      "metadata": {
        "id": "6lOSqt7AlVjo"
      },
      "cell_type": "code",
      "source": [
        "my_phone_dict['name'] = 'iPhone 5s'\n",
        "my_phone_dict['isAndroid'] = False\n",
        "my_phone_dict['screenSize'] = 4.3"
      ],
      "execution_count": 87,
      "outputs": []
    },
    {
      "metadata": {
        "id": "SkH6EGBblg9V",
        "outputId": "80428c39-eb2f-49fc-feeb-e660c67b3efc",
        "colab": {
          "base_uri": "https://localhost:8080/"
        }
      },
      "cell_type": "code",
      "source": [
        "print(my_phone_dict)"
      ],
      "execution_count": 88,
      "outputs": [
        {
          "output_type": "stream",
          "name": "stdout",
          "text": [
            "{'name': 'iPhone 5s', 'isAndroid': False, 'screenSize': 4.3}\n"
          ]
        }
      ]
    },
    {
      "metadata": {
        "id": "T9z8HizClim9",
        "outputId": "a10c1275-3f58-4e9a-dc67-9284cb86db37",
        "colab": {
          "base_uri": "https://localhost:8080/",
          "height": 35
        }
      },
      "cell_type": "code",
      "source": [
        "my_phone_dict['name']"
      ],
      "execution_count": 89,
      "outputs": [
        {
          "output_type": "execute_result",
          "data": {
            "application/vnd.google.colaboratory.intrinsic+json": {
              "type": "string"
            },
            "text/plain": [
              "'iPhone 5s'"
            ]
          },
          "metadata": {},
          "execution_count": 89
        }
      ]
    },
    {
      "metadata": {
        "id": "7pHwVu93llst",
        "outputId": "8f0a2d41-9728-495c-8c4c-21d7d8f11a14",
        "colab": {
          "base_uri": "https://localhost:8080/"
        }
      },
      "cell_type": "code",
      "source": [
        "print(my_phone_dict.keys())"
      ],
      "execution_count": 90,
      "outputs": [
        {
          "output_type": "stream",
          "name": "stdout",
          "text": [
            "dict_keys(['name', 'isAndroid', 'screenSize'])\n"
          ]
        }
      ]
    },
    {
      "metadata": {
        "id": "ogBrVfpHlsSc",
        "outputId": "591599be-6fdc-43b9-ce9d-a275d4faf401",
        "colab": {
          "base_uri": "https://localhost:8080/"
        }
      },
      "cell_type": "code",
      "source": [
        "print(my_phone_dict.values())"
      ],
      "execution_count": 91,
      "outputs": [
        {
          "output_type": "stream",
          "name": "stdout",
          "text": [
            "dict_values(['iPhone 5s', False, 4.3])\n"
          ]
        }
      ]
    },
    {
      "metadata": {
        "id": "HpK08O1alvtd",
        "outputId": "0225805a-c4da-478c-e9da-c176a784b6d0",
        "colab": {
          "base_uri": "https://localhost:8080/"
        }
      },
      "cell_type": "code",
      "source": [
        "print(my_phone_dict.items())"
      ],
      "execution_count": 92,
      "outputs": [
        {
          "output_type": "stream",
          "name": "stdout",
          "text": [
            "dict_items([('name', 'iPhone 5s'), ('isAndroid', False), ('screenSize', 4.3)])\n"
          ]
        }
      ]
    },
    {
      "metadata": {
        "id": "-78yQjyilx4g",
        "outputId": "2a5caf2c-829a-4a4e-980c-87b79a77cbab",
        "colab": {
          "base_uri": "https://localhost:8080/"
        }
      },
      "cell_type": "code",
      "source": [
        "for key in my_phone_dict.keys():\n",
        "  print(key, ':', my_phone_dict[key])"
      ],
      "execution_count": 93,
      "outputs": [
        {
          "output_type": "stream",
          "name": "stdout",
          "text": [
            "name : iPhone 5s\n",
            "isAndroid : False\n",
            "screenSize : 4.3\n"
          ]
        }
      ]
    },
    {
      "metadata": {
        "id": "4nvsLqecoOoP"
      },
      "cell_type": "markdown",
      "source": [
        "# Python Packages"
      ]
    },
    {
      "metadata": {
        "id": "eCkZm4lxoQJB"
      },
      "cell_type": "code",
      "source": [
        "import math"
      ],
      "execution_count": 94,
      "outputs": []
    },
    {
      "metadata": {
        "id": "lSiEHau3oV8S",
        "outputId": "e4a3d31b-2294-495b-98f5-7f84d32d3ef1",
        "colab": {
          "base_uri": "https://localhost:8080/"
        }
      },
      "cell_type": "code",
      "source": [
        "a = math.sqrt(100)\n",
        "print(a)"
      ],
      "execution_count": 95,
      "outputs": [
        {
          "output_type": "stream",
          "name": "stdout",
          "text": [
            "10.0\n"
          ]
        }
      ]
    },
    {
      "metadata": {
        "id": "3yZAgHD1oX2H",
        "outputId": "41b374e9-65b2-44d3-aea0-fbf8f682a783",
        "colab": {
          "base_uri": "https://localhost:8080/"
        }
      },
      "cell_type": "code",
      "source": [
        "a = math.pow(100, 0.5)\n",
        "print(a)"
      ],
      "execution_count": 96,
      "outputs": [
        {
          "output_type": "stream",
          "name": "stdout",
          "text": [
            "10.0\n"
          ]
        }
      ]
    },
    {
      "metadata": {
        "id": "pdPODnnzoaWP",
        "outputId": "466e8fd3-a3c8-461f-9d3b-27feb7330a44",
        "colab": {
          "base_uri": "https://localhost:8080/"
        }
      },
      "cell_type": "code",
      "source": [
        "x = 100\n",
        "y = 1\n",
        "for i in range(1, x):\n",
        "  y *= i\n",
        "print('Factorial of', x, 'is', y)"
      ],
      "execution_count": 97,
      "outputs": [
        {
          "output_type": "stream",
          "name": "stdout",
          "text": [
            "Factorial of 100 is 933262154439441526816992388562667004907159682643816214685929638952175999932299156089414639761565182862536979208272237582511852109168640000000000000000000000\n"
          ]
        }
      ]
    },
    {
      "metadata": {
        "id": "2Wc0vvPxopEH"
      },
      "cell_type": "code",
      "source": [
        "y = math.factorial(x)"
      ],
      "execution_count": 98,
      "outputs": []
    },
    {
      "metadata": {
        "id": "M7amwM7YoxLv"
      },
      "cell_type": "code",
      "source": [
        "import math as m"
      ],
      "execution_count": 99,
      "outputs": []
    },
    {
      "metadata": {
        "id": "EPPb0q4xo0yX"
      },
      "cell_type": "code",
      "source": [
        "y = m.factorial(x)"
      ],
      "execution_count": 100,
      "outputs": []
    },
    {
      "metadata": {
        "id": "lyMXPcaeo2Aw"
      },
      "cell_type": "code",
      "source": [
        "from math import factorial"
      ],
      "execution_count": 101,
      "outputs": []
    },
    {
      "metadata": {
        "id": "azItJu7Ao5bb"
      },
      "cell_type": "code",
      "source": [
        "y = factorial(x)"
      ],
      "execution_count": 102,
      "outputs": []
    },
    {
      "metadata": {
        "id": "5YrGXzyYo6lb",
        "outputId": "e7386348-2a57-45e0-cf5d-fa8c75a62170",
        "colab": {
          "base_uri": "https://localhost:8080/"
        }
      },
      "cell_type": "code",
      "source": [
        "vals = list(range(1, 100))\n",
        "tic = time.time()\n",
        "for x in vals:\n",
        "  y = 1\n",
        "  for i in range(1, x):\n",
        "    y *= i\n",
        "toc = time.time()\n",
        "print('Elapsed time in secs with own function', toc - tic)\n",
        "\n",
        "tic = time.time()\n",
        "for x in vals:\n",
        "  y = math.factorial(x)\n",
        "toc = time.time()\n",
        "print('Elapsed time in secs with own function', toc - tic)"
      ],
      "execution_count": 103,
      "outputs": [
        {
          "output_type": "stream",
          "name": "stdout",
          "text": [
            "Elapsed time in secs with own function 0.0008945465087890625\n",
            "Elapsed time in secs with own function 0.00015878677368164062\n"
          ]
        }
      ]
    },
    {
      "metadata": {
        "id": "u1CRIBPtpP7S"
      },
      "cell_type": "code",
      "source": [
        "!echo 'def hello():' > my_first_module.py\n",
        "!echo '    print(\"hello, i am living in a different file!!!\")' >> my_first_module.py"
      ],
      "execution_count": 104,
      "outputs": []
    },
    {
      "metadata": {
        "id": "3q0hPJ8IpwYX",
        "outputId": "9316cffa-4033-4b8d-9281-3370e132244b",
        "colab": {
          "base_uri": "https://localhost:8080/"
        }
      },
      "cell_type": "code",
      "source": [
        "!cat my_first_module.py"
      ],
      "execution_count": 105,
      "outputs": [
        {
          "output_type": "stream",
          "name": "stdout",
          "text": [
            "def hello():\n",
            "    print(\"hello, i am living in a different file!!!\")\n"
          ]
        }
      ]
    },
    {
      "metadata": {
        "id": "6ItBO96rp1O0"
      },
      "cell_type": "code",
      "source": [
        "import my_first_module"
      ],
      "execution_count": 106,
      "outputs": []
    },
    {
      "metadata": {
        "id": "HAPgfIjMqEhz",
        "outputId": "ae794e35-29c8-45d4-9626-7d0771e06a23",
        "colab": {
          "base_uri": "https://localhost:8080/"
        }
      },
      "cell_type": "code",
      "source": [
        "my_first_module.hello()"
      ],
      "execution_count": 107,
      "outputs": [
        {
          "output_type": "stream",
          "name": "stdout",
          "text": [
            "hello, i am living in a different file!!!\n"
          ]
        }
      ]
    },
    {
      "metadata": {
        "id": "iiJNMrLGqGm0"
      },
      "cell_type": "code",
      "source": [
        "from my_first_module import hello"
      ],
      "execution_count": 108,
      "outputs": []
    },
    {
      "metadata": {
        "id": "t7idGE7-qJUV",
        "outputId": "6e33fc77-159c-4c69-b4cc-1ef01f9521a9",
        "colab": {
          "base_uri": "https://localhost:8080/"
        }
      },
      "cell_type": "code",
      "source": [
        "hello()"
      ],
      "execution_count": 109,
      "outputs": [
        {
          "output_type": "stream",
          "name": "stdout",
          "text": [
            "hello, i am living in a different file!!!\n"
          ]
        }
      ]
    },
    {
      "metadata": {
        "id": "gU7QTkRy3SMz"
      },
      "cell_type": "markdown",
      "source": [
        "# File handling"
      ]
    },
    {
      "metadata": {
        "id": "_CStPzCqqJ3G",
        "outputId": "aaa3e813-c25c-4352-b593-07085ac65d5a",
        "colab": {
          "base_uri": "https://localhost:8080/"
        }
      },
      "cell_type": "code",
      "source": [
        "!wget https://www.dropbox.com/s/w94odi4aq1k44lf/mobile_cleaned.csv"
      ],
      "execution_count": 110,
      "outputs": [
        {
          "output_type": "stream",
          "name": "stdout",
          "text": [
            "--2022-01-26 10:44:00--  https://www.dropbox.com/s/w94odi4aq1k44lf/mobile_cleaned.csv\n",
            "Resolving www.dropbox.com (www.dropbox.com)... 162.125.65.18, 2620:100:6021:18::a27d:4112\n",
            "Connecting to www.dropbox.com (www.dropbox.com)|162.125.65.18|:443... connected.\n",
            "HTTP request sent, awaiting response... 301 Moved Permanently\n",
            "Location: /s/raw/w94odi4aq1k44lf/mobile_cleaned.csv [following]\n",
            "--2022-01-26 10:44:01--  https://www.dropbox.com/s/raw/w94odi4aq1k44lf/mobile_cleaned.csv\n",
            "Reusing existing connection to www.dropbox.com:443.\n",
            "HTTP request sent, awaiting response... 404 Not Found\n",
            "2022-01-26 10:44:01 ERROR 404: Not Found.\n",
            "\n"
          ]
        }
      ]
    },
    {
      "metadata": {
        "id": "exNoyWvW3asG",
        "outputId": "527911f7-d14e-4d70-a2dc-d9464635087f",
        "colab": {
          "base_uri": "https://localhost:8080/"
        }
      },
      "cell_type": "code",
      "source": [
        "!ls"
      ],
      "execution_count": 111,
      "outputs": [
        {
          "output_type": "stream",
          "name": "stdout",
          "text": [
            "my_first_module.py  __pycache__  sample_data\n"
          ]
        }
      ]
    },
    {
      "metadata": {
        "id": "UEjTlzPt3ceh"
      },
      "cell_type": "code",
      "source": [
        "file = open('mobile_cleaned.csv', 'r')"
      ],
      "execution_count": 202,
      "outputs": []
    },
    {
      "metadata": {
        "id": "K0cZlXDS3nUA"
      },
      "cell_type": "code",
      "source": [
        "s = file.readline()"
      ],
      "execution_count": 203,
      "outputs": []
    },
    {
      "metadata": {
        "id": "nARRi5LD3pU2",
        "outputId": "cc7320c5-b2f8-4954-d88f-3fcff82df51f",
        "colab": {
          "base_uri": "https://localhost:8080/"
        }
      },
      "cell_type": "code",
      "source": [
        "print(s)"
      ],
      "execution_count": 204,
      "outputs": [
        {
          "output_type": "stream",
          "name": "stdout",
          "text": [
            "sim_type,aperture,gpu_rank,weight,stand_by_time,processor_frequency,thickness,flash_type,front_camera_resolution,auto_focus,screen_size,frames_per_second,FM,no_of_reviews_in_gsmarena_in_week,os,phone_height,screen_protection,sim_size,price,talk_time,video_resolution,display_resolution,removable_battery,display_type,primary_camera_resolution,battery_type,ram_memory,internal_memory,brand_rank,no_of_cores,micro_sd_slot,screen_pixel_density,water_proof_rate,phone_width,expandable_memory,version,usb_type,battery_capacity,processor_rank,is_liked\n",
            "\n"
          ]
        }
      ]
    },
    {
      "metadata": {
        "id": "iqGdV0ej3qTx",
        "outputId": "8904dc4e-5105-4bc0-fa88-3e2378107ea6",
        "colab": {
          "base_uri": "https://localhost:8080/"
        }
      },
      "cell_type": "code",
      "source": [
        "print(s.split(','))"
      ],
      "execution_count": 205,
      "outputs": [
        {
          "output_type": "stream",
          "name": "stdout",
          "text": [
            "['sim_type', 'aperture', 'gpu_rank', 'weight', 'stand_by_time', 'processor_frequency', 'thickness', 'flash_type', 'front_camera_resolution', 'auto_focus', 'screen_size', 'frames_per_second', 'FM', 'no_of_reviews_in_gsmarena_in_week', 'os', 'phone_height', 'screen_protection', 'sim_size', 'price', 'talk_time', 'video_resolution', 'display_resolution', 'removable_battery', 'display_type', 'primary_camera_resolution', 'battery_type', 'ram_memory', 'internal_memory', 'brand_rank', 'no_of_cores', 'micro_sd_slot', 'screen_pixel_density', 'water_proof_rate', 'phone_width', 'expandable_memory', 'version', 'usb_type', 'battery_capacity', 'processor_rank', 'is_liked\\n']\n"
          ]
        }
      ]
    },
    {
      "metadata": {
        "id": "XWU2nyzf30Xr"
      },
      "cell_type": "code",
      "source": [
        "file.close()"
      ],
      "execution_count": 206,
      "outputs": []
    },
    {
      "metadata": {
        "id": "uK4w6pJs35Ey",
        "outputId": "5a7bf245-2738-446d-fea8-68f4aee21cc0",
        "colab": {
          "base_uri": "https://localhost:8080/",
          "height": 165
        }
      },
      "cell_type": "code",
      "source": [
        "file.readline()"
      ],
      "execution_count": 210,
      "outputs": [
        {
          "output_type": "error",
          "ename": "ValueError",
          "evalue": "ignored",
          "traceback": [
            "\u001b[0;31m---------------------------------------------------------------------------\u001b[0m",
            "\u001b[0;31mValueError\u001b[0m                                Traceback (most recent call last)",
            "\u001b[0;32m<ipython-input-210-1ba352a1fd91>\u001b[0m in \u001b[0;36m<module>\u001b[0;34m()\u001b[0m\n\u001b[0;32m----> 1\u001b[0;31m \u001b[0mfile\u001b[0m\u001b[0;34m.\u001b[0m\u001b[0mreadline\u001b[0m\u001b[0;34m(\u001b[0m\u001b[0;34m)\u001b[0m\u001b[0;34m\u001b[0m\u001b[0;34m\u001b[0m\u001b[0m\n\u001b[0m",
            "\u001b[0;31mValueError\u001b[0m: I/O operation on closed file."
          ]
        }
      ]
    },
    {
      "metadata": {
        "id": "AWmQKP-t36LK",
        "outputId": "e8affeb8-083f-4177-da42-1ca8aa8a476f",
        "colab": {
          "base_uri": "https://localhost:8080/"
        }
      },
      "cell_type": "code",
      "source": [
        "with open('mobile_cleaned.csv', 'r') as file:\n",
        "  print(file.readline())"
      ],
      "execution_count": 211,
      "outputs": [
        {
          "output_type": "stream",
          "name": "stdout",
          "text": [
            "sim_type,aperture,gpu_rank,weight,stand_by_time,processor_frequency,thickness,flash_type,front_camera_resolution,auto_focus,screen_size,frames_per_second,FM,no_of_reviews_in_gsmarena_in_week,os,phone_height,screen_protection,sim_size,price,talk_time,video_resolution,display_resolution,removable_battery,display_type,primary_camera_resolution,battery_type,ram_memory,internal_memory,brand_rank,no_of_cores,micro_sd_slot,screen_pixel_density,water_proof_rate,phone_width,expandable_memory,version,usb_type,battery_capacity,processor_rank,is_liked\n",
            "\n"
          ]
        }
      ]
    },
    {
      "metadata": {
        "id": "losKznsX4EPL",
        "colab": {
          "base_uri": "https://localhost:8080/"
        },
        "outputId": "e23f0a1c-ed5c-4e53-a292-1e02aa014af5"
      },
      "cell_type": "code",
      "source": [
        "with open('mobile_cleaned.csv', 'r') as file:\n",
        "  print(file.read())"
      ],
      "execution_count": 212,
      "outputs": [
        {
          "output_type": "stream",
          "name": "stdout",
          "text": [
            "sim_type,aperture,gpu_rank,weight,stand_by_time,processor_frequency,thickness,flash_type,front_camera_resolution,auto_focus,screen_size,frames_per_second,FM,no_of_reviews_in_gsmarena_in_week,os,phone_height,screen_protection,sim_size,price,talk_time,video_resolution,display_resolution,removable_battery,display_type,primary_camera_resolution,battery_type,ram_memory,internal_memory,brand_rank,no_of_cores,micro_sd_slot,screen_pixel_density,water_proof_rate,phone_width,expandable_memory,version,usb_type,battery_capacity,processor_rank,is_liked\n",
            "0,12,55,155.0,250,1.3,10.5,5,2.0,0,4.5,15,3,0,0,132.9,26,3,3870,9,480,12,3,11,5.0,1,1,7,29,6,4,2,3,67.8,64.0,5,3,2000,125,1\n",
            "0,1,55,132.0,300,1.3,10.6,5,0.3,1,4.0,30,2,6,0,124.5,26,5,4059,9,720,15,3,11,5.0,1,1,7,11,6,4,4,6,64.0,32.0,5,3,2000,165,1\n",
            "0,9,55,142.0,329,1.5,8.5,5,2.0,3,5.0,30,2,20,0,145.5,4,3,4777,10,1080,4,3,1,5.04,2,1,7,27,6,4,9,6,72.0,32.0,6,3,2500,164,0\n",
            "0,8,55,152.0,385,1.3,8.0,5,2.0,3,5.0,15,3,0,0,147.5,26,3,5799,19,720,17,3,2,5.0,1,1,7,4,6,4,1,3,75.1,32.0,6,3,3000,165,1\n",
            "1,1,55,234.0,385,1.3,7.9,5,1.92,3,5.0,15,3,0,0,179.0,18,3,5990,11,720,17,3,1,5.0,1,1,7,4,6,4,1,6,91.0,32.0,6,3,3000,165,0\n",
            "0,14,55,179.0,280,1.3,7.9,5,5.0,3,5.5,30,3,6,0,150.0,5,3,5999,22,720,0,0,2,8.0,1,1,7,4,6,4,7,3,71.0,32.0,6,3,2900,165,0\n",
            "1,1,56,124.0,230,1.3,8.8,5,2.0,3,4.0,30,3,0,0,123.0,26,3,5999,11,1080,16,3,2,5.0,1,512,5,30,0,4,4,3,62.5,128.0,2,3,1700,163,1\n",
            "0,8,41,154.0,182,1.0,8.1,5,2.0,3,5.0,30,5,0,0,132.0,26,3,6599,7,720,4,3,2,8.0,0,2,2,4,6,4,9,3,78.0,32.0,6,3,2000,92,1\n",
            "1,8,41,214.0,182,1.0,8.2,5,2.0,3,5.0,30,3,39,0,172.0,18,3,6599,6,720,14,3,2,8.0,1,2,2,4,6,4,9,6,80.0,32.0,6,7,2000,92,1\n",
            "0,1,55,155.0,435,1.3,11.6,5,2.0,3,5.0,15,2,5,0,142.1,5,3,6649,9,720,4,1,2,8.0,1,2,7,4,6,4,9,6,72.4,32.0,5,3,3000,125,1\n",
            "0,1,55,169.0,514,1.3,7.9,2,2.0,3,5.0,30,3,5,0,152.0,26,3,6749,14,720,4,1,2,8.0,2,2,7,4,6,4,9,3,75.0,32.0,5,4,4000,126,1\n",
            "0,10,55,137.0,300,1.3,7.9,5,5.0,3,5.0,30,2,42,1,141.6,18,3,6990,15,720,3,3,7,8.0,1,1,7,2,6,3,9,6,70.0,128.0,0,3,2600,166,0\n",
            "0,1,50,135.0,280,1.4,8.0,7,5.0,3,5.3,30,3,10,0,148.0,26,3,6999,8,1080,4,3,2,13.0,1,1,7,20,4,4,8,2,74.0,32.0,4,3,2500,79,1\n",
            "0,11,43,133.0,198,1.2,9.0,5,2.0,3,4.7,30,2,139,0,134.0,5,3,6999,7,1080,14,3,2,8.0,2,2,2,6,6,4,11,6,67.0,32.0,4,8,2200,94,1\n",
            "0,8,41,142.0,200,1.3,8.9,5,5.0,3,5.0,30,3,94,0,140.8,21,3,6999,10,1080,4,1,2,13.0,1,3,2,18,6,6,9,6,70.4,32.0,6,3,2500,92,1\n",
            "1,10,41,131.0,680,1.3,8.7,5,5.0,3,5.0,30,1,10,0,140.1,1,11,6999,23,1080,14,1,1,13.0,1,2,2,30,6,2,9,3,68.9,256.0,6,3,2500,92,1\n",
            "1,10,47,152.0,576,1.2,8.6,5,5.0,3,5.0,30,3,28,3,144.0,26,3,7340,26,480,4,3,2,8.0,1,1,7,7,6,4,9,3,73.7,128.0,13,3,2200,132,1\n",
            "0,10,43,128.0,264,1.2,8.2,5,2.0,3,5.0,30,2,126,0,141.0,26,3,7499,13,720,4,3,1,8.0,2,2,2,11,6,4,9,6,70.0,32.0,4,3,2300,94,1\n",
            "0,10,41,130.0,180,1.3,8.4,5,2.0,3,4.5,30,3,0,0,69.0,18,3,7590,11,1080,4,3,7,5.0,1,1,7,2,6,6,5,6,136.5,128.0,6,7,2000,100,1\n",
            "0,10,43,143.0,160,1.2,8.2,5,5.0,3,5.0,30,3,142,0,142.4,6,3,7790,7,1080,4,3,2,8.0,1,2,2,17,6,6,9,3,73.0,32.0,5,3,2230,94,1\n",
            "0,1,55,152.0,450,1.2,9.4,2,5.0,3,5.0,30,2,0,0,143.0,5,3,7899,14,1080,4,1,2,8.0,1,2,7,4,6,4,9,6,71.8,32.0,6,3,4000,94,1\n",
            "0,10,34,140.0,264,1.5,8.0,5,5.0,3,5.5,30,5,184,0,152.6,26,3,7914,39,1080,4,3,2,8.0,2,2,7,11,4,4,7,3,76.2,32.0,5,3,2900,16,1\n",
            "2,1,38,125.0,354,1.3,7.6,5,5.0,3,5.0,30,5,10,0,144.6,14,11,7999,12,1080,9,1,2,13.0,2,3,4,27,4,2,23,6,72.0,128.0,6,5,2400,19,0\n",
            "3,1,43,97.0,345,1.2,5.1,5,5.0,3,4.8,30,3,0,0,141.9,5,9,8490,8,1080,14,1,0,8.0,2,2,2,4,6,2,10,2,68.1,0.0,5,3,2000,94,1\n",
            "0,10,29,150.0,322,1.5,8.2,5,5.0,3,5.0,30,3,113,0,142.0,2,12,8499,15,1080,9,3,2,13.0,2,2,2,11,4,6,23,6,71.0,32.0,6,4,2750,21,1\n",
            "0,8,43,202.0,914,1.2,10.6,2,5.0,3,5.5,30,4,34,0,156.0,18,3,8999,38,1080,4,1,2,13.0,2,2,2,16,6,6,7,6,77.5,64.0,5,4,5000,94,1\n",
            "0,8,43,170.0,456,1.2,10.8,2,5.0,3,5.5,30,2,189,0,152.5,7,3,8999,21,1080,9,3,2,13.0,2,2,2,16,6,4,7,6,77.2,128.0,5,3,3000,94,1\n",
            "0,8,38,155.0,350,1.3,9.3,5,5.0,3,5.5,30,3,122,0,151.0,18,3,8999,38,1080,4,1,2,13.0,1,2,2,18,4,6,7,6,77.0,64.0,6,4,3000,19,1\n",
            "0,1,44,160.0,617,1.7,9.6,5,5.0,3,5.0,30,3,0,0,150.1,26,12,9399,12,1080,4,3,9,8.0,2,1,7,5,4,4,9,3,72.7,32.0,5,3,2100,79,1\n",
            "0,10,43,185.0,775,1.2,9.4,5,5.0,3,5.5,30,2,87,0,154.0,26,3,9499,38,1080,4,3,2,13.0,2,2,2,6,6,4,7,6,78.7,32.0,4,3,3100,94,1\n",
            "0,8,55,141.0,218,1.2,7.6,5,8.0,3,5.0,30,2,9,0,142.7,26,10,9700,16,1080,18,1,11,8.0,3,1,2,10,6,4,3,6,71.7,128.0,1,3,2420,94,1\n",
            "0,8,34,150.0,270,1.7,8.0,2,5.0,3,5.5,30,2,0,0,152.6,19,3,9715,30,1080,1,3,1,13.0,1,2,2,11,4,4,16,6,76.2,32.0,5,3,2900,16,1\n",
            "0,8,43,155.0,250,1.4,11.6,2,5.0,3,5.0,30,2,760,0,142.1,5,3,9999,22,1080,4,1,2,13.0,1,2,2,3,6,4,9,7,72.4,32.0,6,3,2470,94,1\n",
            "0,10,28,164.0,264,1.4,8.7,2,5.0,3,5.5,30,2,420,0,150.0,26,3,9999,20,1080,9,1,2,16.0,2,2,4,6,2,1,16,6,76.0,0.0,6,3,4050,12,1\n",
            "0,10,28,164.0,265,1.4,8.7,2,5.0,3,5.5,30,2,420,0,150.0,18,3,9999,20,1080,9,1,2,16.0,2,2,4,6,2,3,16,6,76.0,0.0,6,3,4050,12,1\n",
            "0,8,34,150.0,750,1.7,8.0,2,5.0,3,5.5,30,3,608,0,152.6,26,3,9999,36,1080,9,3,2,13.0,1,2,2,11,4,6,16,6,76.2,32.0,5,4,3000,90,1\n",
            "0,10,34,138.0,521,1.7,8.2,5,5.0,3,5.0,30,3,20,0,146.9,26,9,9999,23,1080,4,3,2,13.0,2,1,7,5,4,4,9,6,70.9,32.0,4,3,2000,16,1\n",
            "1,10,38,149.0,360,1.3,8.7,2,5.0,3,5.5,30,1,0,0,150.9,1,11,9999,20,1080,9,1,2,13.0,6,2,4,30,4,4,18,3,75.2,128.0,5,3,3100,19,1\n",
            "2,0,27,128.0,490,1.7,8.8,5,5.0,3,5.0,30,3,0,0,140.8,18,11,9999,12,720,5,2,2,13.0,6,3,2,4,9,4,9,3,70.4,32.0,6,3,2100,19,0\n",
            "0,4,41,172.0,350,1.2,8.2,5,5.0,3,5.5,30,5,0,0,151.8,18,3,10190,21,1080,4,3,12,13.0,1,2,7,2,6,6,7,6,77.5,128.0,6,3,3000,94,1\n",
            "0,1,38,143.0,275,1.3,8.5,5,5.0,3,5.2,30,3,21,0,148.0,18,3,10899,10,1080,9,1,2,13.0,2,3,2,4,4,5,20,6,73.6,0.0,6,3,2900,90,1\n",
            "0,8,28,169.0,496,2.2,7.5,5,5.0,3,5.5,30,1,26,0,151.1,17,2,10999,20,2160,9,1,2,13.0,2,3,4,19,4,1,9,6,74.2,0.0,8,1,3000,14,1\n",
            "0,8,34,149.0,696,1.7,8.9,5,5.0,3,5.0,30,3,43,0,142.0,26,3,11090,46,1080,4,1,2,13.0,2,2,2,11,4,4,9,3,71.8,32.0,4,4,4000,16,1\n",
            "0,8,41,153.2,261,1.3,8.3,2,8.0,3,5.5,30,3,0,0,151.9,5,3,11299,28,1080,0,3,2,13.0,2,3,2,14,6,4,7,3,76.7,32.0,6,3,3000,92,1\n",
            "0,8,29,130.0,384,1.7,7.8,2,5.0,3,5.0,30,3,385,0,138.1,13,0,11999,35,1080,1,1,2,13.0,1,2,2,6,4,2,23,6,69.6,0.0,5,3,3120,22,1\n",
            "0,10,38,160.0,265,1.3,9.2,2,5.0,3,5.5,30,2,1016,0,153.6,18,3,11999,22,1080,9,1,2,13.0,2,3,2,11,2,3,17,6,76.5,128.0,6,3,3300,12,1\n",
            "0,10,29,155.0,342,1.5,11.6,2,5.0,3,5.0,30,3,0,0,142.1,5,0,12499,28,1080,4,1,12,13.0,1,2,2,3,4,4,34,5,72.4,32.0,6,2,2470,22,1\n",
            "0,13,34,138.0,761,1.7,8.2,5,5.0,3,5.0,30,4,2,0,146.9,18,11,13349,30,1080,3,1,2,13.0,1,2,2,5,4,3,9,6,70.9,32.0,4,3,2000,16,1\n",
            "0,3,41,148.0,566,1.0,9.3,5,5.0,3,5.0,30,2,0,0,141.0,5,3,13349,16,720,4,1,2,8.0,2,2,2,11,6,3,9,6,71.8,32.0,6,3,4000,92,1\n",
            "0,8,29,155.0,620,1.5,9.8,2,5.0,3,5.5,30,3,671,0,153.0,5,3,13499,24,1080,9,4,1,16.0,2,3,3,3,9,4,16,3,76.6,128.0,9,3,3000,72,1\n",
            "0,7,29,171.0,354,1.6,7.5,5,5.0,3,5.5,30,2,73,0,152.4,26,3,13990,23,1080,4,3,7,13.0,1,2,0,2,4,3,16,6,78.6,128.0,6,3,3000,72,1\n",
            "0,8,28,150.0,337,2.0,8.7,5,5.0,3,5.5,30,2,25,0,156.8,5,4,13999,9,1080,9,1,2,13.0,1,4,2,4,4,3,16,6,78.1,64.0,6,3,3000,14,1\n",
            "0,10,30,170.0,354,1.6,7.8,2,5.0,3,5.5,30,2,301,0,151.7,18,3,14249,23,1080,9,3,7,13.0,1,3,2,2,4,3,16,6,76.0,128.0,9,3,3300,72,1\n",
            "0,9,43,141.0,345,1.2,7.3,6,5.0,4,5.5,30,5,0,0,151.3,7,11,14300,18,1080,4,4,7,13.0,1,2,2,2,11,4,7,3,77.2,64.0,4,3,2950,94,0\n",
            "0,1,44,154.5,560,1.7,7.7,5,8.0,3,5.5,30,2,12,0,157.7,26,9,14614,12,1080,4,1,2,13.0,2,1,2,5,4,4,7,6,78.7,32.0,4,3,2600,79,1\n",
            "1,1,44,171.8,1093,1.4,7.7,5,1.1,3,6.0,30,3,24,0,165.2,26,3,14880,30,1080,4,1,11,13.0,1,1,7,8,6,4,6,6,83.8,32.0,3,3,3000,129,1\n",
            "1,10,29,229.0,480,1.5,7.6,4,5.0,3,6.8,30,3,0,0,186.6,18,3,14990,24,1080,1,1,1,13.0,2,2,4,11,4,4,12,6,96.6,64.0,5,3,3500,22,1\n",
            "0,10,16,160.0,200,2.3,6.9,5,8.0,3,5.0,30,3,175,0,140.0,5,9,14999,24,1080,9,1,0,13.0,2,3,2,12,6,1,23,6,69.0,0.0,6,4,2525,15,1\n",
            "3,6,16,149.0,280,2.5,8.9,5,8.0,3,5.0,30,2,33,0,139.2,26,3,14999,18,2160,1,1,2,13.0,1,3,2,6,6,2,23,6,68.5,0.0,4,3,3080,15,1\n",
            "3,3,16,144.0,250,2.5,10.0,2,13.0,3,5.2,30,4,188,0,140.8,5,11,14999,24,2160,9,1,5,13.0,1,2,2,3,6,1,20,4,72.4,0.0,4,3,2300,15,1\n",
            "2,10,16,175.0,840,2.5,8.9,3,8.0,3,5.5,30,1,6,0,155.7,15,11,15689,48,1080,9,1,4,13.0,2,3,6,11,6,0,16,3,77.3,0.0,6,14,4100,15,0\n",
            "0,8,29,134.0,380,1.7,7.3,5,8.0,3,5.0,30,1,0,0,143.5,8,2,15950,20,1080,9,1,2,13.0,1,3,2,10,4,3,9,6,71.0,128.0,6,3,2500,21,1\n",
            "0,7,30,170.0,354,1.6,7.8,5,5.0,3,5.5,30,3,301,0,151.7,26,3,15990,23,1080,0,3,7,13.0,1,3,2,2,4,4,7,6,76.0,32.0,9,3,3300,72,1\n",
            "0,13,29,189.0,600,1.5,9.9,2,5.0,3,5.5,30,2,137,0,152.9,5,11,15999,44,1080,9,1,2,13.0,2,2,4,11,4,3,16,6,75.6,128.0,6,3,5000,22,1\n",
            "3,10,15,130.0,370,1.6,7.9,5,2.0,3,5.0,30,1,347,0,136.6,5,3,16999,17,1080,9,3,7,13.0,1,2,2,2,4,4,23,3,69.8,64.0,2,10,2600,20,1\n",
            "0,10,29,145.0,456,1.7,7.3,2,8.0,3,5.0,30,2,22,0,142.0,5,3,17810,21,1080,1,1,2,16.0,2,3,4,11,4,4,23,6,70.0,128.0,5,3,3000,22,1\n",
            "0,8,29,169.0,330,1.7,10.9,2,5.0,3,5.5,30,2,48,0,148.0,5,11,18499,18,1080,9,1,2,21.0,1,2,4,3,6,4,16,7,75.0,128.0,6,3,3630,22,1\n",
            "1,8,29,135.0,488,1.5,7.3,5,5.0,3,5.0,30,3,0,0,145.5,21,9,18798,13,1080,6,1,2,13.0,1,2,2,8,6,4,9,0,72.6,128.0,5,3,2400,22,1\n",
            "0,10,34,147.0,682,1.7,7.9,5,5.0,3,5.5,30,3,0,0,150.3,20,9,19000,11,1080,1,1,3,13.0,1,2,2,8,4,4,0,3,77.4,128.0,5,7,2600,16,1\n",
            "0,8,38,150.0,420,1.5,8.0,5,4.0,3,5.5,30,3,18,0,157.7,26,9,19490,12,1080,9,1,2,13.0,2,2,2,5,4,4,16,3,78.9,2048.0,6,3,2800,19,1\n",
            "0,10,34,165.0,170,1.5,7.6,5,4.0,3,5.5,30,1,13,0,157.7,26,9,19890,7,1080,4,3,2,13.0,6,2,2,5,4,4,7,3,79.7,128.0,5,3,2600,16,1\n",
            "3,8,16,162.0,360,2.5,8.9,2,5.0,3,5.5,30,4,22,0,152.9,5,3,19999,38,2160,9,1,2,13.0,2,3,6,12,6,1,16,6,75.9,0.0,4,4,3100,15,1\n",
            "3,10,17,112.0,250,1.3,7.6,2,1.2,3,4.0,30,1,1304,2,123.8,12,11,20397,10,1080,2,1,2,8.0,2,1,2,1,0,1,13,6,58.6,0.0,11,13,1560,13,1\n",
            "0,8,29,183.0,687,1.7,8.0,5,4.0,3,5.5,30,2,131,0,158.0,26,11,21300,19,1080,9,1,9,13.0,2,2,2,5,4,4,16,6,77.5,128.0,5,3,2600,22,1\n",
            "3,10,16,145.0,390,1.9,8.1,5,2.0,3,5.1,30,1,22,0,142.0,5,9,21999,21,2160,1,3,7,16.0,1,2,2,2,6,4,22,7,72.5,128.0,4,9,2800,15,0\n",
            "0,8,34,187.0,635,1.7,8.2,5,13.0,3,6.0,30,3,26,0,164.2,20,9,21999,13,1080,1,1,2,13.0,1,2,2,8,4,4,14,3,79.6,200.0,5,3,2930,16,1\n",
            "0,8,9,175.0,360,1.8,9.9,2,5.0,3,5.5,30,4,100,0,151.8,5,9,22999,38,2160,9,1,2,13.0,2,4,6,12,6,1,16,6,74.9,0.0,6,12,3300,5,1\n",
            "1,8,24,157.0,620,2.2,8.5,1,8.0,3,5.2,30,3,29,0,143.2,26,9,22999,23,1080,9,4,2,20.0,2,3,2,15,4,4,20,6,71.9,128.0,5,3,3100,11,0\n",
            "0,8,14,175.0,618,1.8,9.3,2,8.0,4,5.5,30,2,0,0,154.0,5,11,24499,31,2160,9,4,1,21.0,4,3,6,11,8,6,16,6,76.5,0.0,6,3,3600,8,0\n",
            "3,7,41,155.0,180,1.6,7.1,5,5.0,3,5.2,30,3,75,0,144.8,7,9,24900,16,1080,1,0,7,13.0,2,2,2,2,4,4,20,3,71.0,128.0,6,3,2900,72,1\n",
            "1,8,3,129.0,598,1.8,7.3,2,4.0,3,5.15,30,1,0,0,144.6,7,9,24999,27,2160,1,1,2,16.0,2,4,4,6,6,2,21,6,69.2,0.0,9,0,3000,2,0\n",
            "4,8,14,179.0,410,1.8,11.1,0,5.0,3,5.7,30,1,4,0,153.9,5,9,24999,19,2160,10,4,12,21.0,1,3,6,3,8,4,26,6,76.2,128.0,6,3,3000,3,1\n",
            "3,8,9,144.0,590,2.0,6.9,5,2.2,3,5.2,30,2,126,0,146.0,25,3,25500,17,2160,1,1,1,20.7,1,3,4,8,6,4,20,7,72.0,128.0,5,3,2930,5,1\n",
            "1,10,28,142.6,504,2.0,7.6,5,13.0,3,5.0,30,3,69,0,145.0,21,9,25500,12,216,1,1,2,21.2,1,3,2,8,4,4,23,1,72.0,200.0,5,3,2600,14,0\n",
            "0,10,25,145.0,250,2.0,6.6,5,16.0,3,5.5,30,4,19,0,151.8,7,11,27580,24,1080,9,1,0,13.0,2,4,6,10,4,3,16,6,74.3,128.0,6,3,2850,90,1\n",
            "3,10,11,176.0,200,2.7,8.5,5,3.7,3,5.7,30,1,226,0,153.5,0,3,29900,20,216,10,3,7,16.0,1,3,4,2,6,4,24,6,78.6,128.0,4,3,3220,9,1\n",
            "0,10,21,168.0,420,2.3,8.3,5,2.0,3,5.7,30,0,502,0,151.2,5,3,29990,21,2160,9,3,7,13.0,1,3,4,2,6,4,15,3,79.2,64.0,3,9,3200,52,1\n",
            "4,6,14,155.0,410,1.8,6.3,2,8.0,3,5.5,30,3,0,0,148.9,10,9,30947,19,2160,10,5,1,16.0,1,3,4,9,8,4,28,6,76.1,2048.0,6,3,3000,8,1\n",
            "3,8,9,178.0,440,2.0,7.3,2,8.0,3,5.7,30,1,87,0,159.3,11,9,31999,23,2160,8,1,0,12.3,2,3,4,15,4,2,25,6,77.8,0.0,9,3,3450,5,1\n",
            "3,7,8,138.0,354,2.1,6.8,2,5.0,3,5.1,30,1,349,0,143.4,7,9,33900,17,2160,10,1,7,16.0,1,3,4,2,6,2,31,3,70.5,0.0,5,3,2550,4,1\n",
            "3,8,9,169.0,500,2.0,9.2,2,5.0,3,5.4,30,4,22,0,149.8,23,11,34999,25,2160,10,1,0,21.0,1,3,4,3,6,1,29,6,78.0,0.0,7,3,3760,5,0\n",
            "3,10,6,113.0,240,1.84,7.6,2,1.2,3,4.0,30,1,0,2,123.8,3,6,34999,14,2160,13,1,1,12.0,2,1,2,1,1,2,13,6,58.6,0.0,14,13,1624,1,0\n",
            "4,8,14,136.0,360,1.8,7.9,1,5.0,3,5.2,30,1,24,0,147.0,5,9,35900,14,2160,9,4,2,12.3,4,2,2,9,8,2,19,6,72.6,0.0,9,11,2700,8,1\n",
            "3,10,12,129.0,250,1.4,6.9,2,1.3,3,4.7,60,1,410,2,138.1,16,9,36499,14,1080,7,1,2,8.0,2,1,2,1,0,2,13,3,67.0,0.0,12,6,1810,7,1\n",
            "3,10,12,129.0,250,1.4,6.9,2,1.2,3,4.7,60,4,39,2,138.1,16,11,36999,14,1080,9,1,2,8.0,2,1,2,1,0,1,13,6,67.0,0.0,12,13,1810,7,1\n",
            "3,10,28,168.0,580,2.2,9.6,2,4.0,3,5.2,30,3,11,0,151.0,7,7,37766,20,2160,10,4,10,20.0,4,3,4,5,10,4,30,6,72.0,256.0,5,3,2840,56,0\n",
            "3,12,16,149.0,410,2.5,8.9,3,2.1,3,5.5,30,3,0,0,146.3,5,1,38000,19,2160,10,3,1,13.0,5,3,4,9,7,4,28,6,74.6,32.0,4,3,3000,15,1\n",
            "0,8,9,154.0,340,2.0,7.3,6,5.0,2,5.2,30,3,9,0,146.0,24,7,39890,13,2160,9,4,1,23.0,4,3,4,8,5,6,20,1,72.0,256.0,6,3,2900,5,1\n",
            "3,2,8,132.0,362,1.5,7.0,5,5.0,4,5.1,30,1,0,0,142.1,9,7,40900,14,2160,10,1,7,16.0,1,3,4,2,7,4,32,6,70.1,64.0,5,3,2600,4,1\n",
            "3,10,12,129.0,250,1.4,6.9,2,1.2,3,4.7,60,4,39,2,138.1,16,11,48329,14,1080,7,1,2,8.0,2,1,6,1,0,1,13,6,67.0,0.0,12,13,1810,7,1\n",
            "0,5,3,152.0,242,2.3,7.9,5,5.0,3,5.1,30,4,150,0,142.4,7,9,48900,22,2160,10,1,8,12.0,1,4,4,2,6,6,32,1,69.6,200.0,9,3,3000,101,1\n",
            "3,10,6,143.0,240,1.8,7.1,2,5.0,3,4.7,30,4,100,2,138.3,16,11,49499,14,2160,7,1,2,12.0,2,2,2,1,0,1,13,6,67.1,0.0,14,13,1715,1,1\n",
            "0,7,43,171.0,330,2.1,7.6,5,5.0,3,5.7,30,1,107,0,153.2,7,9,50895,22,2160,8,1,7,16.0,2,4,4,2,4,2,25,6,76.1,0.0,6,3,3450,4,1\n",
            "3,8,9,180.0,600,2.0,7.8,6,5.0,2,5.5,30,3,0,0,154.4,22,7,52699,19,2160,11,4,2,23.0,4,3,4,8,12,6,33,1,75.8,256.0,6,3,3430,5,1\n",
            "3,10,14,192.0,540,1.8,9.4,2,2.0,2,5.4,30,1,0,0,147.0,26,7,54900,15,2160,10,4,0,18.0,4,3,4,25,3,4,29,6,77.2,256.0,6,3,3410,8,1\n",
            "0,5,3,157.0,400,2.3,7.7,5,5.0,3,5.5,30,4,144,0,150.9,7,9,56900,27,2160,10,1,8,12.0,1,4,4,2,6,6,27,1,72.6,200.0,9,3,3600,101,1\n",
            "3,10,6,192.0,384,1.8,7.3,2,5.0,3,5.5,30,4,81,2,158.2,16,11,59000,24,2160,7,1,2,12.0,2,2,2,1,0,1,16,6,77.9,0.0,14,13,2750,1,1\n",
            "3,10,12,129.0,250,1.4,6.9,2,1.2,3,4.7,60,4,39,2,138.1,16,11,64500,14,1080,7,1,2,8.0,2,1,1,1,0,1,13,6,67.0,0.0,12,13,1810,7,1\n",
            "2,8,3,158.0,400,2.2,7.4,6,8.0,3,5.5,30,1,0,0,152.7,7,8,27999,40,2160,9,1,6,16.0,4,6,6,12,6,5,16,6,74.7,0.0,10,12,3000,2,0\n",
            "\n"
          ]
        }
      ]
    },
    {
      "metadata": {
        "id": "Z7ZiqBi-4NAw",
        "colab": {
          "base_uri": "https://localhost:8080/"
        },
        "outputId": "c5eac525-4738-40ec-9edb-e31bc45591a2"
      },
      "cell_type": "code",
      "source": [
        "with open('mobile_cleaned.csv', 'r') as file:\n",
        "  for line in file:\n",
        "    for word in line.split(','):\n",
        "      print(word)\n",
        "    print('-------')"
      ],
      "execution_count": 213,
      "outputs": [
        {
          "output_type": "stream",
          "name": "stdout",
          "text": [
            "sim_type\n",
            "aperture\n",
            "gpu_rank\n",
            "weight\n",
            "stand_by_time\n",
            "processor_frequency\n",
            "thickness\n",
            "flash_type\n",
            "front_camera_resolution\n",
            "auto_focus\n",
            "screen_size\n",
            "frames_per_second\n",
            "FM\n",
            "no_of_reviews_in_gsmarena_in_week\n",
            "os\n",
            "phone_height\n",
            "screen_protection\n",
            "sim_size\n",
            "price\n",
            "talk_time\n",
            "video_resolution\n",
            "display_resolution\n",
            "removable_battery\n",
            "display_type\n",
            "primary_camera_resolution\n",
            "battery_type\n",
            "ram_memory\n",
            "internal_memory\n",
            "brand_rank\n",
            "no_of_cores\n",
            "micro_sd_slot\n",
            "screen_pixel_density\n",
            "water_proof_rate\n",
            "phone_width\n",
            "expandable_memory\n",
            "version\n",
            "usb_type\n",
            "battery_capacity\n",
            "processor_rank\n",
            "is_liked\n",
            "\n",
            "-------\n",
            "0\n",
            "12\n",
            "55\n",
            "155.0\n",
            "250\n",
            "1.3\n",
            "10.5\n",
            "5\n",
            "2.0\n",
            "0\n",
            "4.5\n",
            "15\n",
            "3\n",
            "0\n",
            "0\n",
            "132.9\n",
            "26\n",
            "3\n",
            "3870\n",
            "9\n",
            "480\n",
            "12\n",
            "3\n",
            "11\n",
            "5.0\n",
            "1\n",
            "1\n",
            "7\n",
            "29\n",
            "6\n",
            "4\n",
            "2\n",
            "3\n",
            "67.8\n",
            "64.0\n",
            "5\n",
            "3\n",
            "2000\n",
            "125\n",
            "1\n",
            "\n",
            "-------\n",
            "0\n",
            "1\n",
            "55\n",
            "132.0\n",
            "300\n",
            "1.3\n",
            "10.6\n",
            "5\n",
            "0.3\n",
            "1\n",
            "4.0\n",
            "30\n",
            "2\n",
            "6\n",
            "0\n",
            "124.5\n",
            "26\n",
            "5\n",
            "4059\n",
            "9\n",
            "720\n",
            "15\n",
            "3\n",
            "11\n",
            "5.0\n",
            "1\n",
            "1\n",
            "7\n",
            "11\n",
            "6\n",
            "4\n",
            "4\n",
            "6\n",
            "64.0\n",
            "32.0\n",
            "5\n",
            "3\n",
            "2000\n",
            "165\n",
            "1\n",
            "\n",
            "-------\n",
            "0\n",
            "9\n",
            "55\n",
            "142.0\n",
            "329\n",
            "1.5\n",
            "8.5\n",
            "5\n",
            "2.0\n",
            "3\n",
            "5.0\n",
            "30\n",
            "2\n",
            "20\n",
            "0\n",
            "145.5\n",
            "4\n",
            "3\n",
            "4777\n",
            "10\n",
            "1080\n",
            "4\n",
            "3\n",
            "1\n",
            "5.04\n",
            "2\n",
            "1\n",
            "7\n",
            "27\n",
            "6\n",
            "4\n",
            "9\n",
            "6\n",
            "72.0\n",
            "32.0\n",
            "6\n",
            "3\n",
            "2500\n",
            "164\n",
            "0\n",
            "\n",
            "-------\n",
            "0\n",
            "8\n",
            "55\n",
            "152.0\n",
            "385\n",
            "1.3\n",
            "8.0\n",
            "5\n",
            "2.0\n",
            "3\n",
            "5.0\n",
            "15\n",
            "3\n",
            "0\n",
            "0\n",
            "147.5\n",
            "26\n",
            "3\n",
            "5799\n",
            "19\n",
            "720\n",
            "17\n",
            "3\n",
            "2\n",
            "5.0\n",
            "1\n",
            "1\n",
            "7\n",
            "4\n",
            "6\n",
            "4\n",
            "1\n",
            "3\n",
            "75.1\n",
            "32.0\n",
            "6\n",
            "3\n",
            "3000\n",
            "165\n",
            "1\n",
            "\n",
            "-------\n",
            "1\n",
            "1\n",
            "55\n",
            "234.0\n",
            "385\n",
            "1.3\n",
            "7.9\n",
            "5\n",
            "1.92\n",
            "3\n",
            "5.0\n",
            "15\n",
            "3\n",
            "0\n",
            "0\n",
            "179.0\n",
            "18\n",
            "3\n",
            "5990\n",
            "11\n",
            "720\n",
            "17\n",
            "3\n",
            "1\n",
            "5.0\n",
            "1\n",
            "1\n",
            "7\n",
            "4\n",
            "6\n",
            "4\n",
            "1\n",
            "6\n",
            "91.0\n",
            "32.0\n",
            "6\n",
            "3\n",
            "3000\n",
            "165\n",
            "0\n",
            "\n",
            "-------\n",
            "0\n",
            "14\n",
            "55\n",
            "179.0\n",
            "280\n",
            "1.3\n",
            "7.9\n",
            "5\n",
            "5.0\n",
            "3\n",
            "5.5\n",
            "30\n",
            "3\n",
            "6\n",
            "0\n",
            "150.0\n",
            "5\n",
            "3\n",
            "5999\n",
            "22\n",
            "720\n",
            "0\n",
            "0\n",
            "2\n",
            "8.0\n",
            "1\n",
            "1\n",
            "7\n",
            "4\n",
            "6\n",
            "4\n",
            "7\n",
            "3\n",
            "71.0\n",
            "32.0\n",
            "6\n",
            "3\n",
            "2900\n",
            "165\n",
            "0\n",
            "\n",
            "-------\n",
            "1\n",
            "1\n",
            "56\n",
            "124.0\n",
            "230\n",
            "1.3\n",
            "8.8\n",
            "5\n",
            "2.0\n",
            "3\n",
            "4.0\n",
            "30\n",
            "3\n",
            "0\n",
            "0\n",
            "123.0\n",
            "26\n",
            "3\n",
            "5999\n",
            "11\n",
            "1080\n",
            "16\n",
            "3\n",
            "2\n",
            "5.0\n",
            "1\n",
            "512\n",
            "5\n",
            "30\n",
            "0\n",
            "4\n",
            "4\n",
            "3\n",
            "62.5\n",
            "128.0\n",
            "2\n",
            "3\n",
            "1700\n",
            "163\n",
            "1\n",
            "\n",
            "-------\n",
            "0\n",
            "8\n",
            "41\n",
            "154.0\n",
            "182\n",
            "1.0\n",
            "8.1\n",
            "5\n",
            "2.0\n",
            "3\n",
            "5.0\n",
            "30\n",
            "5\n",
            "0\n",
            "0\n",
            "132.0\n",
            "26\n",
            "3\n",
            "6599\n",
            "7\n",
            "720\n",
            "4\n",
            "3\n",
            "2\n",
            "8.0\n",
            "0\n",
            "2\n",
            "2\n",
            "4\n",
            "6\n",
            "4\n",
            "9\n",
            "3\n",
            "78.0\n",
            "32.0\n",
            "6\n",
            "3\n",
            "2000\n",
            "92\n",
            "1\n",
            "\n",
            "-------\n",
            "1\n",
            "8\n",
            "41\n",
            "214.0\n",
            "182\n",
            "1.0\n",
            "8.2\n",
            "5\n",
            "2.0\n",
            "3\n",
            "5.0\n",
            "30\n",
            "3\n",
            "39\n",
            "0\n",
            "172.0\n",
            "18\n",
            "3\n",
            "6599\n",
            "6\n",
            "720\n",
            "14\n",
            "3\n",
            "2\n",
            "8.0\n",
            "1\n",
            "2\n",
            "2\n",
            "4\n",
            "6\n",
            "4\n",
            "9\n",
            "6\n",
            "80.0\n",
            "32.0\n",
            "6\n",
            "7\n",
            "2000\n",
            "92\n",
            "1\n",
            "\n",
            "-------\n",
            "0\n",
            "1\n",
            "55\n",
            "155.0\n",
            "435\n",
            "1.3\n",
            "11.6\n",
            "5\n",
            "2.0\n",
            "3\n",
            "5.0\n",
            "15\n",
            "2\n",
            "5\n",
            "0\n",
            "142.1\n",
            "5\n",
            "3\n",
            "6649\n",
            "9\n",
            "720\n",
            "4\n",
            "1\n",
            "2\n",
            "8.0\n",
            "1\n",
            "2\n",
            "7\n",
            "4\n",
            "6\n",
            "4\n",
            "9\n",
            "6\n",
            "72.4\n",
            "32.0\n",
            "5\n",
            "3\n",
            "3000\n",
            "125\n",
            "1\n",
            "\n",
            "-------\n",
            "0\n",
            "1\n",
            "55\n",
            "169.0\n",
            "514\n",
            "1.3\n",
            "7.9\n",
            "2\n",
            "2.0\n",
            "3\n",
            "5.0\n",
            "30\n",
            "3\n",
            "5\n",
            "0\n",
            "152.0\n",
            "26\n",
            "3\n",
            "6749\n",
            "14\n",
            "720\n",
            "4\n",
            "1\n",
            "2\n",
            "8.0\n",
            "2\n",
            "2\n",
            "7\n",
            "4\n",
            "6\n",
            "4\n",
            "9\n",
            "3\n",
            "75.0\n",
            "32.0\n",
            "5\n",
            "4\n",
            "4000\n",
            "126\n",
            "1\n",
            "\n",
            "-------\n",
            "0\n",
            "10\n",
            "55\n",
            "137.0\n",
            "300\n",
            "1.3\n",
            "7.9\n",
            "5\n",
            "5.0\n",
            "3\n",
            "5.0\n",
            "30\n",
            "2\n",
            "42\n",
            "1\n",
            "141.6\n",
            "18\n",
            "3\n",
            "6990\n",
            "15\n",
            "720\n",
            "3\n",
            "3\n",
            "7\n",
            "8.0\n",
            "1\n",
            "1\n",
            "7\n",
            "2\n",
            "6\n",
            "3\n",
            "9\n",
            "6\n",
            "70.0\n",
            "128.0\n",
            "0\n",
            "3\n",
            "2600\n",
            "166\n",
            "0\n",
            "\n",
            "-------\n",
            "0\n",
            "1\n",
            "50\n",
            "135.0\n",
            "280\n",
            "1.4\n",
            "8.0\n",
            "7\n",
            "5.0\n",
            "3\n",
            "5.3\n",
            "30\n",
            "3\n",
            "10\n",
            "0\n",
            "148.0\n",
            "26\n",
            "3\n",
            "6999\n",
            "8\n",
            "1080\n",
            "4\n",
            "3\n",
            "2\n",
            "13.0\n",
            "1\n",
            "1\n",
            "7\n",
            "20\n",
            "4\n",
            "4\n",
            "8\n",
            "2\n",
            "74.0\n",
            "32.0\n",
            "4\n",
            "3\n",
            "2500\n",
            "79\n",
            "1\n",
            "\n",
            "-------\n",
            "0\n",
            "11\n",
            "43\n",
            "133.0\n",
            "198\n",
            "1.2\n",
            "9.0\n",
            "5\n",
            "2.0\n",
            "3\n",
            "4.7\n",
            "30\n",
            "2\n",
            "139\n",
            "0\n",
            "134.0\n",
            "5\n",
            "3\n",
            "6999\n",
            "7\n",
            "1080\n",
            "14\n",
            "3\n",
            "2\n",
            "8.0\n",
            "2\n",
            "2\n",
            "2\n",
            "6\n",
            "6\n",
            "4\n",
            "11\n",
            "6\n",
            "67.0\n",
            "32.0\n",
            "4\n",
            "8\n",
            "2200\n",
            "94\n",
            "1\n",
            "\n",
            "-------\n",
            "0\n",
            "8\n",
            "41\n",
            "142.0\n",
            "200\n",
            "1.3\n",
            "8.9\n",
            "5\n",
            "5.0\n",
            "3\n",
            "5.0\n",
            "30\n",
            "3\n",
            "94\n",
            "0\n",
            "140.8\n",
            "21\n",
            "3\n",
            "6999\n",
            "10\n",
            "1080\n",
            "4\n",
            "1\n",
            "2\n",
            "13.0\n",
            "1\n",
            "3\n",
            "2\n",
            "18\n",
            "6\n",
            "6\n",
            "9\n",
            "6\n",
            "70.4\n",
            "32.0\n",
            "6\n",
            "3\n",
            "2500\n",
            "92\n",
            "1\n",
            "\n",
            "-------\n",
            "1\n",
            "10\n",
            "41\n",
            "131.0\n",
            "680\n",
            "1.3\n",
            "8.7\n",
            "5\n",
            "5.0\n",
            "3\n",
            "5.0\n",
            "30\n",
            "1\n",
            "10\n",
            "0\n",
            "140.1\n",
            "1\n",
            "11\n",
            "6999\n",
            "23\n",
            "1080\n",
            "14\n",
            "1\n",
            "1\n",
            "13.0\n",
            "1\n",
            "2\n",
            "2\n",
            "30\n",
            "6\n",
            "2\n",
            "9\n",
            "3\n",
            "68.9\n",
            "256.0\n",
            "6\n",
            "3\n",
            "2500\n",
            "92\n",
            "1\n",
            "\n",
            "-------\n",
            "1\n",
            "10\n",
            "47\n",
            "152.0\n",
            "576\n",
            "1.2\n",
            "8.6\n",
            "5\n",
            "5.0\n",
            "3\n",
            "5.0\n",
            "30\n",
            "3\n",
            "28\n",
            "3\n",
            "144.0\n",
            "26\n",
            "3\n",
            "7340\n",
            "26\n",
            "480\n",
            "4\n",
            "3\n",
            "2\n",
            "8.0\n",
            "1\n",
            "1\n",
            "7\n",
            "7\n",
            "6\n",
            "4\n",
            "9\n",
            "3\n",
            "73.7\n",
            "128.0\n",
            "13\n",
            "3\n",
            "2200\n",
            "132\n",
            "1\n",
            "\n",
            "-------\n",
            "0\n",
            "10\n",
            "43\n",
            "128.0\n",
            "264\n",
            "1.2\n",
            "8.2\n",
            "5\n",
            "2.0\n",
            "3\n",
            "5.0\n",
            "30\n",
            "2\n",
            "126\n",
            "0\n",
            "141.0\n",
            "26\n",
            "3\n",
            "7499\n",
            "13\n",
            "720\n",
            "4\n",
            "3\n",
            "1\n",
            "8.0\n",
            "2\n",
            "2\n",
            "2\n",
            "11\n",
            "6\n",
            "4\n",
            "9\n",
            "6\n",
            "70.0\n",
            "32.0\n",
            "4\n",
            "3\n",
            "2300\n",
            "94\n",
            "1\n",
            "\n",
            "-------\n",
            "0\n",
            "10\n",
            "41\n",
            "130.0\n",
            "180\n",
            "1.3\n",
            "8.4\n",
            "5\n",
            "2.0\n",
            "3\n",
            "4.5\n",
            "30\n",
            "3\n",
            "0\n",
            "0\n",
            "69.0\n",
            "18\n",
            "3\n",
            "7590\n",
            "11\n",
            "1080\n",
            "4\n",
            "3\n",
            "7\n",
            "5.0\n",
            "1\n",
            "1\n",
            "7\n",
            "2\n",
            "6\n",
            "6\n",
            "5\n",
            "6\n",
            "136.5\n",
            "128.0\n",
            "6\n",
            "7\n",
            "2000\n",
            "100\n",
            "1\n",
            "\n",
            "-------\n",
            "0\n",
            "10\n",
            "43\n",
            "143.0\n",
            "160\n",
            "1.2\n",
            "8.2\n",
            "5\n",
            "5.0\n",
            "3\n",
            "5.0\n",
            "30\n",
            "3\n",
            "142\n",
            "0\n",
            "142.4\n",
            "6\n",
            "3\n",
            "7790\n",
            "7\n",
            "1080\n",
            "4\n",
            "3\n",
            "2\n",
            "8.0\n",
            "1\n",
            "2\n",
            "2\n",
            "17\n",
            "6\n",
            "6\n",
            "9\n",
            "3\n",
            "73.0\n",
            "32.0\n",
            "5\n",
            "3\n",
            "2230\n",
            "94\n",
            "1\n",
            "\n",
            "-------\n",
            "0\n",
            "1\n",
            "55\n",
            "152.0\n",
            "450\n",
            "1.2\n",
            "9.4\n",
            "2\n",
            "5.0\n",
            "3\n",
            "5.0\n",
            "30\n",
            "2\n",
            "0\n",
            "0\n",
            "143.0\n",
            "5\n",
            "3\n",
            "7899\n",
            "14\n",
            "1080\n",
            "4\n",
            "1\n",
            "2\n",
            "8.0\n",
            "1\n",
            "2\n",
            "7\n",
            "4\n",
            "6\n",
            "4\n",
            "9\n",
            "6\n",
            "71.8\n",
            "32.0\n",
            "6\n",
            "3\n",
            "4000\n",
            "94\n",
            "1\n",
            "\n",
            "-------\n",
            "0\n",
            "10\n",
            "34\n",
            "140.0\n",
            "264\n",
            "1.5\n",
            "8.0\n",
            "5\n",
            "5.0\n",
            "3\n",
            "5.5\n",
            "30\n",
            "5\n",
            "184\n",
            "0\n",
            "152.6\n",
            "26\n",
            "3\n",
            "7914\n",
            "39\n",
            "1080\n",
            "4\n",
            "3\n",
            "2\n",
            "8.0\n",
            "2\n",
            "2\n",
            "7\n",
            "11\n",
            "4\n",
            "4\n",
            "7\n",
            "3\n",
            "76.2\n",
            "32.0\n",
            "5\n",
            "3\n",
            "2900\n",
            "16\n",
            "1\n",
            "\n",
            "-------\n",
            "2\n",
            "1\n",
            "38\n",
            "125.0\n",
            "354\n",
            "1.3\n",
            "7.6\n",
            "5\n",
            "5.0\n",
            "3\n",
            "5.0\n",
            "30\n",
            "5\n",
            "10\n",
            "0\n",
            "144.6\n",
            "14\n",
            "11\n",
            "7999\n",
            "12\n",
            "1080\n",
            "9\n",
            "1\n",
            "2\n",
            "13.0\n",
            "2\n",
            "3\n",
            "4\n",
            "27\n",
            "4\n",
            "2\n",
            "23\n",
            "6\n",
            "72.0\n",
            "128.0\n",
            "6\n",
            "5\n",
            "2400\n",
            "19\n",
            "0\n",
            "\n",
            "-------\n",
            "3\n",
            "1\n",
            "43\n",
            "97.0\n",
            "345\n",
            "1.2\n",
            "5.1\n",
            "5\n",
            "5.0\n",
            "3\n",
            "4.8\n",
            "30\n",
            "3\n",
            "0\n",
            "0\n",
            "141.9\n",
            "5\n",
            "9\n",
            "8490\n",
            "8\n",
            "1080\n",
            "14\n",
            "1\n",
            "0\n",
            "8.0\n",
            "2\n",
            "2\n",
            "2\n",
            "4\n",
            "6\n",
            "2\n",
            "10\n",
            "2\n",
            "68.1\n",
            "0.0\n",
            "5\n",
            "3\n",
            "2000\n",
            "94\n",
            "1\n",
            "\n",
            "-------\n",
            "0\n",
            "10\n",
            "29\n",
            "150.0\n",
            "322\n",
            "1.5\n",
            "8.2\n",
            "5\n",
            "5.0\n",
            "3\n",
            "5.0\n",
            "30\n",
            "3\n",
            "113\n",
            "0\n",
            "142.0\n",
            "2\n",
            "12\n",
            "8499\n",
            "15\n",
            "1080\n",
            "9\n",
            "3\n",
            "2\n",
            "13.0\n",
            "2\n",
            "2\n",
            "2\n",
            "11\n",
            "4\n",
            "6\n",
            "23\n",
            "6\n",
            "71.0\n",
            "32.0\n",
            "6\n",
            "4\n",
            "2750\n",
            "21\n",
            "1\n",
            "\n",
            "-------\n",
            "0\n",
            "8\n",
            "43\n",
            "202.0\n",
            "914\n",
            "1.2\n",
            "10.6\n",
            "2\n",
            "5.0\n",
            "3\n",
            "5.5\n",
            "30\n",
            "4\n",
            "34\n",
            "0\n",
            "156.0\n",
            "18\n",
            "3\n",
            "8999\n",
            "38\n",
            "1080\n",
            "4\n",
            "1\n",
            "2\n",
            "13.0\n",
            "2\n",
            "2\n",
            "2\n",
            "16\n",
            "6\n",
            "6\n",
            "7\n",
            "6\n",
            "77.5\n",
            "64.0\n",
            "5\n",
            "4\n",
            "5000\n",
            "94\n",
            "1\n",
            "\n",
            "-------\n",
            "0\n",
            "8\n",
            "43\n",
            "170.0\n",
            "456\n",
            "1.2\n",
            "10.8\n",
            "2\n",
            "5.0\n",
            "3\n",
            "5.5\n",
            "30\n",
            "2\n",
            "189\n",
            "0\n",
            "152.5\n",
            "7\n",
            "3\n",
            "8999\n",
            "21\n",
            "1080\n",
            "9\n",
            "3\n",
            "2\n",
            "13.0\n",
            "2\n",
            "2\n",
            "2\n",
            "16\n",
            "6\n",
            "4\n",
            "7\n",
            "6\n",
            "77.2\n",
            "128.0\n",
            "5\n",
            "3\n",
            "3000\n",
            "94\n",
            "1\n",
            "\n",
            "-------\n",
            "0\n",
            "8\n",
            "38\n",
            "155.0\n",
            "350\n",
            "1.3\n",
            "9.3\n",
            "5\n",
            "5.0\n",
            "3\n",
            "5.5\n",
            "30\n",
            "3\n",
            "122\n",
            "0\n",
            "151.0\n",
            "18\n",
            "3\n",
            "8999\n",
            "38\n",
            "1080\n",
            "4\n",
            "1\n",
            "2\n",
            "13.0\n",
            "1\n",
            "2\n",
            "2\n",
            "18\n",
            "4\n",
            "6\n",
            "7\n",
            "6\n",
            "77.0\n",
            "64.0\n",
            "6\n",
            "4\n",
            "3000\n",
            "19\n",
            "1\n",
            "\n",
            "-------\n",
            "0\n",
            "1\n",
            "44\n",
            "160.0\n",
            "617\n",
            "1.7\n",
            "9.6\n",
            "5\n",
            "5.0\n",
            "3\n",
            "5.0\n",
            "30\n",
            "3\n",
            "0\n",
            "0\n",
            "150.1\n",
            "26\n",
            "12\n",
            "9399\n",
            "12\n",
            "1080\n",
            "4\n",
            "3\n",
            "9\n",
            "8.0\n",
            "2\n",
            "1\n",
            "7\n",
            "5\n",
            "4\n",
            "4\n",
            "9\n",
            "3\n",
            "72.7\n",
            "32.0\n",
            "5\n",
            "3\n",
            "2100\n",
            "79\n",
            "1\n",
            "\n",
            "-------\n",
            "0\n",
            "10\n",
            "43\n",
            "185.0\n",
            "775\n",
            "1.2\n",
            "9.4\n",
            "5\n",
            "5.0\n",
            "3\n",
            "5.5\n",
            "30\n",
            "2\n",
            "87\n",
            "0\n",
            "154.0\n",
            "26\n",
            "3\n",
            "9499\n",
            "38\n",
            "1080\n",
            "4\n",
            "3\n",
            "2\n",
            "13.0\n",
            "2\n",
            "2\n",
            "2\n",
            "6\n",
            "6\n",
            "4\n",
            "7\n",
            "6\n",
            "78.7\n",
            "32.0\n",
            "4\n",
            "3\n",
            "3100\n",
            "94\n",
            "1\n",
            "\n",
            "-------\n",
            "0\n",
            "8\n",
            "55\n",
            "141.0\n",
            "218\n",
            "1.2\n",
            "7.6\n",
            "5\n",
            "8.0\n",
            "3\n",
            "5.0\n",
            "30\n",
            "2\n",
            "9\n",
            "0\n",
            "142.7\n",
            "26\n",
            "10\n",
            "9700\n",
            "16\n",
            "1080\n",
            "18\n",
            "1\n",
            "11\n",
            "8.0\n",
            "3\n",
            "1\n",
            "2\n",
            "10\n",
            "6\n",
            "4\n",
            "3\n",
            "6\n",
            "71.7\n",
            "128.0\n",
            "1\n",
            "3\n",
            "2420\n",
            "94\n",
            "1\n",
            "\n",
            "-------\n",
            "0\n",
            "8\n",
            "34\n",
            "150.0\n",
            "270\n",
            "1.7\n",
            "8.0\n",
            "2\n",
            "5.0\n",
            "3\n",
            "5.5\n",
            "30\n",
            "2\n",
            "0\n",
            "0\n",
            "152.6\n",
            "19\n",
            "3\n",
            "9715\n",
            "30\n",
            "1080\n",
            "1\n",
            "3\n",
            "1\n",
            "13.0\n",
            "1\n",
            "2\n",
            "2\n",
            "11\n",
            "4\n",
            "4\n",
            "16\n",
            "6\n",
            "76.2\n",
            "32.0\n",
            "5\n",
            "3\n",
            "2900\n",
            "16\n",
            "1\n",
            "\n",
            "-------\n",
            "0\n",
            "8\n",
            "43\n",
            "155.0\n",
            "250\n",
            "1.4\n",
            "11.6\n",
            "2\n",
            "5.0\n",
            "3\n",
            "5.0\n",
            "30\n",
            "2\n",
            "760\n",
            "0\n",
            "142.1\n",
            "5\n",
            "3\n",
            "9999\n",
            "22\n",
            "1080\n",
            "4\n",
            "1\n",
            "2\n",
            "13.0\n",
            "1\n",
            "2\n",
            "2\n",
            "3\n",
            "6\n",
            "4\n",
            "9\n",
            "7\n",
            "72.4\n",
            "32.0\n",
            "6\n",
            "3\n",
            "2470\n",
            "94\n",
            "1\n",
            "\n",
            "-------\n",
            "0\n",
            "10\n",
            "28\n",
            "164.0\n",
            "264\n",
            "1.4\n",
            "8.7\n",
            "2\n",
            "5.0\n",
            "3\n",
            "5.5\n",
            "30\n",
            "2\n",
            "420\n",
            "0\n",
            "150.0\n",
            "26\n",
            "3\n",
            "9999\n",
            "20\n",
            "1080\n",
            "9\n",
            "1\n",
            "2\n",
            "16.0\n",
            "2\n",
            "2\n",
            "4\n",
            "6\n",
            "2\n",
            "1\n",
            "16\n",
            "6\n",
            "76.0\n",
            "0.0\n",
            "6\n",
            "3\n",
            "4050\n",
            "12\n",
            "1\n",
            "\n",
            "-------\n",
            "0\n",
            "10\n",
            "28\n",
            "164.0\n",
            "265\n",
            "1.4\n",
            "8.7\n",
            "2\n",
            "5.0\n",
            "3\n",
            "5.5\n",
            "30\n",
            "2\n",
            "420\n",
            "0\n",
            "150.0\n",
            "18\n",
            "3\n",
            "9999\n",
            "20\n",
            "1080\n",
            "9\n",
            "1\n",
            "2\n",
            "16.0\n",
            "2\n",
            "2\n",
            "4\n",
            "6\n",
            "2\n",
            "3\n",
            "16\n",
            "6\n",
            "76.0\n",
            "0.0\n",
            "6\n",
            "3\n",
            "4050\n",
            "12\n",
            "1\n",
            "\n",
            "-------\n",
            "0\n",
            "8\n",
            "34\n",
            "150.0\n",
            "750\n",
            "1.7\n",
            "8.0\n",
            "2\n",
            "5.0\n",
            "3\n",
            "5.5\n",
            "30\n",
            "3\n",
            "608\n",
            "0\n",
            "152.6\n",
            "26\n",
            "3\n",
            "9999\n",
            "36\n",
            "1080\n",
            "9\n",
            "3\n",
            "2\n",
            "13.0\n",
            "1\n",
            "2\n",
            "2\n",
            "11\n",
            "4\n",
            "6\n",
            "16\n",
            "6\n",
            "76.2\n",
            "32.0\n",
            "5\n",
            "4\n",
            "3000\n",
            "90\n",
            "1\n",
            "\n",
            "-------\n",
            "0\n",
            "10\n",
            "34\n",
            "138.0\n",
            "521\n",
            "1.7\n",
            "8.2\n",
            "5\n",
            "5.0\n",
            "3\n",
            "5.0\n",
            "30\n",
            "3\n",
            "20\n",
            "0\n",
            "146.9\n",
            "26\n",
            "9\n",
            "9999\n",
            "23\n",
            "1080\n",
            "4\n",
            "3\n",
            "2\n",
            "13.0\n",
            "2\n",
            "1\n",
            "7\n",
            "5\n",
            "4\n",
            "4\n",
            "9\n",
            "6\n",
            "70.9\n",
            "32.0\n",
            "4\n",
            "3\n",
            "2000\n",
            "16\n",
            "1\n",
            "\n",
            "-------\n",
            "1\n",
            "10\n",
            "38\n",
            "149.0\n",
            "360\n",
            "1.3\n",
            "8.7\n",
            "2\n",
            "5.0\n",
            "3\n",
            "5.5\n",
            "30\n",
            "1\n",
            "0\n",
            "0\n",
            "150.9\n",
            "1\n",
            "11\n",
            "9999\n",
            "20\n",
            "1080\n",
            "9\n",
            "1\n",
            "2\n",
            "13.0\n",
            "6\n",
            "2\n",
            "4\n",
            "30\n",
            "4\n",
            "4\n",
            "18\n",
            "3\n",
            "75.2\n",
            "128.0\n",
            "5\n",
            "3\n",
            "3100\n",
            "19\n",
            "1\n",
            "\n",
            "-------\n",
            "2\n",
            "0\n",
            "27\n",
            "128.0\n",
            "490\n",
            "1.7\n",
            "8.8\n",
            "5\n",
            "5.0\n",
            "3\n",
            "5.0\n",
            "30\n",
            "3\n",
            "0\n",
            "0\n",
            "140.8\n",
            "18\n",
            "11\n",
            "9999\n",
            "12\n",
            "720\n",
            "5\n",
            "2\n",
            "2\n",
            "13.0\n",
            "6\n",
            "3\n",
            "2\n",
            "4\n",
            "9\n",
            "4\n",
            "9\n",
            "3\n",
            "70.4\n",
            "32.0\n",
            "6\n",
            "3\n",
            "2100\n",
            "19\n",
            "0\n",
            "\n",
            "-------\n",
            "0\n",
            "4\n",
            "41\n",
            "172.0\n",
            "350\n",
            "1.2\n",
            "8.2\n",
            "5\n",
            "5.0\n",
            "3\n",
            "5.5\n",
            "30\n",
            "5\n",
            "0\n",
            "0\n",
            "151.8\n",
            "18\n",
            "3\n",
            "10190\n",
            "21\n",
            "1080\n",
            "4\n",
            "3\n",
            "12\n",
            "13.0\n",
            "1\n",
            "2\n",
            "7\n",
            "2\n",
            "6\n",
            "6\n",
            "7\n",
            "6\n",
            "77.5\n",
            "128.0\n",
            "6\n",
            "3\n",
            "3000\n",
            "94\n",
            "1\n",
            "\n",
            "-------\n",
            "0\n",
            "1\n",
            "38\n",
            "143.0\n",
            "275\n",
            "1.3\n",
            "8.5\n",
            "5\n",
            "5.0\n",
            "3\n",
            "5.2\n",
            "30\n",
            "3\n",
            "21\n",
            "0\n",
            "148.0\n",
            "18\n",
            "3\n",
            "10899\n",
            "10\n",
            "1080\n",
            "9\n",
            "1\n",
            "2\n",
            "13.0\n",
            "2\n",
            "3\n",
            "2\n",
            "4\n",
            "4\n",
            "5\n",
            "20\n",
            "6\n",
            "73.6\n",
            "0.0\n",
            "6\n",
            "3\n",
            "2900\n",
            "90\n",
            "1\n",
            "\n",
            "-------\n",
            "0\n",
            "8\n",
            "28\n",
            "169.0\n",
            "496\n",
            "2.2\n",
            "7.5\n",
            "5\n",
            "5.0\n",
            "3\n",
            "5.5\n",
            "30\n",
            "1\n",
            "26\n",
            "0\n",
            "151.1\n",
            "17\n",
            "2\n",
            "10999\n",
            "20\n",
            "2160\n",
            "9\n",
            "1\n",
            "2\n",
            "13.0\n",
            "2\n",
            "3\n",
            "4\n",
            "19\n",
            "4\n",
            "1\n",
            "9\n",
            "6\n",
            "74.2\n",
            "0.0\n",
            "8\n",
            "1\n",
            "3000\n",
            "14\n",
            "1\n",
            "\n",
            "-------\n",
            "0\n",
            "8\n",
            "34\n",
            "149.0\n",
            "696\n",
            "1.7\n",
            "8.9\n",
            "5\n",
            "5.0\n",
            "3\n",
            "5.0\n",
            "30\n",
            "3\n",
            "43\n",
            "0\n",
            "142.0\n",
            "26\n",
            "3\n",
            "11090\n",
            "46\n",
            "1080\n",
            "4\n",
            "1\n",
            "2\n",
            "13.0\n",
            "2\n",
            "2\n",
            "2\n",
            "11\n",
            "4\n",
            "4\n",
            "9\n",
            "3\n",
            "71.8\n",
            "32.0\n",
            "4\n",
            "4\n",
            "4000\n",
            "16\n",
            "1\n",
            "\n",
            "-------\n",
            "0\n",
            "8\n",
            "41\n",
            "153.2\n",
            "261\n",
            "1.3\n",
            "8.3\n",
            "2\n",
            "8.0\n",
            "3\n",
            "5.5\n",
            "30\n",
            "3\n",
            "0\n",
            "0\n",
            "151.9\n",
            "5\n",
            "3\n",
            "11299\n",
            "28\n",
            "1080\n",
            "0\n",
            "3\n",
            "2\n",
            "13.0\n",
            "2\n",
            "3\n",
            "2\n",
            "14\n",
            "6\n",
            "4\n",
            "7\n",
            "3\n",
            "76.7\n",
            "32.0\n",
            "6\n",
            "3\n",
            "3000\n",
            "92\n",
            "1\n",
            "\n",
            "-------\n",
            "0\n",
            "8\n",
            "29\n",
            "130.0\n",
            "384\n",
            "1.7\n",
            "7.8\n",
            "2\n",
            "5.0\n",
            "3\n",
            "5.0\n",
            "30\n",
            "3\n",
            "385\n",
            "0\n",
            "138.1\n",
            "13\n",
            "0\n",
            "11999\n",
            "35\n",
            "1080\n",
            "1\n",
            "1\n",
            "2\n",
            "13.0\n",
            "1\n",
            "2\n",
            "2\n",
            "6\n",
            "4\n",
            "2\n",
            "23\n",
            "6\n",
            "69.6\n",
            "0.0\n",
            "5\n",
            "3\n",
            "3120\n",
            "22\n",
            "1\n",
            "\n",
            "-------\n",
            "0\n",
            "10\n",
            "38\n",
            "160.0\n",
            "265\n",
            "1.3\n",
            "9.2\n",
            "2\n",
            "5.0\n",
            "3\n",
            "5.5\n",
            "30\n",
            "2\n",
            "1016\n",
            "0\n",
            "153.6\n",
            "18\n",
            "3\n",
            "11999\n",
            "22\n",
            "1080\n",
            "9\n",
            "1\n",
            "2\n",
            "13.0\n",
            "2\n",
            "3\n",
            "2\n",
            "11\n",
            "2\n",
            "3\n",
            "17\n",
            "6\n",
            "76.5\n",
            "128.0\n",
            "6\n",
            "3\n",
            "3300\n",
            "12\n",
            "1\n",
            "\n",
            "-------\n",
            "0\n",
            "10\n",
            "29\n",
            "155.0\n",
            "342\n",
            "1.5\n",
            "11.6\n",
            "2\n",
            "5.0\n",
            "3\n",
            "5.0\n",
            "30\n",
            "3\n",
            "0\n",
            "0\n",
            "142.1\n",
            "5\n",
            "0\n",
            "12499\n",
            "28\n",
            "1080\n",
            "4\n",
            "1\n",
            "12\n",
            "13.0\n",
            "1\n",
            "2\n",
            "2\n",
            "3\n",
            "4\n",
            "4\n",
            "34\n",
            "5\n",
            "72.4\n",
            "32.0\n",
            "6\n",
            "2\n",
            "2470\n",
            "22\n",
            "1\n",
            "\n",
            "-------\n",
            "0\n",
            "13\n",
            "34\n",
            "138.0\n",
            "761\n",
            "1.7\n",
            "8.2\n",
            "5\n",
            "5.0\n",
            "3\n",
            "5.0\n",
            "30\n",
            "4\n",
            "2\n",
            "0\n",
            "146.9\n",
            "18\n",
            "11\n",
            "13349\n",
            "30\n",
            "1080\n",
            "3\n",
            "1\n",
            "2\n",
            "13.0\n",
            "1\n",
            "2\n",
            "2\n",
            "5\n",
            "4\n",
            "3\n",
            "9\n",
            "6\n",
            "70.9\n",
            "32.0\n",
            "4\n",
            "3\n",
            "2000\n",
            "16\n",
            "1\n",
            "\n",
            "-------\n",
            "0\n",
            "3\n",
            "41\n",
            "148.0\n",
            "566\n",
            "1.0\n",
            "9.3\n",
            "5\n",
            "5.0\n",
            "3\n",
            "5.0\n",
            "30\n",
            "2\n",
            "0\n",
            "0\n",
            "141.0\n",
            "5\n",
            "3\n",
            "13349\n",
            "16\n",
            "720\n",
            "4\n",
            "1\n",
            "2\n",
            "8.0\n",
            "2\n",
            "2\n",
            "2\n",
            "11\n",
            "6\n",
            "3\n",
            "9\n",
            "6\n",
            "71.8\n",
            "32.0\n",
            "6\n",
            "3\n",
            "4000\n",
            "92\n",
            "1\n",
            "\n",
            "-------\n",
            "0\n",
            "8\n",
            "29\n",
            "155.0\n",
            "620\n",
            "1.5\n",
            "9.8\n",
            "2\n",
            "5.0\n",
            "3\n",
            "5.5\n",
            "30\n",
            "3\n",
            "671\n",
            "0\n",
            "153.0\n",
            "5\n",
            "3\n",
            "13499\n",
            "24\n",
            "1080\n",
            "9\n",
            "4\n",
            "1\n",
            "16.0\n",
            "2\n",
            "3\n",
            "3\n",
            "3\n",
            "9\n",
            "4\n",
            "16\n",
            "3\n",
            "76.6\n",
            "128.0\n",
            "9\n",
            "3\n",
            "3000\n",
            "72\n",
            "1\n",
            "\n",
            "-------\n",
            "0\n",
            "7\n",
            "29\n",
            "171.0\n",
            "354\n",
            "1.6\n",
            "7.5\n",
            "5\n",
            "5.0\n",
            "3\n",
            "5.5\n",
            "30\n",
            "2\n",
            "73\n",
            "0\n",
            "152.4\n",
            "26\n",
            "3\n",
            "13990\n",
            "23\n",
            "1080\n",
            "4\n",
            "3\n",
            "7\n",
            "13.0\n",
            "1\n",
            "2\n",
            "0\n",
            "2\n",
            "4\n",
            "3\n",
            "16\n",
            "6\n",
            "78.6\n",
            "128.0\n",
            "6\n",
            "3\n",
            "3000\n",
            "72\n",
            "1\n",
            "\n",
            "-------\n",
            "0\n",
            "8\n",
            "28\n",
            "150.0\n",
            "337\n",
            "2.0\n",
            "8.7\n",
            "5\n",
            "5.0\n",
            "3\n",
            "5.5\n",
            "30\n",
            "2\n",
            "25\n",
            "0\n",
            "156.8\n",
            "5\n",
            "4\n",
            "13999\n",
            "9\n",
            "1080\n",
            "9\n",
            "1\n",
            "2\n",
            "13.0\n",
            "1\n",
            "4\n",
            "2\n",
            "4\n",
            "4\n",
            "3\n",
            "16\n",
            "6\n",
            "78.1\n",
            "64.0\n",
            "6\n",
            "3\n",
            "3000\n",
            "14\n",
            "1\n",
            "\n",
            "-------\n",
            "0\n",
            "10\n",
            "30\n",
            "170.0\n",
            "354\n",
            "1.6\n",
            "7.8\n",
            "2\n",
            "5.0\n",
            "3\n",
            "5.5\n",
            "30\n",
            "2\n",
            "301\n",
            "0\n",
            "151.7\n",
            "18\n",
            "3\n",
            "14249\n",
            "23\n",
            "1080\n",
            "9\n",
            "3\n",
            "7\n",
            "13.0\n",
            "1\n",
            "3\n",
            "2\n",
            "2\n",
            "4\n",
            "3\n",
            "16\n",
            "6\n",
            "76.0\n",
            "128.0\n",
            "9\n",
            "3\n",
            "3300\n",
            "72\n",
            "1\n",
            "\n",
            "-------\n",
            "0\n",
            "9\n",
            "43\n",
            "141.0\n",
            "345\n",
            "1.2\n",
            "7.3\n",
            "6\n",
            "5.0\n",
            "4\n",
            "5.5\n",
            "30\n",
            "5\n",
            "0\n",
            "0\n",
            "151.3\n",
            "7\n",
            "11\n",
            "14300\n",
            "18\n",
            "1080\n",
            "4\n",
            "4\n",
            "7\n",
            "13.0\n",
            "1\n",
            "2\n",
            "2\n",
            "2\n",
            "11\n",
            "4\n",
            "7\n",
            "3\n",
            "77.2\n",
            "64.0\n",
            "4\n",
            "3\n",
            "2950\n",
            "94\n",
            "0\n",
            "\n",
            "-------\n",
            "0\n",
            "1\n",
            "44\n",
            "154.5\n",
            "560\n",
            "1.7\n",
            "7.7\n",
            "5\n",
            "8.0\n",
            "3\n",
            "5.5\n",
            "30\n",
            "2\n",
            "12\n",
            "0\n",
            "157.7\n",
            "26\n",
            "9\n",
            "14614\n",
            "12\n",
            "1080\n",
            "4\n",
            "1\n",
            "2\n",
            "13.0\n",
            "2\n",
            "1\n",
            "2\n",
            "5\n",
            "4\n",
            "4\n",
            "7\n",
            "6\n",
            "78.7\n",
            "32.0\n",
            "4\n",
            "3\n",
            "2600\n",
            "79\n",
            "1\n",
            "\n",
            "-------\n",
            "1\n",
            "1\n",
            "44\n",
            "171.8\n",
            "1093\n",
            "1.4\n",
            "7.7\n",
            "5\n",
            "1.1\n",
            "3\n",
            "6.0\n",
            "30\n",
            "3\n",
            "24\n",
            "0\n",
            "165.2\n",
            "26\n",
            "3\n",
            "14880\n",
            "30\n",
            "1080\n",
            "4\n",
            "1\n",
            "11\n",
            "13.0\n",
            "1\n",
            "1\n",
            "7\n",
            "8\n",
            "6\n",
            "4\n",
            "6\n",
            "6\n",
            "83.8\n",
            "32.0\n",
            "3\n",
            "3\n",
            "3000\n",
            "129\n",
            "1\n",
            "\n",
            "-------\n",
            "1\n",
            "10\n",
            "29\n",
            "229.0\n",
            "480\n",
            "1.5\n",
            "7.6\n",
            "4\n",
            "5.0\n",
            "3\n",
            "6.8\n",
            "30\n",
            "3\n",
            "0\n",
            "0\n",
            "186.6\n",
            "18\n",
            "3\n",
            "14990\n",
            "24\n",
            "1080\n",
            "1\n",
            "1\n",
            "1\n",
            "13.0\n",
            "2\n",
            "2\n",
            "4\n",
            "11\n",
            "4\n",
            "4\n",
            "12\n",
            "6\n",
            "96.6\n",
            "64.0\n",
            "5\n",
            "3\n",
            "3500\n",
            "22\n",
            "1\n",
            "\n",
            "-------\n",
            "0\n",
            "10\n",
            "16\n",
            "160.0\n",
            "200\n",
            "2.3\n",
            "6.9\n",
            "5\n",
            "8.0\n",
            "3\n",
            "5.0\n",
            "30\n",
            "3\n",
            "175\n",
            "0\n",
            "140.0\n",
            "5\n",
            "9\n",
            "14999\n",
            "24\n",
            "1080\n",
            "9\n",
            "1\n",
            "0\n",
            "13.0\n",
            "2\n",
            "3\n",
            "2\n",
            "12\n",
            "6\n",
            "1\n",
            "23\n",
            "6\n",
            "69.0\n",
            "0.0\n",
            "6\n",
            "4\n",
            "2525\n",
            "15\n",
            "1\n",
            "\n",
            "-------\n",
            "3\n",
            "6\n",
            "16\n",
            "149.0\n",
            "280\n",
            "2.5\n",
            "8.9\n",
            "5\n",
            "8.0\n",
            "3\n",
            "5.0\n",
            "30\n",
            "2\n",
            "33\n",
            "0\n",
            "139.2\n",
            "26\n",
            "3\n",
            "14999\n",
            "18\n",
            "2160\n",
            "1\n",
            "1\n",
            "2\n",
            "13.0\n",
            "1\n",
            "3\n",
            "2\n",
            "6\n",
            "6\n",
            "2\n",
            "23\n",
            "6\n",
            "68.5\n",
            "0.0\n",
            "4\n",
            "3\n",
            "3080\n",
            "15\n",
            "1\n",
            "\n",
            "-------\n",
            "3\n",
            "3\n",
            "16\n",
            "144.0\n",
            "250\n",
            "2.5\n",
            "10.0\n",
            "2\n",
            "13.0\n",
            "3\n",
            "5.2\n",
            "30\n",
            "4\n",
            "188\n",
            "0\n",
            "140.8\n",
            "5\n",
            "11\n",
            "14999\n",
            "24\n",
            "2160\n",
            "9\n",
            "1\n",
            "5\n",
            "13.0\n",
            "1\n",
            "2\n",
            "2\n",
            "3\n",
            "6\n",
            "1\n",
            "20\n",
            "4\n",
            "72.4\n",
            "0.0\n",
            "4\n",
            "3\n",
            "2300\n",
            "15\n",
            "1\n",
            "\n",
            "-------\n",
            "2\n",
            "10\n",
            "16\n",
            "175.0\n",
            "840\n",
            "2.5\n",
            "8.9\n",
            "3\n",
            "8.0\n",
            "3\n",
            "5.5\n",
            "30\n",
            "1\n",
            "6\n",
            "0\n",
            "155.7\n",
            "15\n",
            "11\n",
            "15689\n",
            "48\n",
            "1080\n",
            "9\n",
            "1\n",
            "4\n",
            "13.0\n",
            "2\n",
            "3\n",
            "6\n",
            "11\n",
            "6\n",
            "0\n",
            "16\n",
            "3\n",
            "77.3\n",
            "0.0\n",
            "6\n",
            "14\n",
            "4100\n",
            "15\n",
            "0\n",
            "\n",
            "-------\n",
            "0\n",
            "8\n",
            "29\n",
            "134.0\n",
            "380\n",
            "1.7\n",
            "7.3\n",
            "5\n",
            "8.0\n",
            "3\n",
            "5.0\n",
            "30\n",
            "1\n",
            "0\n",
            "0\n",
            "143.5\n",
            "8\n",
            "2\n",
            "15950\n",
            "20\n",
            "1080\n",
            "9\n",
            "1\n",
            "2\n",
            "13.0\n",
            "1\n",
            "3\n",
            "2\n",
            "10\n",
            "4\n",
            "3\n",
            "9\n",
            "6\n",
            "71.0\n",
            "128.0\n",
            "6\n",
            "3\n",
            "2500\n",
            "21\n",
            "1\n",
            "\n",
            "-------\n",
            "0\n",
            "7\n",
            "30\n",
            "170.0\n",
            "354\n",
            "1.6\n",
            "7.8\n",
            "5\n",
            "5.0\n",
            "3\n",
            "5.5\n",
            "30\n",
            "3\n",
            "301\n",
            "0\n",
            "151.7\n",
            "26\n",
            "3\n",
            "15990\n",
            "23\n",
            "1080\n",
            "0\n",
            "3\n",
            "7\n",
            "13.0\n",
            "1\n",
            "3\n",
            "2\n",
            "2\n",
            "4\n",
            "4\n",
            "7\n",
            "6\n",
            "76.0\n",
            "32.0\n",
            "9\n",
            "3\n",
            "3300\n",
            "72\n",
            "1\n",
            "\n",
            "-------\n",
            "0\n",
            "13\n",
            "29\n",
            "189.0\n",
            "600\n",
            "1.5\n",
            "9.9\n",
            "2\n",
            "5.0\n",
            "3\n",
            "5.5\n",
            "30\n",
            "2\n",
            "137\n",
            "0\n",
            "152.9\n",
            "5\n",
            "11\n",
            "15999\n",
            "44\n",
            "1080\n",
            "9\n",
            "1\n",
            "2\n",
            "13.0\n",
            "2\n",
            "2\n",
            "4\n",
            "11\n",
            "4\n",
            "3\n",
            "16\n",
            "6\n",
            "75.6\n",
            "128.0\n",
            "6\n",
            "3\n",
            "5000\n",
            "22\n",
            "1\n",
            "\n",
            "-------\n",
            "3\n",
            "10\n",
            "15\n",
            "130.0\n",
            "370\n",
            "1.6\n",
            "7.9\n",
            "5\n",
            "2.0\n",
            "3\n",
            "5.0\n",
            "30\n",
            "1\n",
            "347\n",
            "0\n",
            "136.6\n",
            "5\n",
            "3\n",
            "16999\n",
            "17\n",
            "1080\n",
            "9\n",
            "3\n",
            "7\n",
            "13.0\n",
            "1\n",
            "2\n",
            "2\n",
            "2\n",
            "4\n",
            "4\n",
            "23\n",
            "3\n",
            "69.8\n",
            "64.0\n",
            "2\n",
            "10\n",
            "2600\n",
            "20\n",
            "1\n",
            "\n",
            "-------\n",
            "0\n",
            "10\n",
            "29\n",
            "145.0\n",
            "456\n",
            "1.7\n",
            "7.3\n",
            "2\n",
            "8.0\n",
            "3\n",
            "5.0\n",
            "30\n",
            "2\n",
            "22\n",
            "0\n",
            "142.0\n",
            "5\n",
            "3\n",
            "17810\n",
            "21\n",
            "1080\n",
            "1\n",
            "1\n",
            "2\n",
            "16.0\n",
            "2\n",
            "3\n",
            "4\n",
            "11\n",
            "4\n",
            "4\n",
            "23\n",
            "6\n",
            "70.0\n",
            "128.0\n",
            "5\n",
            "3\n",
            "3000\n",
            "22\n",
            "1\n",
            "\n",
            "-------\n",
            "0\n",
            "8\n",
            "29\n",
            "169.0\n",
            "330\n",
            "1.7\n",
            "10.9\n",
            "2\n",
            "5.0\n",
            "3\n",
            "5.5\n",
            "30\n",
            "2\n",
            "48\n",
            "0\n",
            "148.0\n",
            "5\n",
            "11\n",
            "18499\n",
            "18\n",
            "1080\n",
            "9\n",
            "1\n",
            "2\n",
            "21.0\n",
            "1\n",
            "2\n",
            "4\n",
            "3\n",
            "6\n",
            "4\n",
            "16\n",
            "7\n",
            "75.0\n",
            "128.0\n",
            "6\n",
            "3\n",
            "3630\n",
            "22\n",
            "1\n",
            "\n",
            "-------\n",
            "1\n",
            "8\n",
            "29\n",
            "135.0\n",
            "488\n",
            "1.5\n",
            "7.3\n",
            "5\n",
            "5.0\n",
            "3\n",
            "5.0\n",
            "30\n",
            "3\n",
            "0\n",
            "0\n",
            "145.5\n",
            "21\n",
            "9\n",
            "18798\n",
            "13\n",
            "1080\n",
            "6\n",
            "1\n",
            "2\n",
            "13.0\n",
            "1\n",
            "2\n",
            "2\n",
            "8\n",
            "6\n",
            "4\n",
            "9\n",
            "0\n",
            "72.6\n",
            "128.0\n",
            "5\n",
            "3\n",
            "2400\n",
            "22\n",
            "1\n",
            "\n",
            "-------\n",
            "0\n",
            "10\n",
            "34\n",
            "147.0\n",
            "682\n",
            "1.7\n",
            "7.9\n",
            "5\n",
            "5.0\n",
            "3\n",
            "5.5\n",
            "30\n",
            "3\n",
            "0\n",
            "0\n",
            "150.3\n",
            "20\n",
            "9\n",
            "19000\n",
            "11\n",
            "1080\n",
            "1\n",
            "1\n",
            "3\n",
            "13.0\n",
            "1\n",
            "2\n",
            "2\n",
            "8\n",
            "4\n",
            "4\n",
            "0\n",
            "3\n",
            "77.4\n",
            "128.0\n",
            "5\n",
            "7\n",
            "2600\n",
            "16\n",
            "1\n",
            "\n",
            "-------\n",
            "0\n",
            "8\n",
            "38\n",
            "150.0\n",
            "420\n",
            "1.5\n",
            "8.0\n",
            "5\n",
            "4.0\n",
            "3\n",
            "5.5\n",
            "30\n",
            "3\n",
            "18\n",
            "0\n",
            "157.7\n",
            "26\n",
            "9\n",
            "19490\n",
            "12\n",
            "1080\n",
            "9\n",
            "1\n",
            "2\n",
            "13.0\n",
            "2\n",
            "2\n",
            "2\n",
            "5\n",
            "4\n",
            "4\n",
            "16\n",
            "3\n",
            "78.9\n",
            "2048.0\n",
            "6\n",
            "3\n",
            "2800\n",
            "19\n",
            "1\n",
            "\n",
            "-------\n",
            "0\n",
            "10\n",
            "34\n",
            "165.0\n",
            "170\n",
            "1.5\n",
            "7.6\n",
            "5\n",
            "4.0\n",
            "3\n",
            "5.5\n",
            "30\n",
            "1\n",
            "13\n",
            "0\n",
            "157.7\n",
            "26\n",
            "9\n",
            "19890\n",
            "7\n",
            "1080\n",
            "4\n",
            "3\n",
            "2\n",
            "13.0\n",
            "6\n",
            "2\n",
            "2\n",
            "5\n",
            "4\n",
            "4\n",
            "7\n",
            "3\n",
            "79.7\n",
            "128.0\n",
            "5\n",
            "3\n",
            "2600\n",
            "16\n",
            "1\n",
            "\n",
            "-------\n",
            "3\n",
            "8\n",
            "16\n",
            "162.0\n",
            "360\n",
            "2.5\n",
            "8.9\n",
            "2\n",
            "5.0\n",
            "3\n",
            "5.5\n",
            "30\n",
            "4\n",
            "22\n",
            "0\n",
            "152.9\n",
            "5\n",
            "3\n",
            "19999\n",
            "38\n",
            "2160\n",
            "9\n",
            "1\n",
            "2\n",
            "13.0\n",
            "2\n",
            "3\n",
            "6\n",
            "12\n",
            "6\n",
            "1\n",
            "16\n",
            "6\n",
            "75.9\n",
            "0.0\n",
            "4\n",
            "4\n",
            "3100\n",
            "15\n",
            "1\n",
            "\n",
            "-------\n",
            "3\n",
            "10\n",
            "17\n",
            "112.0\n",
            "250\n",
            "1.3\n",
            "7.6\n",
            "2\n",
            "1.2\n",
            "3\n",
            "4.0\n",
            "30\n",
            "1\n",
            "1304\n",
            "2\n",
            "123.8\n",
            "12\n",
            "11\n",
            "20397\n",
            "10\n",
            "1080\n",
            "2\n",
            "1\n",
            "2\n",
            "8.0\n",
            "2\n",
            "1\n",
            "2\n",
            "1\n",
            "0\n",
            "1\n",
            "13\n",
            "6\n",
            "58.6\n",
            "0.0\n",
            "11\n",
            "13\n",
            "1560\n",
            "13\n",
            "1\n",
            "\n",
            "-------\n",
            "0\n",
            "8\n",
            "29\n",
            "183.0\n",
            "687\n",
            "1.7\n",
            "8.0\n",
            "5\n",
            "4.0\n",
            "3\n",
            "5.5\n",
            "30\n",
            "2\n",
            "131\n",
            "0\n",
            "158.0\n",
            "26\n",
            "11\n",
            "21300\n",
            "19\n",
            "1080\n",
            "9\n",
            "1\n",
            "9\n",
            "13.0\n",
            "2\n",
            "2\n",
            "2\n",
            "5\n",
            "4\n",
            "4\n",
            "16\n",
            "6\n",
            "77.5\n",
            "128.0\n",
            "5\n",
            "3\n",
            "2600\n",
            "22\n",
            "1\n",
            "\n",
            "-------\n",
            "3\n",
            "10\n",
            "16\n",
            "145.0\n",
            "390\n",
            "1.9\n",
            "8.1\n",
            "5\n",
            "2.0\n",
            "3\n",
            "5.1\n",
            "30\n",
            "1\n",
            "22\n",
            "0\n",
            "142.0\n",
            "5\n",
            "9\n",
            "21999\n",
            "21\n",
            "2160\n",
            "1\n",
            "3\n",
            "7\n",
            "16.0\n",
            "1\n",
            "2\n",
            "2\n",
            "2\n",
            "6\n",
            "4\n",
            "22\n",
            "7\n",
            "72.5\n",
            "128.0\n",
            "4\n",
            "9\n",
            "2800\n",
            "15\n",
            "0\n",
            "\n",
            "-------\n",
            "0\n",
            "8\n",
            "34\n",
            "187.0\n",
            "635\n",
            "1.7\n",
            "8.2\n",
            "5\n",
            "13.0\n",
            "3\n",
            "6.0\n",
            "30\n",
            "3\n",
            "26\n",
            "0\n",
            "164.2\n",
            "20\n",
            "9\n",
            "21999\n",
            "13\n",
            "1080\n",
            "1\n",
            "1\n",
            "2\n",
            "13.0\n",
            "1\n",
            "2\n",
            "2\n",
            "8\n",
            "4\n",
            "4\n",
            "14\n",
            "3\n",
            "79.6\n",
            "200.0\n",
            "5\n",
            "3\n",
            "2930\n",
            "16\n",
            "1\n",
            "\n",
            "-------\n",
            "0\n",
            "8\n",
            "9\n",
            "175.0\n",
            "360\n",
            "1.8\n",
            "9.9\n",
            "2\n",
            "5.0\n",
            "3\n",
            "5.5\n",
            "30\n",
            "4\n",
            "100\n",
            "0\n",
            "151.8\n",
            "5\n",
            "9\n",
            "22999\n",
            "38\n",
            "2160\n",
            "9\n",
            "1\n",
            "2\n",
            "13.0\n",
            "2\n",
            "4\n",
            "6\n",
            "12\n",
            "6\n",
            "1\n",
            "16\n",
            "6\n",
            "74.9\n",
            "0.0\n",
            "6\n",
            "12\n",
            "3300\n",
            "5\n",
            "1\n",
            "\n",
            "-------\n",
            "1\n",
            "8\n",
            "24\n",
            "157.0\n",
            "620\n",
            "2.2\n",
            "8.5\n",
            "1\n",
            "8.0\n",
            "3\n",
            "5.2\n",
            "30\n",
            "3\n",
            "29\n",
            "0\n",
            "143.2\n",
            "26\n",
            "9\n",
            "22999\n",
            "23\n",
            "1080\n",
            "9\n",
            "4\n",
            "2\n",
            "20.0\n",
            "2\n",
            "3\n",
            "2\n",
            "15\n",
            "4\n",
            "4\n",
            "20\n",
            "6\n",
            "71.9\n",
            "128.0\n",
            "5\n",
            "3\n",
            "3100\n",
            "11\n",
            "0\n",
            "\n",
            "-------\n",
            "0\n",
            "8\n",
            "14\n",
            "175.0\n",
            "618\n",
            "1.8\n",
            "9.3\n",
            "2\n",
            "8.0\n",
            "4\n",
            "5.5\n",
            "30\n",
            "2\n",
            "0\n",
            "0\n",
            "154.0\n",
            "5\n",
            "11\n",
            "24499\n",
            "31\n",
            "2160\n",
            "9\n",
            "4\n",
            "1\n",
            "21.0\n",
            "4\n",
            "3\n",
            "6\n",
            "11\n",
            "8\n",
            "6\n",
            "16\n",
            "6\n",
            "76.5\n",
            "0.0\n",
            "6\n",
            "3\n",
            "3600\n",
            "8\n",
            "0\n",
            "\n",
            "-------\n",
            "3\n",
            "7\n",
            "41\n",
            "155.0\n",
            "180\n",
            "1.6\n",
            "7.1\n",
            "5\n",
            "5.0\n",
            "3\n",
            "5.2\n",
            "30\n",
            "3\n",
            "75\n",
            "0\n",
            "144.8\n",
            "7\n",
            "9\n",
            "24900\n",
            "16\n",
            "1080\n",
            "1\n",
            "0\n",
            "7\n",
            "13.0\n",
            "2\n",
            "2\n",
            "2\n",
            "2\n",
            "4\n",
            "4\n",
            "20\n",
            "3\n",
            "71.0\n",
            "128.0\n",
            "6\n",
            "3\n",
            "2900\n",
            "72\n",
            "1\n",
            "\n",
            "-------\n",
            "1\n",
            "8\n",
            "3\n",
            "129.0\n",
            "598\n",
            "1.8\n",
            "7.3\n",
            "2\n",
            "4.0\n",
            "3\n",
            "5.15\n",
            "30\n",
            "1\n",
            "0\n",
            "0\n",
            "144.6\n",
            "7\n",
            "9\n",
            "24999\n",
            "27\n",
            "2160\n",
            "1\n",
            "1\n",
            "2\n",
            "16.0\n",
            "2\n",
            "4\n",
            "4\n",
            "6\n",
            "6\n",
            "2\n",
            "21\n",
            "6\n",
            "69.2\n",
            "0.0\n",
            "9\n",
            "0\n",
            "3000\n",
            "2\n",
            "0\n",
            "\n",
            "-------\n",
            "4\n",
            "8\n",
            "14\n",
            "179.0\n",
            "410\n",
            "1.8\n",
            "11.1\n",
            "0\n",
            "5.0\n",
            "3\n",
            "5.7\n",
            "30\n",
            "1\n",
            "4\n",
            "0\n",
            "153.9\n",
            "5\n",
            "9\n",
            "24999\n",
            "19\n",
            "2160\n",
            "10\n",
            "4\n",
            "12\n",
            "21.0\n",
            "1\n",
            "3\n",
            "6\n",
            "3\n",
            "8\n",
            "4\n",
            "26\n",
            "6\n",
            "76.2\n",
            "128.0\n",
            "6\n",
            "3\n",
            "3000\n",
            "3\n",
            "1\n",
            "\n",
            "-------\n",
            "3\n",
            "8\n",
            "9\n",
            "144.0\n",
            "590\n",
            "2.0\n",
            "6.9\n",
            "5\n",
            "2.2\n",
            "3\n",
            "5.2\n",
            "30\n",
            "2\n",
            "126\n",
            "0\n",
            "146.0\n",
            "25\n",
            "3\n",
            "25500\n",
            "17\n",
            "2160\n",
            "1\n",
            "1\n",
            "1\n",
            "20.7\n",
            "1\n",
            "3\n",
            "4\n",
            "8\n",
            "6\n",
            "4\n",
            "20\n",
            "7\n",
            "72.0\n",
            "128.0\n",
            "5\n",
            "3\n",
            "2930\n",
            "5\n",
            "1\n",
            "\n",
            "-------\n",
            "1\n",
            "10\n",
            "28\n",
            "142.6\n",
            "504\n",
            "2.0\n",
            "7.6\n",
            "5\n",
            "13.0\n",
            "3\n",
            "5.0\n",
            "30\n",
            "3\n",
            "69\n",
            "0\n",
            "145.0\n",
            "21\n",
            "9\n",
            "25500\n",
            "12\n",
            "216\n",
            "1\n",
            "1\n",
            "2\n",
            "21.2\n",
            "1\n",
            "3\n",
            "2\n",
            "8\n",
            "4\n",
            "4\n",
            "23\n",
            "1\n",
            "72.0\n",
            "200.0\n",
            "5\n",
            "3\n",
            "2600\n",
            "14\n",
            "0\n",
            "\n",
            "-------\n",
            "0\n",
            "10\n",
            "25\n",
            "145.0\n",
            "250\n",
            "2.0\n",
            "6.6\n",
            "5\n",
            "16.0\n",
            "3\n",
            "5.5\n",
            "30\n",
            "4\n",
            "19\n",
            "0\n",
            "151.8\n",
            "7\n",
            "11\n",
            "27580\n",
            "24\n",
            "1080\n",
            "9\n",
            "1\n",
            "0\n",
            "13.0\n",
            "2\n",
            "4\n",
            "6\n",
            "10\n",
            "4\n",
            "3\n",
            "16\n",
            "6\n",
            "74.3\n",
            "128.0\n",
            "6\n",
            "3\n",
            "2850\n",
            "90\n",
            "1\n",
            "\n",
            "-------\n",
            "3\n",
            "10\n",
            "11\n",
            "176.0\n",
            "200\n",
            "2.7\n",
            "8.5\n",
            "5\n",
            "3.7\n",
            "3\n",
            "5.7\n",
            "30\n",
            "1\n",
            "226\n",
            "0\n",
            "153.5\n",
            "0\n",
            "3\n",
            "29900\n",
            "20\n",
            "216\n",
            "10\n",
            "3\n",
            "7\n",
            "16.0\n",
            "1\n",
            "3\n",
            "4\n",
            "2\n",
            "6\n",
            "4\n",
            "24\n",
            "6\n",
            "78.6\n",
            "128.0\n",
            "4\n",
            "3\n",
            "3220\n",
            "9\n",
            "1\n",
            "\n",
            "-------\n",
            "0\n",
            "10\n",
            "21\n",
            "168.0\n",
            "420\n",
            "2.3\n",
            "8.3\n",
            "5\n",
            "2.0\n",
            "3\n",
            "5.7\n",
            "30\n",
            "0\n",
            "502\n",
            "0\n",
            "151.2\n",
            "5\n",
            "3\n",
            "29990\n",
            "21\n",
            "2160\n",
            "9\n",
            "3\n",
            "7\n",
            "13.0\n",
            "1\n",
            "3\n",
            "4\n",
            "2\n",
            "6\n",
            "4\n",
            "15\n",
            "3\n",
            "79.2\n",
            "64.0\n",
            "3\n",
            "9\n",
            "3200\n",
            "52\n",
            "1\n",
            "\n",
            "-------\n",
            "4\n",
            "6\n",
            "14\n",
            "155.0\n",
            "410\n",
            "1.8\n",
            "6.3\n",
            "2\n",
            "8.0\n",
            "3\n",
            "5.5\n",
            "30\n",
            "3\n",
            "0\n",
            "0\n",
            "148.9\n",
            "10\n",
            "9\n",
            "30947\n",
            "19\n",
            "2160\n",
            "10\n",
            "5\n",
            "1\n",
            "16.0\n",
            "1\n",
            "3\n",
            "4\n",
            "9\n",
            "8\n",
            "4\n",
            "28\n",
            "6\n",
            "76.1\n",
            "2048.0\n",
            "6\n",
            "3\n",
            "3000\n",
            "8\n",
            "1\n",
            "\n",
            "-------\n",
            "3\n",
            "8\n",
            "9\n",
            "178.0\n",
            "440\n",
            "2.0\n",
            "7.3\n",
            "2\n",
            "8.0\n",
            "3\n",
            "5.7\n",
            "30\n",
            "1\n",
            "87\n",
            "0\n",
            "159.3\n",
            "11\n",
            "9\n",
            "31999\n",
            "23\n",
            "2160\n",
            "8\n",
            "1\n",
            "0\n",
            "12.3\n",
            "2\n",
            "3\n",
            "4\n",
            "15\n",
            "4\n",
            "2\n",
            "25\n",
            "6\n",
            "77.8\n",
            "0.0\n",
            "9\n",
            "3\n",
            "3450\n",
            "5\n",
            "1\n",
            "\n",
            "-------\n",
            "3\n",
            "7\n",
            "8\n",
            "138.0\n",
            "354\n",
            "2.1\n",
            "6.8\n",
            "2\n",
            "5.0\n",
            "3\n",
            "5.1\n",
            "30\n",
            "1\n",
            "349\n",
            "0\n",
            "143.4\n",
            "7\n",
            "9\n",
            "33900\n",
            "17\n",
            "2160\n",
            "10\n",
            "1\n",
            "7\n",
            "16.0\n",
            "1\n",
            "3\n",
            "4\n",
            "2\n",
            "6\n",
            "2\n",
            "31\n",
            "3\n",
            "70.5\n",
            "0.0\n",
            "5\n",
            "3\n",
            "2550\n",
            "4\n",
            "1\n",
            "\n",
            "-------\n",
            "3\n",
            "8\n",
            "9\n",
            "169.0\n",
            "500\n",
            "2.0\n",
            "9.2\n",
            "2\n",
            "5.0\n",
            "3\n",
            "5.4\n",
            "30\n",
            "4\n",
            "22\n",
            "0\n",
            "149.8\n",
            "23\n",
            "11\n",
            "34999\n",
            "25\n",
            "2160\n",
            "10\n",
            "1\n",
            "0\n",
            "21.0\n",
            "1\n",
            "3\n",
            "4\n",
            "3\n",
            "6\n",
            "1\n",
            "29\n",
            "6\n",
            "78.0\n",
            "0.0\n",
            "7\n",
            "3\n",
            "3760\n",
            "5\n",
            "0\n",
            "\n",
            "-------\n",
            "3\n",
            "10\n",
            "6\n",
            "113.0\n",
            "240\n",
            "1.84\n",
            "7.6\n",
            "2\n",
            "1.2\n",
            "3\n",
            "4.0\n",
            "30\n",
            "1\n",
            "0\n",
            "2\n",
            "123.8\n",
            "3\n",
            "6\n",
            "34999\n",
            "14\n",
            "2160\n",
            "13\n",
            "1\n",
            "1\n",
            "12.0\n",
            "2\n",
            "1\n",
            "2\n",
            "1\n",
            "1\n",
            "2\n",
            "13\n",
            "6\n",
            "58.6\n",
            "0.0\n",
            "14\n",
            "13\n",
            "1624\n",
            "1\n",
            "0\n",
            "\n",
            "-------\n",
            "4\n",
            "8\n",
            "14\n",
            "136.0\n",
            "360\n",
            "1.8\n",
            "7.9\n",
            "1\n",
            "5.0\n",
            "3\n",
            "5.2\n",
            "30\n",
            "1\n",
            "24\n",
            "0\n",
            "147.0\n",
            "5\n",
            "9\n",
            "35900\n",
            "14\n",
            "2160\n",
            "9\n",
            "4\n",
            "2\n",
            "12.3\n",
            "4\n",
            "2\n",
            "2\n",
            "9\n",
            "8\n",
            "2\n",
            "19\n",
            "6\n",
            "72.6\n",
            "0.0\n",
            "9\n",
            "11\n",
            "2700\n",
            "8\n",
            "1\n",
            "\n",
            "-------\n",
            "3\n",
            "10\n",
            "12\n",
            "129.0\n",
            "250\n",
            "1.4\n",
            "6.9\n",
            "2\n",
            "1.3\n",
            "3\n",
            "4.7\n",
            "60\n",
            "1\n",
            "410\n",
            "2\n",
            "138.1\n",
            "16\n",
            "9\n",
            "36499\n",
            "14\n",
            "1080\n",
            "7\n",
            "1\n",
            "2\n",
            "8.0\n",
            "2\n",
            "1\n",
            "2\n",
            "1\n",
            "0\n",
            "2\n",
            "13\n",
            "3\n",
            "67.0\n",
            "0.0\n",
            "12\n",
            "6\n",
            "1810\n",
            "7\n",
            "1\n",
            "\n",
            "-------\n",
            "3\n",
            "10\n",
            "12\n",
            "129.0\n",
            "250\n",
            "1.4\n",
            "6.9\n",
            "2\n",
            "1.2\n",
            "3\n",
            "4.7\n",
            "60\n",
            "4\n",
            "39\n",
            "2\n",
            "138.1\n",
            "16\n",
            "11\n",
            "36999\n",
            "14\n",
            "1080\n",
            "9\n",
            "1\n",
            "2\n",
            "8.0\n",
            "2\n",
            "1\n",
            "2\n",
            "1\n",
            "0\n",
            "1\n",
            "13\n",
            "6\n",
            "67.0\n",
            "0.0\n",
            "12\n",
            "13\n",
            "1810\n",
            "7\n",
            "1\n",
            "\n",
            "-------\n",
            "3\n",
            "10\n",
            "28\n",
            "168.0\n",
            "580\n",
            "2.2\n",
            "9.6\n",
            "2\n",
            "4.0\n",
            "3\n",
            "5.2\n",
            "30\n",
            "3\n",
            "11\n",
            "0\n",
            "151.0\n",
            "7\n",
            "7\n",
            "37766\n",
            "20\n",
            "2160\n",
            "10\n",
            "4\n",
            "10\n",
            "20.0\n",
            "4\n",
            "3\n",
            "4\n",
            "5\n",
            "10\n",
            "4\n",
            "30\n",
            "6\n",
            "72.0\n",
            "256.0\n",
            "5\n",
            "3\n",
            "2840\n",
            "56\n",
            "0\n",
            "\n",
            "-------\n",
            "3\n",
            "12\n",
            "16\n",
            "149.0\n",
            "410\n",
            "2.5\n",
            "8.9\n",
            "3\n",
            "2.1\n",
            "3\n",
            "5.5\n",
            "30\n",
            "3\n",
            "0\n",
            "0\n",
            "146.3\n",
            "5\n",
            "1\n",
            "38000\n",
            "19\n",
            "2160\n",
            "10\n",
            "3\n",
            "1\n",
            "13.0\n",
            "5\n",
            "3\n",
            "4\n",
            "9\n",
            "7\n",
            "4\n",
            "28\n",
            "6\n",
            "74.6\n",
            "32.0\n",
            "4\n",
            "3\n",
            "3000\n",
            "15\n",
            "1\n",
            "\n",
            "-------\n",
            "0\n",
            "8\n",
            "9\n",
            "154.0\n",
            "340\n",
            "2.0\n",
            "7.3\n",
            "6\n",
            "5.0\n",
            "2\n",
            "5.2\n",
            "30\n",
            "3\n",
            "9\n",
            "0\n",
            "146.0\n",
            "24\n",
            "7\n",
            "39890\n",
            "13\n",
            "2160\n",
            "9\n",
            "4\n",
            "1\n",
            "23.0\n",
            "4\n",
            "3\n",
            "4\n",
            "8\n",
            "5\n",
            "6\n",
            "20\n",
            "1\n",
            "72.0\n",
            "256.0\n",
            "6\n",
            "3\n",
            "2900\n",
            "5\n",
            "1\n",
            "\n",
            "-------\n",
            "3\n",
            "2\n",
            "8\n",
            "132.0\n",
            "362\n",
            "1.5\n",
            "7.0\n",
            "5\n",
            "5.0\n",
            "4\n",
            "5.1\n",
            "30\n",
            "1\n",
            "0\n",
            "0\n",
            "142.1\n",
            "9\n",
            "7\n",
            "40900\n",
            "14\n",
            "2160\n",
            "10\n",
            "1\n",
            "7\n",
            "16.0\n",
            "1\n",
            "3\n",
            "4\n",
            "2\n",
            "7\n",
            "4\n",
            "32\n",
            "6\n",
            "70.1\n",
            "64.0\n",
            "5\n",
            "3\n",
            "2600\n",
            "4\n",
            "1\n",
            "\n",
            "-------\n",
            "3\n",
            "10\n",
            "12\n",
            "129.0\n",
            "250\n",
            "1.4\n",
            "6.9\n",
            "2\n",
            "1.2\n",
            "3\n",
            "4.7\n",
            "60\n",
            "4\n",
            "39\n",
            "2\n",
            "138.1\n",
            "16\n",
            "11\n",
            "48329\n",
            "14\n",
            "1080\n",
            "7\n",
            "1\n",
            "2\n",
            "8.0\n",
            "2\n",
            "1\n",
            "6\n",
            "1\n",
            "0\n",
            "1\n",
            "13\n",
            "6\n",
            "67.0\n",
            "0.0\n",
            "12\n",
            "13\n",
            "1810\n",
            "7\n",
            "1\n",
            "\n",
            "-------\n",
            "0\n",
            "5\n",
            "3\n",
            "152.0\n",
            "242\n",
            "2.3\n",
            "7.9\n",
            "5\n",
            "5.0\n",
            "3\n",
            "5.1\n",
            "30\n",
            "4\n",
            "150\n",
            "0\n",
            "142.4\n",
            "7\n",
            "9\n",
            "48900\n",
            "22\n",
            "2160\n",
            "10\n",
            "1\n",
            "8\n",
            "12.0\n",
            "1\n",
            "4\n",
            "4\n",
            "2\n",
            "6\n",
            "6\n",
            "32\n",
            "1\n",
            "69.6\n",
            "200.0\n",
            "9\n",
            "3\n",
            "3000\n",
            "101\n",
            "1\n",
            "\n",
            "-------\n",
            "3\n",
            "10\n",
            "6\n",
            "143.0\n",
            "240\n",
            "1.8\n",
            "7.1\n",
            "2\n",
            "5.0\n",
            "3\n",
            "4.7\n",
            "30\n",
            "4\n",
            "100\n",
            "2\n",
            "138.3\n",
            "16\n",
            "11\n",
            "49499\n",
            "14\n",
            "2160\n",
            "7\n",
            "1\n",
            "2\n",
            "12.0\n",
            "2\n",
            "2\n",
            "2\n",
            "1\n",
            "0\n",
            "1\n",
            "13\n",
            "6\n",
            "67.1\n",
            "0.0\n",
            "14\n",
            "13\n",
            "1715\n",
            "1\n",
            "1\n",
            "\n",
            "-------\n",
            "0\n",
            "7\n",
            "43\n",
            "171.0\n",
            "330\n",
            "2.1\n",
            "7.6\n",
            "5\n",
            "5.0\n",
            "3\n",
            "5.7\n",
            "30\n",
            "1\n",
            "107\n",
            "0\n",
            "153.2\n",
            "7\n",
            "9\n",
            "50895\n",
            "22\n",
            "2160\n",
            "8\n",
            "1\n",
            "7\n",
            "16.0\n",
            "2\n",
            "4\n",
            "4\n",
            "2\n",
            "4\n",
            "2\n",
            "25\n",
            "6\n",
            "76.1\n",
            "0.0\n",
            "6\n",
            "3\n",
            "3450\n",
            "4\n",
            "1\n",
            "\n",
            "-------\n",
            "3\n",
            "8\n",
            "9\n",
            "180.0\n",
            "600\n",
            "2.0\n",
            "7.8\n",
            "6\n",
            "5.0\n",
            "2\n",
            "5.5\n",
            "30\n",
            "3\n",
            "0\n",
            "0\n",
            "154.4\n",
            "22\n",
            "7\n",
            "52699\n",
            "19\n",
            "2160\n",
            "11\n",
            "4\n",
            "2\n",
            "23.0\n",
            "4\n",
            "3\n",
            "4\n",
            "8\n",
            "12\n",
            "6\n",
            "33\n",
            "1\n",
            "75.8\n",
            "256.0\n",
            "6\n",
            "3\n",
            "3430\n",
            "5\n",
            "1\n",
            "\n",
            "-------\n",
            "3\n",
            "10\n",
            "14\n",
            "192.0\n",
            "540\n",
            "1.8\n",
            "9.4\n",
            "2\n",
            "2.0\n",
            "2\n",
            "5.4\n",
            "30\n",
            "1\n",
            "0\n",
            "0\n",
            "147.0\n",
            "26\n",
            "7\n",
            "54900\n",
            "15\n",
            "2160\n",
            "10\n",
            "4\n",
            "0\n",
            "18.0\n",
            "4\n",
            "3\n",
            "4\n",
            "25\n",
            "3\n",
            "4\n",
            "29\n",
            "6\n",
            "77.2\n",
            "256.0\n",
            "6\n",
            "3\n",
            "3410\n",
            "8\n",
            "1\n",
            "\n",
            "-------\n",
            "0\n",
            "5\n",
            "3\n",
            "157.0\n",
            "400\n",
            "2.3\n",
            "7.7\n",
            "5\n",
            "5.0\n",
            "3\n",
            "5.5\n",
            "30\n",
            "4\n",
            "144\n",
            "0\n",
            "150.9\n",
            "7\n",
            "9\n",
            "56900\n",
            "27\n",
            "2160\n",
            "10\n",
            "1\n",
            "8\n",
            "12.0\n",
            "1\n",
            "4\n",
            "4\n",
            "2\n",
            "6\n",
            "6\n",
            "27\n",
            "1\n",
            "72.6\n",
            "200.0\n",
            "9\n",
            "3\n",
            "3600\n",
            "101\n",
            "1\n",
            "\n",
            "-------\n",
            "3\n",
            "10\n",
            "6\n",
            "192.0\n",
            "384\n",
            "1.8\n",
            "7.3\n",
            "2\n",
            "5.0\n",
            "3\n",
            "5.5\n",
            "30\n",
            "4\n",
            "81\n",
            "2\n",
            "158.2\n",
            "16\n",
            "11\n",
            "59000\n",
            "24\n",
            "2160\n",
            "7\n",
            "1\n",
            "2\n",
            "12.0\n",
            "2\n",
            "2\n",
            "2\n",
            "1\n",
            "0\n",
            "1\n",
            "16\n",
            "6\n",
            "77.9\n",
            "0.0\n",
            "14\n",
            "13\n",
            "2750\n",
            "1\n",
            "1\n",
            "\n",
            "-------\n",
            "3\n",
            "10\n",
            "12\n",
            "129.0\n",
            "250\n",
            "1.4\n",
            "6.9\n",
            "2\n",
            "1.2\n",
            "3\n",
            "4.7\n",
            "60\n",
            "4\n",
            "39\n",
            "2\n",
            "138.1\n",
            "16\n",
            "11\n",
            "64500\n",
            "14\n",
            "1080\n",
            "7\n",
            "1\n",
            "2\n",
            "8.0\n",
            "2\n",
            "1\n",
            "1\n",
            "1\n",
            "0\n",
            "1\n",
            "13\n",
            "6\n",
            "67.0\n",
            "0.0\n",
            "12\n",
            "13\n",
            "1810\n",
            "7\n",
            "1\n",
            "\n",
            "-------\n",
            "2\n",
            "8\n",
            "3\n",
            "158.0\n",
            "400\n",
            "2.2\n",
            "7.4\n",
            "6\n",
            "8.0\n",
            "3\n",
            "5.5\n",
            "30\n",
            "1\n",
            "0\n",
            "0\n",
            "152.7\n",
            "7\n",
            "8\n",
            "27999\n",
            "40\n",
            "2160\n",
            "9\n",
            "1\n",
            "6\n",
            "16.0\n",
            "4\n",
            "6\n",
            "6\n",
            "12\n",
            "6\n",
            "5\n",
            "16\n",
            "6\n",
            "74.7\n",
            "0.0\n",
            "10\n",
            "12\n",
            "3000\n",
            "2\n",
            "0\n",
            "\n",
            "-------\n"
          ]
        }
      ]
    },
    {
      "metadata": {
        "id": "kaekxExq4Yme"
      },
      "cell_type": "code",
      "source": [
        "with open('my_first_file_output.txt', 'w') as file:\n",
        "  file.write('hello world from python code')"
      ],
      "execution_count": 214,
      "outputs": []
    },
    {
      "metadata": {
        "id": "gB2XHSeU4rWN",
        "outputId": "c545ecea-acf1-4ad3-ea25-f11612ec053c",
        "colab": {
          "base_uri": "https://localhost:8080/"
        }
      },
      "cell_type": "code",
      "source": [
        "!cat my_first_file_output.txt"
      ],
      "execution_count": 215,
      "outputs": [
        {
          "output_type": "stream",
          "name": "stdout",
          "text": [
            "hello world from python code"
          ]
        }
      ]
    },
    {
      "metadata": {
        "id": "z-G5jSNg1g2Z"
      },
      "cell_type": "markdown",
      "source": [
        "# Python Classes"
      ]
    },
    {
      "metadata": {
        "id": "ETDYzg4a1iAN"
      },
      "cell_type": "code",
      "source": [
        "class MobilePhone:\n",
        "  \"\"\"This is a sample class to illustrate how Python classes work\"\"\"\n",
        "  def __init__(self, name, is_android = False, screen_size = 4.3):\n",
        "    self.name = name\n",
        "    self.is_android = is_android\n",
        "    self.screen_size = screen_size\n",
        "    self.rating = -1\n",
        "    \n",
        "  def has_rating(self):\n",
        "    return self.rating > -1"
      ],
      "execution_count": 117,
      "outputs": []
    },
    {
      "metadata": {
        "id": "vkHApjaE1kod"
      },
      "cell_type": "code",
      "source": [
        "new_phone = MobilePhone('iPhone 5s')"
      ],
      "execution_count": 118,
      "outputs": []
    },
    {
      "metadata": {
        "id": "L4KjarI-1mPH",
        "outputId": "c16178a2-788c-406f-f7af-6e7378b2054c",
        "colab": {
          "base_uri": "https://localhost:8080/"
        }
      },
      "cell_type": "code",
      "source": [
        "type(new_phone)"
      ],
      "execution_count": 119,
      "outputs": [
        {
          "output_type": "execute_result",
          "data": {
            "text/plain": [
              "__main__.MobilePhone"
            ]
          },
          "metadata": {},
          "execution_count": 119
        }
      ]
    },
    {
      "metadata": {
        "id": "aw6De6Fi1nmp",
        "outputId": "52a91baf-ce3a-4c0a-820c-1aa29af6be2a",
        "colab": {
          "base_uri": "https://localhost:8080/"
        }
      },
      "cell_type": "code",
      "source": [
        "print(new_phone.name, new_phone.is_android, new_phone.screen_size)"
      ],
      "execution_count": 120,
      "outputs": [
        {
          "output_type": "stream",
          "name": "stdout",
          "text": [
            "iPhone 5s False 4.3\n"
          ]
        }
      ]
    },
    {
      "metadata": {
        "id": "ngQoF2tn27D3"
      },
      "cell_type": "code",
      "source": [
        "new_phone.screen_size = 4"
      ],
      "execution_count": 121,
      "outputs": []
    },
    {
      "metadata": {
        "id": "vPOH3OsF2-HW",
        "outputId": "0fd43014-8348-4640-a157-fa32c1acedec",
        "colab": {
          "base_uri": "https://localhost:8080/"
        }
      },
      "cell_type": "code",
      "source": [
        "new_phone.has_rating()"
      ],
      "execution_count": 122,
      "outputs": [
        {
          "output_type": "execute_result",
          "data": {
            "text/plain": [
              "False"
            ]
          },
          "metadata": {},
          "execution_count": 122
        }
      ]
    },
    {
      "metadata": {
        "id": "u4_kG8F73OoA"
      },
      "cell_type": "code",
      "source": [
        "new_phone.rating = 3.9"
      ],
      "execution_count": 123,
      "outputs": []
    },
    {
      "metadata": {
        "id": "9uU7BylG3U5K",
        "outputId": "21f1d801-214c-4415-d89a-65365eadde01",
        "colab": {
          "base_uri": "https://localhost:8080/",
          "height": 35
        }
      },
      "cell_type": "code",
      "source": [
        "MobilePhone.__doc__"
      ],
      "execution_count": 124,
      "outputs": [
        {
          "output_type": "execute_result",
          "data": {
            "application/vnd.google.colaboratory.intrinsic+json": {
              "type": "string"
            },
            "text/plain": [
              "'This is a sample class to illustrate how Python classes work'"
            ]
          },
          "metadata": {},
          "execution_count": 124
        }
      ]
    },
    {
      "metadata": {
        "id": "qNUICpHc3c2w"
      },
      "cell_type": "code",
      "source": [
        "class iPhone(MobilePhone):\n",
        "  def __init__(self, name):\n",
        "    MobilePhone.__init__(self, name, False, 4)\n",
        "    \n",
        "  def __str__(self):\n",
        "    return self.name + \" \" + str(self.is_android) + \" \" + str(self.screen_size)"
      ],
      "execution_count": 125,
      "outputs": []
    },
    {
      "metadata": {
        "id": "6rvMwJsL3rgO"
      },
      "cell_type": "code",
      "source": [
        "new_iphone = iPhone('iPhone 5s')"
      ],
      "execution_count": 126,
      "outputs": []
    },
    {
      "metadata": {
        "id": "7Gj-7qNG3t-J",
        "outputId": "481cc64f-3ea9-484b-ef3f-d76ceed662e9",
        "colab": {
          "base_uri": "https://localhost:8080/"
        }
      },
      "cell_type": "code",
      "source": [
        "new_iphone.is_android"
      ],
      "execution_count": 127,
      "outputs": [
        {
          "output_type": "execute_result",
          "data": {
            "text/plain": [
              "False"
            ]
          },
          "metadata": {},
          "execution_count": 127
        }
      ]
    },
    {
      "metadata": {
        "id": "MadGk2Po3viS",
        "outputId": "98db8ade-b2b1-47a2-d257-bd15a3cbe703",
        "colab": {
          "base_uri": "https://localhost:8080/"
        }
      },
      "cell_type": "code",
      "source": [
        "print(new_iphone)"
      ],
      "execution_count": 128,
      "outputs": [
        {
          "output_type": "stream",
          "name": "stdout",
          "text": [
            "iPhone 5s False 4\n"
          ]
        }
      ]
    },
    {
      "metadata": {
        "id": "0wUuGWGY67PE"
      },
      "cell_type": "markdown",
      "source": [
        "# NumPy"
      ]
    },
    {
      "metadata": {
        "id": "aUV4wAG369uu"
      },
      "cell_type": "code",
      "source": [
        "import numpy as np"
      ],
      "execution_count": 129,
      "outputs": []
    },
    {
      "metadata": {
        "id": "MTXAOj6O6-0_",
        "outputId": "70f06caa-ba37-4a98-f5f8-e8a45a293589",
        "colab": {
          "base_uri": "https://localhost:8080/"
        }
      },
      "cell_type": "code",
      "source": [
        "X = np.array([1, 2, 3])\n",
        "print(X)"
      ],
      "execution_count": 130,
      "outputs": [
        {
          "output_type": "stream",
          "name": "stdout",
          "text": [
            "[1 2 3]\n"
          ]
        }
      ]
    },
    {
      "metadata": {
        "id": "cq5AQNm87DzV",
        "outputId": "dead2447-2087-4b45-b802-c553d314f92e",
        "colab": {
          "base_uri": "https://localhost:8080/"
        }
      },
      "cell_type": "code",
      "source": [
        "type(X)"
      ],
      "execution_count": 131,
      "outputs": [
        {
          "output_type": "execute_result",
          "data": {
            "text/plain": [
              "numpy.ndarray"
            ]
          },
          "metadata": {},
          "execution_count": 131
        }
      ]
    },
    {
      "metadata": {
        "id": "gO4eo4BB7E8o",
        "outputId": "6c2909af-ec65-421a-fd79-0701ff186bf3",
        "colab": {
          "base_uri": "https://localhost:8080/"
        }
      },
      "cell_type": "code",
      "source": [
        "l = [4, 5, 10]\n",
        "X = np.asarray(l)\n",
        "type(X)"
      ],
      "execution_count": 132,
      "outputs": [
        {
          "output_type": "execute_result",
          "data": {
            "text/plain": [
              "numpy.ndarray"
            ]
          },
          "metadata": {},
          "execution_count": 132
        }
      ]
    },
    {
      "metadata": {
        "id": "OMuLgPDF7J1X",
        "outputId": "eac21d57-a58f-459c-8ee1-ba15a7e8a034",
        "colab": {
          "base_uri": "https://localhost:8080/"
        }
      },
      "cell_type": "code",
      "source": [
        "print(X)"
      ],
      "execution_count": 133,
      "outputs": [
        {
          "output_type": "stream",
          "name": "stdout",
          "text": [
            "[ 4  5 10]\n"
          ]
        }
      ]
    },
    {
      "metadata": {
        "id": "BeIAsx0v7MAx",
        "outputId": "0aa48ab8-b961-48be-edf4-f8e5555839e0",
        "colab": {
          "base_uri": "https://localhost:8080/"
        }
      },
      "cell_type": "code",
      "source": [
        "X = np.asarray(l, float)\n",
        "print(X)"
      ],
      "execution_count": 134,
      "outputs": [
        {
          "output_type": "stream",
          "name": "stdout",
          "text": [
            "[ 4.  5. 10.]\n"
          ]
        }
      ]
    },
    {
      "metadata": {
        "id": "4YvhBkW87PqC",
        "outputId": "b9487549-9d3f-441c-94d4-6351c2c545c9",
        "colab": {
          "base_uri": "https://localhost:8080/"
        }
      },
      "cell_type": "code",
      "source": [
        "X.shape"
      ],
      "execution_count": 135,
      "outputs": [
        {
          "output_type": "execute_result",
          "data": {
            "text/plain": [
              "(3,)"
            ]
          },
          "metadata": {},
          "execution_count": 135
        }
      ]
    },
    {
      "metadata": {
        "id": "-23qSA5g7Sdt"
      },
      "cell_type": "code",
      "source": [
        "np.array?"
      ],
      "execution_count": 136,
      "outputs": []
    },
    {
      "metadata": {
        "id": "j8uf0P_97YyA"
      },
      "cell_type": "code",
      "source": [
        "X = np.array([[1, 2, 3], [4, 5, 6]])"
      ],
      "execution_count": 137,
      "outputs": []
    },
    {
      "metadata": {
        "id": "MCAscn-A7hs8",
        "outputId": "e516522a-8181-4cdf-c685-165b25e68c66",
        "colab": {
          "base_uri": "https://localhost:8080/"
        }
      },
      "cell_type": "code",
      "source": [
        "print(X)"
      ],
      "execution_count": 138,
      "outputs": [
        {
          "output_type": "stream",
          "name": "stdout",
          "text": [
            "[[1 2 3]\n",
            " [4 5 6]]\n"
          ]
        }
      ]
    },
    {
      "metadata": {
        "id": "F1y0RgnH7iV6",
        "outputId": "61f7b0fc-52bc-4e1d-f348-0303da44cd3b",
        "colab": {
          "base_uri": "https://localhost:8080/"
        }
      },
      "cell_type": "code",
      "source": [
        "X.shape"
      ],
      "execution_count": 139,
      "outputs": [
        {
          "output_type": "execute_result",
          "data": {
            "text/plain": [
              "(2, 3)"
            ]
          },
          "metadata": {},
          "execution_count": 139
        }
      ]
    },
    {
      "metadata": {
        "id": "aM-Ag6wU7kiL",
        "outputId": "b4e0cdff-77a7-481c-9dc1-1a4a2ec16632",
        "colab": {
          "base_uri": "https://localhost:8080/"
        }
      },
      "cell_type": "code",
      "source": [
        "X[1, 2]"
      ],
      "execution_count": 140,
      "outputs": [
        {
          "output_type": "execute_result",
          "data": {
            "text/plain": [
              "6"
            ]
          },
          "metadata": {},
          "execution_count": 140
        }
      ]
    },
    {
      "metadata": {
        "id": "m0olUSq07wAz",
        "outputId": "935fcf35-06bd-487e-b34b-7e1ebb177adc",
        "colab": {
          "base_uri": "https://localhost:8080/"
        }
      },
      "cell_type": "code",
      "source": [
        "X[0, 0:2]"
      ],
      "execution_count": 141,
      "outputs": [
        {
          "output_type": "execute_result",
          "data": {
            "text/plain": [
              "array([1, 2])"
            ]
          },
          "metadata": {},
          "execution_count": 141
        }
      ]
    },
    {
      "metadata": {
        "id": "frA-UZik74GU",
        "outputId": "b059ba49-e8d6-4e29-818f-e4d1f80e0f76",
        "colab": {
          "base_uri": "https://localhost:8080/"
        }
      },
      "cell_type": "code",
      "source": [
        "X[0, :]"
      ],
      "execution_count": 142,
      "outputs": [
        {
          "output_type": "execute_result",
          "data": {
            "text/plain": [
              "array([1, 2, 3])"
            ]
          },
          "metadata": {},
          "execution_count": 142
        }
      ]
    },
    {
      "metadata": {
        "id": "T3MxHZSR77E4"
      },
      "cell_type": "code",
      "source": [
        "X = np.zeros((4, 5))"
      ],
      "execution_count": 143,
      "outputs": []
    },
    {
      "metadata": {
        "id": "D-CNl8se8ABG",
        "outputId": "b82345fb-9268-4bc5-c856-baf31ee4fde2",
        "colab": {
          "base_uri": "https://localhost:8080/"
        }
      },
      "cell_type": "code",
      "source": [
        "print(X)"
      ],
      "execution_count": 144,
      "outputs": [
        {
          "output_type": "stream",
          "name": "stdout",
          "text": [
            "[[0. 0. 0. 0. 0.]\n",
            " [0. 0. 0. 0. 0.]\n",
            " [0. 0. 0. 0. 0.]\n",
            " [0. 0. 0. 0. 0.]]\n"
          ]
        }
      ]
    },
    {
      "metadata": {
        "id": "Ux36ygka8Ai1"
      },
      "cell_type": "code",
      "source": [
        "X = np.eye(4, 4)"
      ],
      "execution_count": 145,
      "outputs": []
    },
    {
      "metadata": {
        "id": "Wbbz7nU68FIr",
        "outputId": "9e8ce85c-081d-4a69-9206-114d84dc4a7d",
        "colab": {
          "base_uri": "https://localhost:8080/"
        }
      },
      "cell_type": "code",
      "source": [
        "print(X)"
      ],
      "execution_count": 146,
      "outputs": [
        {
          "output_type": "stream",
          "name": "stdout",
          "text": [
            "[[1. 0. 0. 0.]\n",
            " [0. 1. 0. 0.]\n",
            " [0. 0. 1. 0.]\n",
            " [0. 0. 0. 1.]]\n"
          ]
        }
      ]
    },
    {
      "metadata": {
        "id": "-KvyuCVU8IJH"
      },
      "cell_type": "code",
      "source": [
        "X = np.random.random((4, 5))"
      ],
      "execution_count": 147,
      "outputs": []
    },
    {
      "metadata": {
        "id": "dqpmLeRx8PU0",
        "outputId": "1d782528-1467-45a1-c553-34b9a2eccf07",
        "colab": {
          "base_uri": "https://localhost:8080/"
        }
      },
      "cell_type": "code",
      "source": [
        "print(X)"
      ],
      "execution_count": 148,
      "outputs": [
        {
          "output_type": "stream",
          "name": "stdout",
          "text": [
            "[[0.06818198 0.446352   0.07538174 0.54799428 0.41932745]\n",
            " [0.16246412 0.71537211 0.47297813 0.39302437 0.68467278]\n",
            " [0.62343923 0.47765482 0.80902567 0.46652553 0.50410318]\n",
            " [0.69043618 0.87249517 0.88861972 0.37357988 0.41190777]]\n"
          ]
        }
      ]
    },
    {
      "metadata": {
        "id": "3WTNwVYE8Qp0"
      },
      "cell_type": "code",
      "source": [
        "Z = X.T"
      ],
      "execution_count": 149,
      "outputs": []
    },
    {
      "metadata": {
        "id": "5fuP8kc78W0T",
        "outputId": "f48a1711-3ce8-4898-f842-24a533a47fbe",
        "colab": {
          "base_uri": "https://localhost:8080/"
        }
      },
      "cell_type": "code",
      "source": [
        "print(Z)"
      ],
      "execution_count": 150,
      "outputs": [
        {
          "output_type": "stream",
          "name": "stdout",
          "text": [
            "[[0.06818198 0.16246412 0.62343923 0.69043618]\n",
            " [0.446352   0.71537211 0.47765482 0.87249517]\n",
            " [0.07538174 0.47297813 0.80902567 0.88861972]\n",
            " [0.54799428 0.39302437 0.46652553 0.37357988]\n",
            " [0.41932745 0.68467278 0.50410318 0.41190777]]\n"
          ]
        }
      ]
    },
    {
      "metadata": {
        "id": "M9rIFpsl8YKE"
      },
      "cell_type": "code",
      "source": [
        "Y = X.reshape(20, 1)"
      ],
      "execution_count": 151,
      "outputs": []
    },
    {
      "metadata": {
        "id": "M6nBY7pd8eQ2",
        "outputId": "a1459e28-b5c0-4577-f9f5-72b1f040395d",
        "colab": {
          "base_uri": "https://localhost:8080/"
        }
      },
      "cell_type": "code",
      "source": [
        "print(Y)"
      ],
      "execution_count": 152,
      "outputs": [
        {
          "output_type": "stream",
          "name": "stdout",
          "text": [
            "[[0.06818198]\n",
            " [0.446352  ]\n",
            " [0.07538174]\n",
            " [0.54799428]\n",
            " [0.41932745]\n",
            " [0.16246412]\n",
            " [0.71537211]\n",
            " [0.47297813]\n",
            " [0.39302437]\n",
            " [0.68467278]\n",
            " [0.62343923]\n",
            " [0.47765482]\n",
            " [0.80902567]\n",
            " [0.46652553]\n",
            " [0.50410318]\n",
            " [0.69043618]\n",
            " [0.87249517]\n",
            " [0.88861972]\n",
            " [0.37357988]\n",
            " [0.41190777]]\n"
          ]
        }
      ]
    },
    {
      "metadata": {
        "id": "S9M9AXsS8faf",
        "outputId": "02a51ede-c2a5-49c6-81b1-74890affd641",
        "colab": {
          "base_uri": "https://localhost:8080/"
        }
      },
      "cell_type": "code",
      "source": [
        "A = np.arange(5)\n",
        "print(A)"
      ],
      "execution_count": 153,
      "outputs": [
        {
          "output_type": "stream",
          "name": "stdout",
          "text": [
            "[0 1 2 3 4]\n"
          ]
        }
      ]
    },
    {
      "metadata": {
        "id": "u3HrI5_98oin"
      },
      "cell_type": "code",
      "source": [
        "B = np.arange(5)"
      ],
      "execution_count": 154,
      "outputs": []
    },
    {
      "metadata": {
        "id": "jvLlYcMz8ruY",
        "outputId": "8672a293-1350-4909-fcb0-84a7059274d7",
        "colab": {
          "base_uri": "https://localhost:8080/"
        }
      },
      "cell_type": "code",
      "source": [
        "C = A + B\n",
        "D = A - B\n",
        "E = A * B\n",
        "print(C, D, E)"
      ],
      "execution_count": 155,
      "outputs": [
        {
          "output_type": "stream",
          "name": "stdout",
          "text": [
            "[0 2 4 6 8] [0 0 0 0 0] [ 0  1  4  9 16]\n"
          ]
        }
      ]
    },
    {
      "metadata": {
        "id": "vUsGKXTe8vXp",
        "outputId": "5de88525-4259-4da7-94cb-341aa7732f96",
        "colab": {
          "base_uri": "https://localhost:8080/"
        }
      },
      "cell_type": "code",
      "source": [
        "print(A, A + 1)"
      ],
      "execution_count": 156,
      "outputs": [
        {
          "output_type": "stream",
          "name": "stdout",
          "text": [
            "[0 1 2 3 4] [1 2 3 4 5]\n"
          ]
        }
      ]
    },
    {
      "metadata": {
        "id": "VDohF0vp8zhz",
        "outputId": "b8851826-5e6d-48f9-ac0c-4d3fea9e254f",
        "colab": {
          "base_uri": "https://localhost:8080/"
        }
      },
      "cell_type": "code",
      "source": [
        "A = np.random.random((2, 3))\n",
        "print(A)\n",
        "print(A + 1)"
      ],
      "execution_count": 157,
      "outputs": [
        {
          "output_type": "stream",
          "name": "stdout",
          "text": [
            "[[0.45246214 0.80398519 0.42796928]\n",
            " [0.58410506 0.25708834 0.66724473]]\n",
            "[[1.45246214 1.80398519 1.42796928]\n",
            " [1.58410506 1.25708834 1.66724473]]\n"
          ]
        }
      ]
    },
    {
      "metadata": {
        "id": "cDyBixAq88Rq",
        "outputId": "0b2c269b-b697-4d62-a46b-f22ce20a1c28",
        "colab": {
          "base_uri": "https://localhost:8080/"
        }
      },
      "cell_type": "code",
      "source": [
        "A = np.floor(np.random.random((2, 3))*10)\n",
        "print(A)"
      ],
      "execution_count": 158,
      "outputs": [
        {
          "output_type": "stream",
          "name": "stdout",
          "text": [
            "[[5. 5. 1.]\n",
            " [5. 0. 0.]]\n"
          ]
        }
      ]
    },
    {
      "metadata": {
        "id": "83SVLoCV9KI2",
        "outputId": "a40e7fe2-81ee-496f-909f-2176f9313fa9",
        "colab": {
          "base_uri": "https://localhost:8080/"
        }
      },
      "cell_type": "code",
      "source": [
        "u = [1, 2, 3]\n",
        "v = [-1, 0, 1]\n",
        "\n",
        "p1 = np.inner(u, v)\n",
        "print(p1)"
      ],
      "execution_count": 159,
      "outputs": [
        {
          "output_type": "stream",
          "name": "stdout",
          "text": [
            "2\n"
          ]
        }
      ]
    },
    {
      "metadata": {
        "id": "2cTF8Dj39TRW",
        "outputId": "620ee581-bd48-40bb-bb51-d9de9e2ca3bb",
        "colab": {
          "base_uri": "https://localhost:8080/"
        }
      },
      "cell_type": "code",
      "source": [
        "p2 = np.outer(u, v)\n",
        "print(p2)"
      ],
      "execution_count": 160,
      "outputs": [
        {
          "output_type": "stream",
          "name": "stdout",
          "text": [
            "[[-1  0  1]\n",
            " [-2  0  2]\n",
            " [-3  0  3]]\n"
          ]
        }
      ]
    },
    {
      "metadata": {
        "id": "8bvV3VLf9YAk",
        "outputId": "908b3715-bde7-4d46-e388-aa83a852f94c",
        "colab": {
          "base_uri": "https://localhost:8080/"
        }
      },
      "cell_type": "code",
      "source": [
        "A = np.ones((2, 3))\n",
        "B = np.ones((3, 2))\n",
        "np.dot(A, B)"
      ],
      "execution_count": 161,
      "outputs": [
        {
          "output_type": "execute_result",
          "data": {
            "text/plain": [
              "array([[3., 3.],\n",
              "       [3., 3.]])"
            ]
          },
          "metadata": {},
          "execution_count": 161
        }
      ]
    },
    {
      "metadata": {
        "id": "r-1EvJHN9irJ",
        "outputId": "4b19c138-40e5-43dc-88c2-8d10aad1109f",
        "colab": {
          "base_uri": "https://localhost:8080/"
        }
      },
      "cell_type": "code",
      "source": [
        "np.dot(B.T, A.T)"
      ],
      "execution_count": 162,
      "outputs": [
        {
          "output_type": "execute_result",
          "data": {
            "text/plain": [
              "array([[3., 3.],\n",
              "       [3., 3.]])"
            ]
          },
          "metadata": {},
          "execution_count": 162
        }
      ]
    },
    {
      "metadata": {
        "id": "6RKfdl_q9m_S",
        "outputId": "5b6b26f4-4a1c-41f6-d588-06e6d3d4633a",
        "colab": {
          "base_uri": "https://localhost:8080/"
        }
      },
      "cell_type": "code",
      "source": [
        "A = np.ones((2, 3))\n",
        "print(A)"
      ],
      "execution_count": 163,
      "outputs": [
        {
          "output_type": "stream",
          "name": "stdout",
          "text": [
            "[[1. 1. 1.]\n",
            " [1. 1. 1.]]\n"
          ]
        }
      ]
    },
    {
      "metadata": {
        "id": "50bhOhuY9plm",
        "outputId": "758ab48b-08d7-4bbd-913a-08f64c8cecac",
        "colab": {
          "base_uri": "https://localhost:8080/"
        }
      },
      "cell_type": "code",
      "source": [
        "A.sum()"
      ],
      "execution_count": 164,
      "outputs": [
        {
          "output_type": "execute_result",
          "data": {
            "text/plain": [
              "6.0"
            ]
          },
          "metadata": {},
          "execution_count": 164
        }
      ]
    },
    {
      "metadata": {
        "id": "P6y9EEdY9qyD",
        "outputId": "67afa368-6414-48b0-c968-5a529936e897",
        "colab": {
          "base_uri": "https://localhost:8080/"
        }
      },
      "cell_type": "code",
      "source": [
        "A.sum(axis = 0)"
      ],
      "execution_count": 165,
      "outputs": [
        {
          "output_type": "execute_result",
          "data": {
            "text/plain": [
              "array([2., 2., 2.])"
            ]
          },
          "metadata": {},
          "execution_count": 165
        }
      ]
    },
    {
      "metadata": {
        "id": "l87rZ2Bt9v6c",
        "outputId": "fd2da44b-2c37-4b8a-9187-113e1b567f5c",
        "colab": {
          "base_uri": "https://localhost:8080/"
        }
      },
      "cell_type": "code",
      "source": [
        "A.sum(axis = 1)"
      ],
      "execution_count": 166,
      "outputs": [
        {
          "output_type": "execute_result",
          "data": {
            "text/plain": [
              "array([3., 3.])"
            ]
          },
          "metadata": {},
          "execution_count": 166
        }
      ]
    },
    {
      "metadata": {
        "id": "v8j0GuVC9yZM",
        "outputId": "aaa5577b-88c6-4304-d87a-1cdfe39e6d5e",
        "colab": {
          "base_uri": "https://localhost:8080/"
        }
      },
      "cell_type": "code",
      "source": [
        "A.max()"
      ],
      "execution_count": 167,
      "outputs": [
        {
          "output_type": "execute_result",
          "data": {
            "text/plain": [
              "1.0"
            ]
          },
          "metadata": {},
          "execution_count": 167
        }
      ]
    },
    {
      "metadata": {
        "id": "K-8LkSefyrxw"
      },
      "cell_type": "code",
      "source": [
        ""
      ],
      "execution_count": 167,
      "outputs": []
    },
    {
      "metadata": {
        "id": "RcMuyR28zDPw"
      },
      "cell_type": "markdown",
      "source": [
        "# Plotting"
      ]
    },
    {
      "metadata": {
        "id": "F2NwFmsD0NNr"
      },
      "cell_type": "code",
      "source": [
        "import matplotlib.pyplot as plt\n",
        "import numpy as np"
      ],
      "execution_count": 168,
      "outputs": []
    },
    {
      "metadata": {
        "id": "RXIyNRGB0Tfp",
        "colab": {
          "base_uri": "https://localhost:8080/"
        },
        "outputId": "5bad0fca-816f-4489-b63f-86613e3bb214"
      },
      "cell_type": "code",
      "source": [
        "x = np.random.random((10, 1))\n",
        "print(x)"
      ],
      "execution_count": 169,
      "outputs": [
        {
          "output_type": "stream",
          "name": "stdout",
          "text": [
            "[[0.9297085 ]\n",
            " [0.85319392]\n",
            " [0.22454966]\n",
            " [0.61693578]\n",
            " [0.56174135]\n",
            " [0.43293559]\n",
            " [0.29838383]\n",
            " [0.68810144]\n",
            " [0.44857298]\n",
            " [0.4799267 ]]\n"
          ]
        }
      ]
    },
    {
      "metadata": {
        "id": "q25Y0IJG0XPb",
        "colab": {
          "base_uri": "https://localhost:8080/",
          "height": 265
        },
        "outputId": "ad8c816e-4156-4ebb-be82-ecb15276bf7d"
      },
      "cell_type": "code",
      "source": [
        "plt.plot(x, '*-')\n",
        "plt.show()"
      ],
      "execution_count": 170,
      "outputs": [
        {
          "output_type": "display_data",
          "data": {
            "image/png": "[encoded data removed]",
            "text/plain": [
              "<Figure size 432x288 with 1 Axes>"
            ]
          },
          "metadata": {
            "needs_background": "light"
          }
        }
      ]
    },
    {
      "metadata": {
        "id": "xwwFs1JY0ZfN",
        "colab": {
          "base_uri": "https://localhost:8080/",
          "height": 265
        },
        "outputId": "58e6c9a0-2f3f-442f-a48a-2cff1ad99c46"
      },
      "cell_type": "code",
      "source": [
        "x = np.linspace(0, 100, 50)\n",
        "y = np.power(x, 2)\n",
        "plt.plot(x, y, '+')\n",
        "plt.show()"
      ],
      "execution_count": 171,
      "outputs": [
        {
          "output_type": "display_data",
          "data": {
            "image/png": "[encoded data removed]",
            "text/plain": [
              "<Figure size 432x288 with 1 Axes>"
            ]
          },
          "metadata": {
            "needs_background": "light"
          }
        }
      ]
    },
    {
      "metadata": {
        "id": "0tGC0DCB01dx"
      },
      "cell_type": "code",
      "source": [
        "import seaborn as sns"
      ],
      "execution_count": 172,
      "outputs": []
    },
    {
      "metadata": {
        "id": "WNdO9A1F1HkN"
      },
      "cell_type": "code",
      "source": [
        "sns.set()"
      ],
      "execution_count": 173,
      "outputs": []
    },
    {
      "metadata": {
        "id": "usDEQ0Sm1Iu5",
        "colab": {
          "base_uri": "https://localhost:8080/",
          "height": 323
        },
        "outputId": "124668ba-a73c-4c06-bb27-fa2a5dbd878e"
      },
      "cell_type": "code",
      "source": [
        "sns.lineplot(x, y)\n",
        "plt.show()"
      ],
      "execution_count": 174,
      "outputs": [
        {
          "output_type": "stream",
          "name": "stderr",
          "text": [
            "/usr/local/lib/python3.7/dist-packages/seaborn/_decorators.py:43: FutureWarning: Pass the following variables as keyword args: x, y. From version 0.12, the only valid positional argument will be `data`, and passing other arguments without an explicit keyword will result in an error or misinterpretation.\n",
            "  FutureWarning\n"
          ]
        },
        {
          "output_type": "display_data",
          "data": {
            "image/png": "[encoded data removed]",
            "text/plain": [
              "<Figure size 432x288 with 1 Axes>"
            ]
          },
          "metadata": {}
        }
      ]
    },
    {
      "metadata": {
        "id": "9JmBRLjl1Vc9",
        "colab": {
          "base_uri": "https://localhost:8080/"
        },
        "outputId": "eac1d063-c7cc-4137-e12e-029d4333e5c7"
      },
      "cell_type": "code",
      "source": [
        "!wget https://www.dropbox.com/s/w94odi4aq1k44lf/mobile_cleaned.csv"
      ],
      "execution_count": 175,
      "outputs": [
        {
          "output_type": "stream",
          "name": "stdout",
          "text": [
            "--2022-01-26 10:44:29--  https://www.dropbox.com/s/w94odi4aq1k44lf/mobile_cleaned.csv\n",
            "Resolving www.dropbox.com (www.dropbox.com)... 162.125.65.18, 2620:100:6021:18::a27d:4112\n",
            "Connecting to www.dropbox.com (www.dropbox.com)|162.125.65.18|:443... connected.\n",
            "HTTP request sent, awaiting response... 301 Moved Permanently\n",
            "Location: /s/raw/w94odi4aq1k44lf/mobile_cleaned.csv [following]\n",
            "--2022-01-26 10:44:29--  https://www.dropbox.com/s/raw/w94odi4aq1k44lf/mobile_cleaned.csv\n",
            "Reusing existing connection to www.dropbox.com:443.\n",
            "HTTP request sent, awaiting response... 404 Not Found\n",
            "2022-01-26 10:44:29 ERROR 404: Not Found.\n",
            "\n"
          ]
        }
      ]
    },
    {
      "metadata": {
        "id": "TuW2gohJ1vpH",
        "colab": {
          "base_uri": "https://localhost:8080/"
        },
        "outputId": "8a7680e9-cae0-4932-9899-e11b978a1eef"
      },
      "cell_type": "code",
      "source": [
        "!ls"
      ],
      "execution_count": 176,
      "outputs": [
        {
          "output_type": "stream",
          "name": "stdout",
          "text": [
            "my_first_module.py  __pycache__  sample_data\n"
          ]
        }
      ]
    },
    {
      "metadata": {
        "id": "8MTCMQFG1xeh",
        "colab": {
          "base_uri": "https://localhost:8080/",
          "height": 270
        },
        "outputId": "91f720d6-03e5-4100-a8ea-8f7dd0d68c6d"
      },
      "cell_type": "code",
      "source": [
        "import pandas as pd\n",
        "data = pd.read_csv('mobile_cleaned.csv')\n",
        "data.head()"
      ],
      "execution_count": 185,
      "outputs": [
        {
          "output_type": "execute_result",
          "data": {
            "text/html": [
              "\n",
              "  <div id=\"df-0bbbf79e-fbd3-4751-97b5-fc62af90ae9d\">\n",
              "    <div class=\"colab-df-container\">\n",
              "      <div>\n",
              "<style scoped>\n",
              "    .dataframe tbody tr th:only-of-type {\n",
              "        vertical-align: middle;\n",
              "    }\n",
              "\n",
              "    .dataframe tbody tr th {\n",
              "        vertical-align: top;\n",
              "    }\n",
              "\n",
              "    .dataframe thead th {\n",
              "        text-align: right;\n",
              "    }\n",
              "</style>\n",
              "<table border=\"1\" class=\"dataframe\">\n",
              "  <thead>\n",
              "    <tr style=\"text-align: right;\">\n",
              "      <th></th>\n",
              "      <th>sim_type</th>\n",
              "      <th>aperture</th>\n",
              "      <th>gpu_rank</th>\n",
              "      <th>weight</th>\n",
              "      <th>stand_by_time</th>\n",
              "      <th>processor_frequency</th>\n",
              "      <th>thickness</th>\n",
              "      <th>flash_type</th>\n",
              "      <th>front_camera_resolution</th>\n",
              "      <th>auto_focus</th>\n",
              "      <th>screen_size</th>\n",
              "      <th>frames_per_second</th>\n",
              "      <th>FM</th>\n",
              "      <th>no_of_reviews_in_gsmarena_in_week</th>\n",
              "      <th>os</th>\n",
              "      <th>phone_height</th>\n",
              "      <th>screen_protection</th>\n",
              "      <th>sim_size</th>\n",
              "      <th>price</th>\n",
              "      <th>talk_time</th>\n",
              "      <th>video_resolution</th>\n",
              "      <th>display_resolution</th>\n",
              "      <th>removable_battery</th>\n",
              "      <th>display_type</th>\n",
              "      <th>primary_camera_resolution</th>\n",
              "      <th>battery_type</th>\n",
              "      <th>ram_memory</th>\n",
              "      <th>internal_memory</th>\n",
              "      <th>brand_rank</th>\n",
              "      <th>no_of_cores</th>\n",
              "      <th>micro_sd_slot</th>\n",
              "      <th>screen_pixel_density</th>\n",
              "      <th>water_proof_rate</th>\n",
              "      <th>phone_width</th>\n",
              "      <th>expandable_memory</th>\n",
              "      <th>version</th>\n",
              "      <th>usb_type</th>\n",
              "      <th>battery_capacity</th>\n",
              "      <th>processor_rank</th>\n",
              "      <th>is_liked</th>\n",
              "    </tr>\n",
              "  </thead>\n",
              "  <tbody>\n",
              "    <tr>\n",
              "      <th>0</th>\n",
              "      <td>0</td>\n",
              "      <td>12</td>\n",
              "      <td>55</td>\n",
              "      <td>155.0</td>\n",
              "      <td>250</td>\n",
              "      <td>1.3</td>\n",
              "      <td>10.5</td>\n",
              "      <td>5</td>\n",
              "      <td>2.00</td>\n",
              "      <td>0</td>\n",
              "      <td>4.5</td>\n",
              "      <td>15</td>\n",
              "      <td>3</td>\n",
              "      <td>0</td>\n",
              "      <td>0</td>\n",
              "      <td>132.9</td>\n",
              "      <td>26</td>\n",
              "      <td>3</td>\n",
              "      <td>3870</td>\n",
              "      <td>9</td>\n",
              "      <td>480</td>\n",
              "      <td>12</td>\n",
              "      <td>3</td>\n",
              "      <td>11</td>\n",
              "      <td>5.00</td>\n",
              "      <td>1</td>\n",
              "      <td>1</td>\n",
              "      <td>7</td>\n",
              "      <td>29</td>\n",
              "      <td>6</td>\n",
              "      <td>4</td>\n",
              "      <td>2</td>\n",
              "      <td>3</td>\n",
              "      <td>67.8</td>\n",
              "      <td>64.0</td>\n",
              "      <td>5</td>\n",
              "      <td>3</td>\n",
              "      <td>2000</td>\n",
              "      <td>125</td>\n",
              "      <td>1</td>\n",
              "    </tr>\n",
              "    <tr>\n",
              "      <th>1</th>\n",
              "      <td>0</td>\n",
              "      <td>1</td>\n",
              "      <td>55</td>\n",
              "      <td>132.0</td>\n",
              "      <td>300</td>\n",
              "      <td>1.3</td>\n",
              "      <td>10.6</td>\n",
              "      <td>5</td>\n",
              "      <td>0.30</td>\n",
              "      <td>1</td>\n",
              "      <td>4.0</td>\n",
              "      <td>30</td>\n",
              "      <td>2</td>\n",
              "      <td>6</td>\n",
              "      <td>0</td>\n",
              "      <td>124.5</td>\n",
              "      <td>26</td>\n",
              "      <td>5</td>\n",
              "      <td>4059</td>\n",
              "      <td>9</td>\n",
              "      <td>720</td>\n",
              "      <td>15</td>\n",
              "      <td>3</td>\n",
              "      <td>11</td>\n",
              "      <td>5.00</td>\n",
              "      <td>1</td>\n",
              "      <td>1</td>\n",
              "      <td>7</td>\n",
              "      <td>11</td>\n",
              "      <td>6</td>\n",
              "      <td>4</td>\n",
              "      <td>4</td>\n",
              "      <td>6</td>\n",
              "      <td>64.0</td>\n",
              "      <td>32.0</td>\n",
              "      <td>5</td>\n",
              "      <td>3</td>\n",
              "      <td>2000</td>\n",
              "      <td>165</td>\n",
              "      <td>1</td>\n",
              "    </tr>\n",
              "    <tr>\n",
              "      <th>2</th>\n",
              "      <td>0</td>\n",
              "      <td>9</td>\n",
              "      <td>55</td>\n",
              "      <td>142.0</td>\n",
              "      <td>329</td>\n",
              "      <td>1.5</td>\n",
              "      <td>8.5</td>\n",
              "      <td>5</td>\n",
              "      <td>2.00</td>\n",
              "      <td>3</td>\n",
              "      <td>5.0</td>\n",
              "      <td>30</td>\n",
              "      <td>2</td>\n",
              "      <td>20</td>\n",
              "      <td>0</td>\n",
              "      <td>145.5</td>\n",
              "      <td>4</td>\n",
              "      <td>3</td>\n",
              "      <td>4777</td>\n",
              "      <td>10</td>\n",
              "      <td>1080</td>\n",
              "      <td>4</td>\n",
              "      <td>3</td>\n",
              "      <td>1</td>\n",
              "      <td>5.04</td>\n",
              "      <td>2</td>\n",
              "      <td>1</td>\n",
              "      <td>7</td>\n",
              "      <td>27</td>\n",
              "      <td>6</td>\n",
              "      <td>4</td>\n",
              "      <td>9</td>\n",
              "      <td>6</td>\n",
              "      <td>72.0</td>\n",
              "      <td>32.0</td>\n",
              "      <td>6</td>\n",
              "      <td>3</td>\n",
              "      <td>2500</td>\n",
              "      <td>164</td>\n",
              "      <td>0</td>\n",
              "    </tr>\n",
              "    <tr>\n",
              "      <th>3</th>\n",
              "      <td>0</td>\n",
              "      <td>8</td>\n",
              "      <td>55</td>\n",
              "      <td>152.0</td>\n",
              "      <td>385</td>\n",
              "      <td>1.3</td>\n",
              "      <td>8.0</td>\n",
              "      <td>5</td>\n",
              "      <td>2.00</td>\n",
              "      <td>3</td>\n",
              "      <td>5.0</td>\n",
              "      <td>15</td>\n",
              "      <td>3</td>\n",
              "      <td>0</td>\n",
              "      <td>0</td>\n",
              "      <td>147.5</td>\n",
              "      <td>26</td>\n",
              "      <td>3</td>\n",
              "      <td>5799</td>\n",
              "      <td>19</td>\n",
              "      <td>720</td>\n",
              "      <td>17</td>\n",
              "      <td>3</td>\n",
              "      <td>2</td>\n",
              "      <td>5.00</td>\n",
              "      <td>1</td>\n",
              "      <td>1</td>\n",
              "      <td>7</td>\n",
              "      <td>4</td>\n",
              "      <td>6</td>\n",
              "      <td>4</td>\n",
              "      <td>1</td>\n",
              "      <td>3</td>\n",
              "      <td>75.1</td>\n",
              "      <td>32.0</td>\n",
              "      <td>6</td>\n",
              "      <td>3</td>\n",
              "      <td>3000</td>\n",
              "      <td>165</td>\n",
              "      <td>1</td>\n",
              "    </tr>\n",
              "    <tr>\n",
              "      <th>4</th>\n",
              "      <td>1</td>\n",
              "      <td>1</td>\n",
              "      <td>55</td>\n",
              "      <td>234.0</td>\n",
              "      <td>385</td>\n",
              "      <td>1.3</td>\n",
              "      <td>7.9</td>\n",
              "      <td>5</td>\n",
              "      <td>1.92</td>\n",
              "      <td>3</td>\n",
              "      <td>5.0</td>\n",
              "      <td>15</td>\n",
              "      <td>3</td>\n",
              "      <td>0</td>\n",
              "      <td>0</td>\n",
              "      <td>179.0</td>\n",
              "      <td>18</td>\n",
              "      <td>3</td>\n",
              "      <td>5990</td>\n",
              "      <td>11</td>\n",
              "      <td>720</td>\n",
              "      <td>17</td>\n",
              "      <td>3</td>\n",
              "      <td>1</td>\n",
              "      <td>5.00</td>\n",
              "      <td>1</td>\n",
              "      <td>1</td>\n",
              "      <td>7</td>\n",
              "      <td>4</td>\n",
              "      <td>6</td>\n",
              "      <td>4</td>\n",
              "      <td>1</td>\n",
              "      <td>6</td>\n",
              "      <td>91.0</td>\n",
              "      <td>32.0</td>\n",
              "      <td>6</td>\n",
              "      <td>3</td>\n",
              "      <td>3000</td>\n",
              "      <td>165</td>\n",
              "      <td>0</td>\n",
              "    </tr>\n",
              "  </tbody>\n",
              "</table>\n",
              "</div>\n",
              "      <button class=\"colab-df-convert\" onclick=\"convertToInteractive('df-0bbbf79e-fbd3-4751-97b5-fc62af90ae9d')\"\n",
              "              title=\"Convert this dataframe to an interactive table.\"\n",
              "              style=\"display:none;\">\n",
              "        \n",
              "  <svg xmlns=\"http://www.w3.org/2000/svg\" height=\"24px\"viewBox=\"0 0 24 24\"\n",
              "       width=\"24px\">\n",
              "    <path d=\"M0 0h24v24H0V0z\" fill=\"none\"/>\n",
              "    <path d=\"M18.56 5.44l.94 2.06.94-2.06 2.06-.94-2.06-.94-.94-2.06-.94 2.06-2.06.94zm-11 1L8.5 8.5l.94-2.06 2.06-.94-2.06-.94L8.5 2.5l-.94 2.06-2.06.94zm10 10l.94 2.06.94-2.06 2.06-.94-2.06-.94-.94-2.06-.94 2.06-2.06.94z\"/><path d=\"M17.41 7.96l-1.37-1.37c-.4-.4-.92-.59-1.43-.59-.52 0-1.04.2-1.43.59L10.3 9.45l-7.72 7.72c-.78.78-.78 2.05 0 2.83L4 21.41c.39.39.9.59 1.41.59.51 0 1.02-.2 1.41-.59l7.78-7.78 2.81-2.81c.8-.78.8-2.07 0-2.86zM5.41 20L4 18.59l7.72-7.72 1.47 1.35L5.41 20z\"/>\n",
              "  </svg>\n",
              "      </button>\n",
              "      \n",
              "  <style>\n",
              "    .colab-df-container {\n",
              "      display:flex;\n",
              "      flex-wrap:wrap;\n",
              "      gap: 12px;\n",
              "    }\n",
              "\n",
              "    .colab-df-convert {\n",
              "      background-color: #E8F0FE;\n",
              "      border: none;\n",
              "      border-radius: 50%;\n",
              "      cursor: pointer;\n",
              "      display: none;\n",
              "      fill: #1967D2;\n",
              "      height: 32px;\n",
              "      padding: 0 0 0 0;\n",
              "      width: 32px;\n",
              "    }\n",
              "\n",
              "    .colab-df-convert:hover {\n",
              "      background-color: #E2EBFA;\n",
              "      box-shadow: 0px 1px 2px rgba(60, 64, 67, 0.3), 0px 1px 3px 1px rgba(60, 64, 67, 0.15);\n",
              "      fill: #174EA6;\n",
              "    }\n",
              "\n",
              "    [theme=dark] .colab-df-convert {\n",
              "      background-color: #3B4455;\n",
              "      fill: #D2E3FC;\n",
              "    }\n",
              "\n",
              "    [theme=dark] .colab-df-convert:hover {\n",
              "      background-color: #434B5C;\n",
              "      box-shadow: 0px 1px 3px 1px rgba(0, 0, 0, 0.15);\n",
              "      filter: drop-shadow(0px 1px 2px rgba(0, 0, 0, 0.3));\n",
              "      fill: #FFFFFF;\n",
              "    }\n",
              "  </style>\n",
              "\n",
              "      <script>\n",
              "        const buttonEl =\n",
              "          document.querySelector('#df-0bbbf79e-fbd3-4751-97b5-fc62af90ae9d button.colab-df-convert');\n",
              "        buttonEl.style.display =\n",
              "          google.colab.kernel.accessAllowed ? 'block' : 'none';\n",
              "\n",
              "        async function convertToInteractive(key) {\n",
              "          const element = document.querySelector('#df-0bbbf79e-fbd3-4751-97b5-fc62af90ae9d');\n",
              "          const dataTable =\n",
              "            await google.colab.kernel.invokeFunction('convertToInteractive',\n",
              "                                                     [key], {});\n",
              "          if (!dataTable) return;\n",
              "\n",
              "          const docLinkHtml = 'Like what you see? Visit the ' +\n",
              "            '<a target=\"_blank\" href=https://colab.research.google.com/notebooks/data_table.ipynb>data table notebook</a>'\n",
              "            + ' to learn more about interactive tables.';\n",
              "          element.innerHTML = '';\n",
              "          dataTable['output_type'] = 'display_data';\n",
              "          await google.colab.output.renderOutput(dataTable, element);\n",
              "          const docLink = document.createElement('div');\n",
              "          docLink.innerHTML = docLinkHtml;\n",
              "          element.appendChild(docLink);\n",
              "        }\n",
              "      </script>\n",
              "    </div>\n",
              "  </div>\n",
              "  "
            ],
            "text/plain": [
              "   sim_type  aperture  gpu_rank  ...  battery_capacity  processor_rank  is_liked\n",
              "0         0        12        55  ...              2000             125         1\n",
              "1         0         1        55  ...              2000             165         1\n",
              "2         0         9        55  ...              2500             164         0\n",
              "3         0         8        55  ...              3000             165         1\n",
              "4         1         1        55  ...              3000             165         0\n",
              "\n",
              "[5 rows x 40 columns]"
            ]
          },
          "metadata": {},
          "execution_count": 185
        }
      ]
    },
    {
      "metadata": {
        "id": "5tCFDbiF14HM",
        "colab": {
          "base_uri": "https://localhost:8080/",
          "height": 285
        },
        "outputId": "37173cfc-007c-4097-e5f4-2a2cca006d5b"
      },
      "cell_type": "code",
      "source": [
        "ax = sns.scatterplot(x=\"stand_by_time\", y=\"battery_capacity\", data=data)"
      ],
      "execution_count": 186,
      "outputs": [
        {
          "output_type": "display_data",
          "data": {
            "image/png": "[encoded data removed]",
            "text/plain": [
              "<Figure size 432x288 with 1 Axes>"
            ]
          },
          "metadata": {}
        }
      ]
    },
    {
      "metadata": {
        "id": "4kUBm6WF2Eid",
        "colab": {
          "base_uri": "https://localhost:8080/",
          "height": 285
        },
        "outputId": "ccbfdeb8-96ef-472a-f1ea-08727f37376c"
      },
      "cell_type": "code",
      "source": [
        "ax = sns.scatterplot(x = \"stand_by_time\", y = \"battery_capacity\", hue=\"thickness\", data=data)"
      ],
      "execution_count": 187,
      "outputs": [
        {
          "output_type": "display_data",
          "data": {
            "image/png": "[encoded data removed]",
            "text/plain": [
              "<Figure size 432x288 with 1 Axes>"
            ]
          },
          "metadata": {}
        }
      ]
    },
    {
      "metadata": {
        "id": "Tjfgfhag2Xoh",
        "colab": {
          "base_uri": "https://localhost:8080/",
          "height": 340
        },
        "outputId": "067f5fd2-d9c2-497b-b1c9-0c727c6740a7"
      },
      "cell_type": "code",
      "source": [
        "ax = sns.distplot(data[\"stand_by_time\"])"
      ],
      "execution_count": 188,
      "outputs": [
        {
          "output_type": "stream",
          "name": "stderr",
          "text": [
            "/usr/local/lib/python3.7/dist-packages/seaborn/distributions.py:2619: FutureWarning: `distplot` is a deprecated function and will be removed in a future version. Please adapt your code to use either `displot` (a figure-level function with similar flexibility) or `histplot` (an axes-level function for histograms).\n",
            "  warnings.warn(msg, FutureWarning)\n"
          ]
        },
        {
          "output_type": "display_data",
          "data": {
            "image/png": "[encoded data removed]",
            "text/plain": [
              "<Figure size 432x288 with 1 Axes>"
            ]
          },
          "metadata": {}
        }
      ]
    },
    {
      "metadata": {
        "id": "bV9DgHe12haU",
        "colab": {
          "base_uri": "https://localhost:8080/",
          "height": 374
        },
        "outputId": "32d87d7d-b0ba-4bad-d120-42152b90a37b"
      },
      "cell_type": "code",
      "source": [
        "ax = sns.distplot(data[\"stand_by_time\"], kde=False, rug=True, bins = 20)"
      ],
      "execution_count": 189,
      "outputs": [
        {
          "output_type": "stream",
          "name": "stderr",
          "text": [
            "/usr/local/lib/python3.7/dist-packages/seaborn/distributions.py:2619: FutureWarning: `distplot` is a deprecated function and will be removed in a future version. Please adapt your code to use either `displot` (a figure-level function with similar flexibility) or `histplot` (an axes-level function for histograms).\n",
            "  warnings.warn(msg, FutureWarning)\n",
            "/usr/local/lib/python3.7/dist-packages/seaborn/distributions.py:2103: FutureWarning: The `axis` variable is no longer used and will be removed. Instead, assign variables directly to `x` or `y`.\n",
            "  warnings.warn(msg, FutureWarning)\n"
          ]
        },
        {
          "output_type": "display_data",
          "data": {
            "image/png": "[encoded data removed]",
            "text/plain": [
              "<Figure size 432x288 with 1 Axes>"
            ]
          },
          "metadata": {}
        }
      ]
    },
    {
      "metadata": {
        "id": "iP9zrLI92t89",
        "colab": {
          "base_uri": "https://localhost:8080/",
          "height": 285
        },
        "outputId": "d320dc0d-0a90-447b-8eaa-274b13226944"
      },
      "cell_type": "code",
      "source": [
        "ax = sns.boxplot(x=\"is_liked\", y=\"battery_capacity\", data=data)"
      ],
      "execution_count": 190,
      "outputs": [
        {
          "output_type": "display_data",
          "data": {
            "image/png": "[encoded data removed]",
            "text/plain": [
              "<Figure size 432x288 with 1 Axes>"
            ]
          },
          "metadata": {}
        }
      ]
    },
    {
      "metadata": {
        "id": "p4UoIsEY29zx",
        "colab": {
          "base_uri": "https://localhost:8080/",
          "height": 285
        },
        "outputId": "d25ddb16-dffb-4e79-eab7-0985335c9a24"
      },
      "cell_type": "code",
      "source": [
        "ax = sns.boxplot(x = \"expandable_memory\", y = \"price\", data=data)"
      ],
      "execution_count": 191,
      "outputs": [
        {
          "output_type": "display_data",
          "data": {
            "image/png": "[encoded data removed]",
            "text/plain": [
              "<Figure size 432x288 with 1 Axes>"
            ]
          },
          "metadata": {}
        }
      ]
    },
    {
      "metadata": {
        "id": "syqEvEkB3O1e",
        "colab": {
          "base_uri": "https://localhost:8080/"
        },
        "outputId": "1018633b-e5ac-4052-b2fe-9e505606c53b"
      },
      "cell_type": "code",
      "source": [
        "uniform_data = np.random.rand(10, 12)\n",
        "print(uniform_data)"
      ],
      "execution_count": 192,
      "outputs": [
        {
          "output_type": "stream",
          "name": "stdout",
          "text": [
            "[[0.8236458  0.97187074 0.26114661 0.01195022 0.29404429 0.11062291\n",
            "  0.64200486 0.06719837 0.54029238 0.14165183 0.02501355 0.29467811]\n",
            " [0.94187932 0.70051538 0.18984359 0.54838905 0.36451183 0.25376391\n",
            "  0.65996279 0.58408989 0.85111555 0.04533858 0.93594694 0.29352338]\n",
            " [0.77289382 0.15651831 0.55390176 0.84610933 0.93000889 0.04968731\n",
            "  0.01263916 0.42085991 0.6433513  0.80505203 0.69339641 0.20520342]\n",
            " [0.99194915 0.39448636 0.46899205 0.93793441 0.40571279 0.16741599\n",
            "  0.73448734 0.44388862 0.68676779 0.95451184 0.24052697 0.33090336]\n",
            " [0.86501308 0.41443513 0.24895955 0.23874182 0.82133981 0.86328179\n",
            "  0.83454103 0.58213474 0.31144932 0.58935544 0.19431265 0.24661082]\n",
            " [0.69708089 0.8806012  0.32859619 0.97375621 0.73067209 0.56845634\n",
            "  0.55907234 0.90434984 0.02111091 0.11950464 0.32507993 0.6633092 ]\n",
            " [0.7097975  0.38086025 0.32319804 0.83236752 0.03257624 0.79636008\n",
            "  0.59131133 0.17670579 0.48288482 0.63051726 0.69648665 0.8055224 ]\n",
            " [0.89278313 0.44922389 0.15010561 0.94308265 0.28262624 0.49988966\n",
            "  0.99551733 0.7514128  0.74649519 0.33775647 0.09166728 0.26477122]\n",
            " [0.17783394 0.34059283 0.02689961 0.0254865  0.54838653 0.95824711\n",
            "  0.20932325 0.58830378 0.61762495 0.25201709 0.18534271 0.59041535]\n",
            " [0.07436687 0.76228014 0.72151968 0.31401873 0.71947757 0.22878129\n",
            "  0.19068947 0.2891088  0.96687602 0.55696324 0.4855209  0.36814615]]\n"
          ]
        }
      ]
    },
    {
      "metadata": {
        "id": "BcF0aSUl3bye",
        "colab": {
          "base_uri": "https://localhost:8080/",
          "height": 268
        },
        "outputId": "7dde815a-3ba9-487e-b471-754fc5b4b0fd"
      },
      "cell_type": "code",
      "source": [
        "ax = sns.heatmap(uniform_data, cmap=\"YlGnBu\")"
      ],
      "execution_count": 193,
      "outputs": [
        {
          "output_type": "display_data",
          "data": {
            "image/png": "[encoded data removed]",
            "text/plain": [
              "<Figure size 432x288 with 2 Axes>"
            ]
          },
          "metadata": {}
        }
      ]
    },
    {
      "metadata": {
        "id": "VVR75RpL3fCQ",
        "colab": {
          "base_uri": "https://localhost:8080/"
        },
        "outputId": "628bf7bd-0eef-4635-a10a-d2e9393159b1"
      },
      "cell_type": "code",
      "source": [
        "!wget https://s3.amazonaws.com/thinkific-import/153034/3f9yaVLKTyUGmlBPcSOA_logo_long.png"
      ],
      "execution_count": 194,
      "outputs": [
        {
          "output_type": "stream",
          "name": "stdout",
          "text": [
            "--2022-01-26 11:39:34--  https://s3.amazonaws.com/thinkific-import/153034/3f9yaVLKTyUGmlBPcSOA_logo_long.png\n",
            "Resolving s3.amazonaws.com (s3.amazonaws.com)... 52.217.172.200\n",
            "Connecting to s3.amazonaws.com (s3.amazonaws.com)|52.217.172.200|:443... connected.\n",
            "HTTP request sent, awaiting response... 200 OK\n",
            "Length: 27958 (27K) [image/png]\n",
            "Saving to: ‘3f9yaVLKTyUGmlBPcSOA_logo_long.png’\n",
            "\n",
            "3f9yaVLKTyUGmlBPcSO 100%[===================>]  27.30K  --.-KB/s    in 0.08s   \n",
            "\n",
            "2022-01-26 11:39:34 (324 KB/s) - ‘3f9yaVLKTyUGmlBPcSOA_logo_long.png’ saved [27958/27958]\n",
            "\n"
          ]
        }
      ]
    },
    {
      "metadata": {
        "id": "7-Q_iKju3wdR",
        "colab": {
          "base_uri": "https://localhost:8080/"
        },
        "outputId": "e59e3f09-170b-4a2c-e5b9-b44ae5c409a7"
      },
      "cell_type": "code",
      "source": [
        "!ls"
      ],
      "execution_count": 195,
      "outputs": [
        {
          "output_type": "stream",
          "name": "stdout",
          "text": [
            "3f9yaVLKTyUGmlBPcSOA_logo_long.png  my_first_module.py\tsample_data\n",
            "mobile_cleaned.csv\t\t    __pycache__\n"
          ]
        }
      ]
    },
    {
      "metadata": {
        "id": "KgkiVMM33xww"
      },
      "cell_type": "code",
      "source": [
        "!mv 3f9yaVLKTyUGmlBPcSOA_logo_long.png onefourthlabs.png"
      ],
      "execution_count": 196,
      "outputs": []
    },
    {
      "metadata": {
        "id": "22iOaO2G31eE",
        "colab": {
          "base_uri": "https://localhost:8080/"
        },
        "outputId": "5d710a83-f157-456f-ef37-00d3554cebf6"
      },
      "cell_type": "code",
      "source": [
        "!ls"
      ],
      "execution_count": 197,
      "outputs": [
        {
          "output_type": "stream",
          "name": "stdout",
          "text": [
            "mobile_cleaned.csv  onefourthlabs.png  sample_data\n",
            "my_first_module.py  __pycache__\n"
          ]
        }
      ]
    },
    {
      "metadata": {
        "id": "9Vq30WyH32ni"
      },
      "cell_type": "code",
      "source": [
        "import matplotlib.image as mpimg"
      ],
      "execution_count": 198,
      "outputs": []
    },
    {
      "metadata": {
        "id": "wSI9QFqL37hU"
      },
      "cell_type": "code",
      "source": [
        "img = mpimg.imread('onefourthlabs.png')"
      ],
      "execution_count": 199,
      "outputs": []
    },
    {
      "metadata": {
        "id": "pfmD9rIm3_B9",
        "colab": {
          "base_uri": "https://localhost:8080/"
        },
        "outputId": "30ae0911-ef4e-4315-8c73-3099de789310"
      },
      "cell_type": "code",
      "source": [
        "print(img)"
      ],
      "execution_count": 200,
      "outputs": [
        {
          "output_type": "stream",
          "name": "stdout",
          "text": [
            "[[[0. 0. 0. 0.]\n",
            "  [0. 0. 0. 0.]\n",
            "  [0. 0. 0. 0.]\n",
            "  ...\n",
            "  [0. 0. 0. 0.]\n",
            "  [0. 0. 0. 0.]\n",
            "  [0. 0. 0. 0.]]\n",
            "\n",
            " [[0. 0. 0. 0.]\n",
            "  [0. 0. 0. 0.]\n",
            "  [0. 0. 0. 0.]\n",
            "  ...\n",
            "  [0. 0. 0. 0.]\n",
            "  [0. 0. 0. 0.]\n",
            "  [0. 0. 0. 0.]]\n",
            "\n",
            " [[0. 0. 0. 0.]\n",
            "  [0. 0. 0. 0.]\n",
            "  [0. 0. 0. 0.]\n",
            "  ...\n",
            "  [0. 0. 0. 0.]\n",
            "  [0. 0. 0. 0.]\n",
            "  [0. 0. 0. 0.]]\n",
            "\n",
            " ...\n",
            "\n",
            " [[0. 0. 0. 0.]\n",
            "  [0. 0. 0. 0.]\n",
            "  [0. 0. 0. 0.]\n",
            "  ...\n",
            "  [0. 0. 0. 0.]\n",
            "  [0. 0. 0. 0.]\n",
            "  [0. 0. 0. 0.]]\n",
            "\n",
            " [[0. 0. 0. 0.]\n",
            "  [0. 0. 0. 0.]\n",
            "  [0. 0. 0. 0.]\n",
            "  ...\n",
            "  [0. 0. 0. 0.]\n",
            "  [0. 0. 0. 0.]\n",
            "  [0. 0. 0. 0.]]\n",
            "\n",
            " [[0. 0. 0. 0.]\n",
            "  [0. 0. 0. 0.]\n",
            "  [0. 0. 0. 0.]\n",
            "  ...\n",
            "  [0. 0. 0. 0.]\n",
            "  [0. 0. 0. 0.]\n",
            "  [0. 0. 0. 0.]]]\n"
          ]
        }
      ]
    },
    {
      "metadata": {
        "id": "jw3eIxBa4BBb",
        "colab": {
          "base_uri": "https://localhost:8080/",
          "height": 139
        },
        "outputId": "7b625104-d9ce-43bc-8216-a074027c9df7"
      },
      "cell_type": "code",
      "source": [
        "imgplot = plt.imshow(img)"
      ],
      "execution_count": 201,
      "outputs": [
        {
          "output_type": "display_data",
          "data": {
            "image/png": "[encoded data removed]",
            "text/plain": [
              "<Figure size 432x288 with 1 Axes>"
            ]
          },
          "metadata": {}
        }
      ]
    },
    {
      "metadata": {
        "id": "46sl8tGg6E5n"
      },
      "cell_type": "markdown",
      "source": [
        "# Pandas"
      ]
    },
    {
      "metadata": {
        "id": "5ra4u9GU6GiY"
      },
      "cell_type": "code",
      "source": [
        ""
      ],
      "execution_count": 201,
      "outputs": []
    }
  ]
}